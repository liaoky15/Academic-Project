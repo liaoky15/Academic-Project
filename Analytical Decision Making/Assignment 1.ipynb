{
  "nbformat": 4,
  "nbformat_minor": 0,
  "metadata": {
    "colab": {
      "provenance": []
    },
    "kernelspec": {
      "name": "python3",
      "display_name": "Python 3"
    },
    "language_info": {
      "name": "python"
    }
  },
  "cells": [
    {
      "cell_type": "markdown",
      "source": [
        "## Analytic Decision Making Homework 1"
      ],
      "metadata": {
        "id": "JPevd627WUHL"
      }
    },
    {
      "cell_type": "markdown",
      "source": [
        "### Exercise 1: Operations Excellence"
      ],
      "metadata": {
        "id": "inbiE8e8WY1_"
      }
    },
    {
      "cell_type": "markdown",
      "source": [
        "#### 1. Write the optimization models for each plant"
      ],
      "metadata": {
        "id": "ISaD0aJtpCZa"
      }
    },
    {
      "cell_type": "markdown",
      "source": [
        "**BIC**:\n",
        "\n",
        "**Decision Variables**: $x_1$ (standard units), $x_2$ (deluxe)\n",
        "\n",
        "**Objective Function**: maximize $10x_1 + 15x_2$\n",
        "\n",
        "**Contraints**:\n",
        "\n",
        "$ 4x_1 + 2x_2 \\le 80$\n",
        "\n",
        "$ 2x_1 + 5x_2 \\le 60$\n",
        "\n",
        "$ 4x_1 + 4x_2 \\le 75$\n",
        "\n",
        "$ x_1, x_2 \\ge 0$\n",
        "\n",
        "\n",
        "\n",
        "**CIB**:\n",
        "\n",
        "**Decision Variables**: $y_1$ (standard units), $y_2$ (deluxe)\n",
        "\n",
        "**Objective Function**: maximize $10y_1 + 15y_2$\n",
        "\n",
        "**Contraints**:\n",
        "\n",
        "$ 5y_1 + 3y_2 \\le 60$\n",
        "\n",
        "$ 5y_1 + 6y_2 \\le 75$\n",
        "\n",
        "$ 4y_1 + 4y_2 \\le 45$\n",
        "\n",
        "$ y_1, y_2 \\ge 0$"
      ],
      "metadata": {
        "id": "2r85ESXQpOfE"
      }
    },
    {
      "cell_type": "markdown",
      "source": [
        "#### 2. Provide the optimal solutions and profit levels for each factory. Give the values of the decision variables and the optimal objective function value."
      ],
      "metadata": {
        "id": "IMkVC8-b2Bsu"
      }
    },
    {
      "cell_type": "code",
      "execution_count": null,
      "metadata": {
        "colab": {
          "base_uri": "https://localhost:8080/"
        },
        "id": "oOO02ClfWPD9",
        "outputId": "a460ba06-8965-4765-e863-ed8bc9c17cda"
      },
      "outputs": [
        {
          "output_type": "stream",
          "name": "stdout",
          "text": [
            "Optimal solution for BIC Site:\n",
            "Standard product (x1): 10.0\n",
            "Deluxe product (x2): 8.0\n",
            "Maximum profit: 220.0\n",
            "\n",
            "Optimal solution for CIB Site:\n",
            "Standard product (y1): 0.0\n",
            "Deluxe product (y2): 11.0\n",
            "Maximum profit: 165.0\n"
          ]
        }
      ],
      "source": [
        "# this section of code contains partial help from Claude and previous class exercises.\n",
        "import cvxpy as cvx\n",
        "\n",
        "# Define decision variables\n",
        "x1 = cvx.Variable(integer=True)  # Standard product\n",
        "x2 = cvx.Variable(integer=True)  # Deluxe product\n",
        "\n",
        "y1 = cvx.Variable(integer=True)  # Standard product\n",
        "y2 = cvx.Variable(integer=True)  # Deluxe product\n",
        "\n",
        "# Constraints\n",
        "con_x = [\n",
        "    4 * x1 + 2 * x2 <= 80,  # Cooking capacity\n",
        "    2 * x1 + 5 * x2 <= 60,  # Filtering capacity\n",
        "    4 * x1 + 4 * x2 <= 75,  # Raw material\n",
        "    x1 >= 0, x2 >= 0\n",
        "]\n",
        "\n",
        "con_y = [\n",
        "    5 * y1 + 3 * y2 <= 60,  # Cooking capacity\n",
        "    5 * y1 + 6 * y2 <= 75,  # Filtering capacity\n",
        "    4 * y1 + 4 * y2 <= 45,  # Raw material\n",
        "    y1 >= 0, y2 >= 0\n",
        "]\n",
        "\n",
        "# Objective function\n",
        "obj_x = cvx.Maximize(10 * x1 + 15 * x2)\n",
        "obj_y = cvx.Maximize(10 * y1 + 15 * y2)\n",
        "\n",
        "# Solve the problem\n",
        "problem_x = cvx.Problem(obj_x, con_x)\n",
        "problem_y = cvx.Problem(obj_y, con_y)\n",
        "\n",
        "problem_x.solve()\n",
        "problem_y.solve()\n",
        "\n",
        "# Print the optimal solution\n",
        "print(\"Optimal solution for BIC Site:\")\n",
        "print(f\"Standard product (x1): {x1.value}\")\n",
        "print(f\"Deluxe product (x2): {x2.value}\")\n",
        "print(f\"Maximum profit: {round(problem_x.value,2)}\")\n",
        "\n",
        "print(\"\\nOptimal solution for CIB Site:\")\n",
        "print(f\"Standard product (y1): {y1.value}\")\n",
        "print(f\"Deluxe product (y2): {y2.value}\")\n",
        "print(f\"Maximum profit: {round(problem_y.value,2)}\")"
      ]
    },
    {
      "cell_type": "markdown",
      "source": [
        "#### 3. Write the optimization model for the joint optimization of both sites."
      ],
      "metadata": {
        "id": "cHqRmR584zIT"
      }
    },
    {
      "cell_type": "code",
      "source": [
        "# this section of code contains partial help from Claude and previous class exercises.\n",
        "import cvxpy as cvx\n",
        "\n",
        "# Define decision variables\n",
        "x1 = cvx.Variable(integer=True)  # Standard product at BIC\n",
        "x2 = cvx.Variable(integer=True)  # Deluxe product at BIC\n",
        "y1 = cvx.Variable(integer=True)  # Standard product at CIB\n",
        "y2 = cvx.Variable(integer=True)  # Deluxe product at CIB\n",
        "\n",
        "# Objective function\n",
        "profit = 10 * x1 + 15 * x2 + 10 * y1 + 15 * y2\n",
        "\n",
        "# Constraints\n",
        "constraints = [\n",
        "    4 * x1 + 2 * x2 <= 80,  # Cooking capacity for BIC\n",
        "    2 * x1 + 5 * x2 <= 60,  # Filtering capacity for BIC\n",
        "    5 * y1 + 3 * y2 <= 60,  # Cooking capacity for CIB\n",
        "    5 * y1 + 6 * y2 <= 75,  # Filtering capacity for CIB\n",
        "    4 * x1 + 4 * x2 + 4 * y1 + 4 * y2 <= 120,  # Raw material constraint\n",
        "    x1 >= 0, x2 >= 0, y1 >= 0, y2 >= 0\n",
        "]\n",
        "\n",
        "# Problem formulation\n",
        "problem = cvx.Problem(cvx.Maximize(profit), constraints)\n",
        "\n",
        "# Solve the problem\n",
        "problem.solve()\n",
        "\n",
        "# Print the optimal solution\n",
        "print(\"Optimal solution for joint optimization:\")\n",
        "print(f\"Standard product at BIC (x1): {x1.value}\")\n",
        "print(f\"Deluxe product at BIC (x2): {x2.value}\")\n",
        "print(f\"Standard product at CIB (y1): {y1.value}\")\n",
        "print(f\"Deluxe product at CIB (y2): {y2.value}\")\n",
        "print(f\"Maximum profit: {round(problem.value,2)}\")"
      ],
      "metadata": {
        "colab": {
          "base_uri": "https://localhost:8080/"
        },
        "id": "PyDrj7Vd-5Wo",
        "outputId": "d7d6fcc7-54af-4baa-ae44-b8bc8cb1d88d"
      },
      "execution_count": null,
      "outputs": [
        {
          "output_type": "stream",
          "name": "stdout",
          "text": [
            "Optimal solution for joint optimization:\n",
            "Standard product at BIC (x1): 10.0\n",
            "Deluxe product at BIC (x2): 8.0\n",
            "Standard product at CIB (y1): 0.0\n",
            "Deluxe product at CIB (y2): 12.0\n",
            "Maximum profit: 400.0\n"
          ]
        }
      ]
    },
    {
      "cell_type": "markdown",
      "source": [
        "#### 4. Please comment on the results\n",
        "\n",
        "After joining the 2 sites, we do not need to worry about the distribution of raw materials. We can now optimize the use of the entire 120kg of raw materials without reaching a boundary on other contraints. Thus, leading to a better overall profit."
      ],
      "metadata": {
        "id": "LTgeQIRJ2Q7d"
      }
    },
    {
      "cell_type": "markdown",
      "source": [
        "#### 5. Recommendations to the CEO to improve the firm's operations.\n",
        "\n",
        "Here are some potential recommendations:\n",
        "\n",
        "1. From running the joint optimization, we notice that the allocation of raw material is not optimal, causing the profit not to be maximized. Please considering reallocating the raw materials between the 2 sites in order to better balance production and maximize overall profit.\n",
        "2. From another perspective, the production capacity at BIC is not enought to handle the amount of current raw material level. Therefore, considering expansion or upgrades to increase production capabilities is another appraoch to maximize profit."
      ],
      "metadata": {
        "id": "CU-R2yoGCyvl"
      }
    },
    {
      "cell_type": "markdown",
      "source": [
        "### Exercise 2: Hotel L'Escargot"
      ],
      "metadata": {
        "id": "vZG3eTqyDJ8_"
      }
    },
    {
      "cell_type": "markdown",
      "source": [
        "#### 1. According to the regression equation, which variables positively/negatively affect Profitability?\n",
        "\n",
        "\"Price of the inn\" and \"college students in the Area\" are 2 variables that positively impact profitability. On the other hand, \"state population per inn\" and \"square root of the median income in the area\" negatively affect profitability. Intuitively, this does not make sense because the higher the median income, the more money the population tend to spend, thus creating more potential profit for the inn."
      ],
      "metadata": {
        "id": "BcbbUWe8Qhfa"
      }
    },
    {
      "cell_type": "markdown",
      "source": [
        "#### 2. Using the spreadsheet, compute the profitability for each hotel. Which one has the highest profitabiity? Which one has the lowest profitability?"
      ],
      "metadata": {
        "id": "2je4U7rLrLLl"
      }
    },
    {
      "cell_type": "code",
      "source": [
        "# this section of code contains partial help from Claude\n",
        "import pandas as pd\n",
        "\n",
        "# Load the Excel file\n",
        "xls = pd.ExcelFile('Lescargot.xlsx')\n",
        "data = pd.read_excel(xls, sheet_name='Sheet1', header=2)\n",
        "\n",
        "# Write a function to calculate profitability\n",
        "def compute_profitability(row):\n",
        "    state_pop_per_inn = row['State Population Per Inn (normalized)']\n",
        "    price = row['Price (normalized)']\n",
        "    sqrt_median_income = row['Square Root of Median Income (normalized)']\n",
        "    college_students = row['College Students in Area (normalized)']\n",
        "\n",
        "    profitability = 39.05 - (5.41 * state_pop_per_inn) + (5.86 * price) - (3.09 * sqrt_median_income) + (1.75 * college_students)\n",
        "    return profitability\n",
        "\n",
        "# Apply the function to each row of the DataFrame\n",
        "data['Profitability'] = data.apply(compute_profitability, axis=1)\n",
        "\n",
        "# Print the DataFrame with the computed profitability\n",
        "print(data.sort_values(by='Profitability', ascending=False))"
      ],
      "metadata": {
        "colab": {
          "base_uri": "https://localhost:8080/"
        },
        "id": "SJtCP8sjssS5",
        "outputId": "86a46305-b00e-4c30-bc0b-4081923e9f37"
      },
      "execution_count": null,
      "outputs": [
        {
          "output_type": "stream",
          "name": "stdout",
          "text": [
            "    Hotel                      Location     Price  Price (normalized)  \\\n",
            "1       2            Fresno, California  10000000            1.699076   \n",
            "5       6        Long Beach, California   8950000            1.402123   \n",
            "0       1            Eureka, California   2925000           -0.301823   \n",
            "2       3            Fresno, California   3750000           -0.068503   \n",
            "3       4            Fresno, California   3500000           -0.139206   \n",
            "13     14  South Lake Tahoe, California   3750000           -0.068503   \n",
            "11     12  South Lake Tahoe, California   2500000           -0.422019   \n",
            "12     13  South Lake Tahoe, California   1975000           -0.570495   \n",
            "9      10  South Lake Tahoe, California   1650000           -0.662409   \n",
            "14     15  South Lake Tahoe, California   1475000           -0.711902   \n",
            "10     11  South Lake Tahoe, California   1125000           -0.810886   \n",
            "15     16  South Lake Tahoe, California    750000           -0.916941   \n",
            "4       5            Fresno, California    325000           -1.037136   \n",
            "8       9       Los Angeles, California   4900000            0.256732   \n",
            "6       7       Los Angeles, California   1950000           -0.577566   \n",
            "7       8       Los Angeles, California   1750000           -0.634128   \n",
            "\n",
            "    Square Root of Median Income (normalized)  \\\n",
            "1                                   -0.408199   \n",
            "5                                    0.657845   \n",
            "0                                   -0.812780   \n",
            "2                                   -0.408199   \n",
            "3                                   -0.408199   \n",
            "13                                  -0.791006   \n",
            "11                                  -0.791006   \n",
            "12                                  -0.791006   \n",
            "9                                   -0.791006   \n",
            "14                                  -0.791006   \n",
            "10                                  -0.791006   \n",
            "15                                  -0.791006   \n",
            "4                                   -0.408199   \n",
            "8                                    0.167686   \n",
            "6                                    0.167686   \n",
            "7                                    0.167686   \n",
            "\n",
            "    College Students in Area (normalized)  \\\n",
            "1                                0.311669   \n",
            "5                                0.483711   \n",
            "0                               -0.536413   \n",
            "2                                0.311669   \n",
            "3                                0.311669   \n",
            "13                              -0.594905   \n",
            "11                              -0.594905   \n",
            "12                              -0.594905   \n",
            "9                               -0.594905   \n",
            "14                              -0.594905   \n",
            "10                              -0.594905   \n",
            "15                              -0.594905   \n",
            "4                                0.311669   \n",
            "8                                3.106215   \n",
            "6                                3.106215   \n",
            "7                                3.106215   \n",
            "\n",
            "    State Population Per Inn (normalized)  Profitability  \n",
            "1                               -0.474279      53.379192  \n",
            "5                               -0.557278      49.095069  \n",
            "0                               -0.995987      44.242369  \n",
            "2                               -0.474279      43.021179  \n",
            "3                               -0.474279      42.606858  \n",
            "13                              -0.426851      42.360966  \n",
            "11                              -0.426851      40.289363  \n",
            "12                              -0.426851      39.419290  \n",
            "9                               -0.426851      38.880673  \n",
            "14                              -0.426851      38.590649  \n",
            "10                              -0.426851      38.010600  \n",
            "15                              -0.426851      37.389119  \n",
            "4                               -0.474279      37.344988  \n",
            "8                                3.106530      28.665848  \n",
            "6                                3.106530      23.776866  \n",
            "7                                3.106530      23.445409  \n"
          ]
        },
        {
          "output_type": "stream",
          "name": "stderr",
          "text": [
            "/usr/local/lib/python3.10/dist-packages/openpyxl/worksheet/_reader.py:329: UserWarning: Unknown extension is not supported and will be removed\n",
            "  warn(msg)\n"
          ]
        }
      ]
    },
    {
      "cell_type": "markdown",
      "source": [
        "According to the regression equation, hotel 2 has the highest profitability, and hotel 8 has the lowest."
      ],
      "metadata": {
        "id": "-xicms9I-25x"
      }
    },
    {
      "cell_type": "markdown",
      "source": [
        "#### 3. L'Escargot has a budget of \\$10 million to spend on hotels. Suppose we use a “greedy” approach where we select the most profitable hotels until we ran out of budget. So we would start by the most profitable, and then if we had enough budget left, we would buy the hotel we predict to be the second most profitable, and so on.\n",
        "* **Describe what we would do with this approach, i.e., which hotels would we purchase?**\n",
        "\n",
        "  Using this method, we can only afford hotel 2.\n",
        "\n",
        "* **What would our total predicted profitability be? (This is the sum of the predicted profitability of all hotels we purchase.)**\n",
        "\n",
        "  The total profitability is 53.38\n",
        "\n",
        "* **If we are trying to maximize our total predicted profitability, is this a good approach? How about if we were trying to maximize the average predicted profitability of the hotels we select? How about if we had a budget of \\$20 million instead of \\$10 million?**\n",
        "\n",
        "  No matter if we are trying to maximize our total predicted profitability, average profitability, or if we have higher budget, this is not the best approach. Instead, we could use linear programming to find the optimal way of buying hotels."
      ],
      "metadata": {
        "id": "H2RO-ytJ_DED"
      }
    },
    {
      "cell_type": "markdown",
      "source": [
        "#### 4. Now, build an optimization model to select hotels given the $10 million budget.\n",
        "\n",
        "\n"
      ],
      "metadata": {
        "id": "qL4ELTnMDa7B"
      }
    },
    {
      "cell_type": "markdown",
      "source": [
        "**Write out the optimization problem. Make sure to detail the decision variables, the objective function and the constraints.**\n",
        "\n",
        "* *Decision variable* :\n",
        "  \n",
        "  $x_i$ (binary variable indicating whether a hotel is chosen or not)\n",
        "\n",
        "* *Objective function* :\n",
        "\n",
        "  maximize $\\sum\\limits_{i=1}^n (profitability_i × x_i)$\n",
        "\n",
        "\n",
        "* *Constraints* :\n",
        "\n",
        "  $\\sum\\limits_{i=1}^n (price_i × x_i) \\le 10,000,000$"
      ],
      "metadata": {
        "id": "uuSLj0AZD9uZ"
      }
    },
    {
      "cell_type": "code",
      "source": [
        "#ignore warning messages\n",
        "import warnings\n",
        "warnings.filterwarnings(\"ignore\")"
      ],
      "metadata": {
        "id": "mZWB9UFvN921"
      },
      "execution_count": null,
      "outputs": []
    },
    {
      "cell_type": "code",
      "source": [
        "# this section of code contains partial help from Claude and previous class exercises.\n",
        "import cvxpy as cp\n",
        "import pandas as pd\n",
        "\n",
        "# Define decision variables\n",
        "num_hotels = len(data)\n",
        "x = cp.Variable(num_hotels, boolean=True) # binary\n",
        "\n",
        "# Objective function: Maximize total predicted profitability\n",
        "profitability = data['Profitability'].values\n",
        "objective = cp.Maximize(profitability @ x)\n",
        "\n",
        "# Budget constraint\n",
        "prices = data['Price'].values\n",
        "budget = 10000000\n",
        "budget_constraint = cp.sum(prices * x) <= budget\n",
        "\n",
        "# Problem formulation\n",
        "problem = cp.Problem(objective, [budget_constraint])\n",
        "\n",
        "# Solve the problem\n",
        "problem.solve()\n",
        "\n",
        "# Print the selected hotels and their total predicted profitability\n",
        "selected_hotels = data.iloc[x.value.astype(bool)]\n",
        "total_predicted_profitability = sum(selected_hotels['Profitability'])\n",
        "\n",
        "print(x.value)\n",
        "print(\"Selected hotels:\")\n",
        "print(selected_hotels[['Hotel','Price','Profitability']])\n",
        "print(f\"Total price: ${sum(selected_hotels['Price'])}\")\n",
        "print(f\"Total predicted profitability: {round(total_predicted_profitability,2)}\")"
      ],
      "metadata": {
        "colab": {
          "base_uri": "https://localhost:8080/"
        },
        "id": "wGTj50xz_c-w",
        "outputId": "708bbc26-18d8-42d7-c9e8-4885222d747f"
      },
      "execution_count": null,
      "outputs": [
        {
          "output_type": "stream",
          "name": "stdout",
          "text": [
            "[0. 0. 0. 0. 1. 0. 0. 0. 0. 1. 1. 1. 1. 0. 1. 1.]\n",
            "Selected hotels:\n",
            "    Hotel    Price  Profitability\n",
            "4       5   325000      37.344988\n",
            "9      10  1650000      38.880673\n",
            "10     11  1125000      38.010600\n",
            "11     12  2500000      40.289363\n",
            "12     13  1975000      39.419290\n",
            "14     15  1475000      38.590649\n",
            "15     16   750000      37.389119\n",
            "Total price: $9800000\n",
            "Total predicted profitability: 269.92\n"
          ]
        }
      ]
    },
    {
      "cell_type": "markdown",
      "source": [
        "**What is the optimal solution? Give the values of the decision variables and the optimal objective function value.**\n",
        "\n",
        "Here, we chose hotels 5, 10, 11, 12, 13, 15, and 16. With the total price at \\$9,800,000, and predicted profitability of 269.92.\n",
        "\n",
        "\n",
        "**Does the optimal solution make sense intuitively? How does it compared to the greedy solution?**\n",
        "\n",
        "The optimal solution makes sense intuitively, where it chooses more hotels with a lower price but competitive profitabilities. Even though this solution did not used up all the budget, it has way higher profitability compared to the greedy solution."
      ],
      "metadata": {
        "id": "eOSD2XwRMhCi"
      }
    },
    {
      "cell_type": "markdown",
      "source": [
        "#### 5. L'Escargot thinks that buying too many hotels in one city is probably not a good idea and would prefer to diversify across as many cities as possible. Add constraint(s) to your model to limit the number of hotels purchased in any city to at most 2.\n",
        "\n",
        "**What are the constraints that you need to add to the model? Intuitively, do you expect the new optimal objective function value to be larger, smaller or the same as before?**\n",
        "\n",
        "The new constraints we need to add:\n",
        "\n",
        "$\\sum\\limits_{i=1}^5 x_i ≤ 2$\n",
        "\n",
        "$\\sum\\limits_{i=6}^9 x_i ≤ 2$\n",
        "\n",
        "$\\sum\\limits_{i=10}^16 x_i ≤ 2$\n",
        "\n",
        "Intuitively, I expect the optimal objective function value to be smaller than before since more constraints are added to it.\n",
        "\n",
        "\n",
        "**Write the new optimization model.**\n",
        "* *Decision variable* :\n",
        "  \n",
        "  $x_i$ (binary variable indicating whether a hotel is chosen or not)\n",
        "\n",
        "* *Objective function* :\n",
        "\n",
        "  maximize $\\sum\\limits_{i=1}^n (profitability_i × x_i)$\n",
        "\n",
        "\n",
        "* *Constraints* :\n",
        "\n",
        "  $\\sum\\limits_{i=1}^n (price_i × x_i) \\le 10,000,000$\n",
        "  \n",
        "  $\\sum\\limits_{i=1}^5 x_i ≤ 2$\n",
        "\n",
        "  $\\sum\\limits_{i=6}^9 x_i ≤ 2$\n",
        "\n",
        "  $\\sum\\limits_{i=10}^16 x_i ≤ 2$\n",
        "\n",
        "\n",
        "\n",
        "**Solve the new model. Give the values of the decision variables and the optimal objective function value. How does this compare to the previous solution?**"
      ],
      "metadata": {
        "id": "n0oWvzamPALn"
      }
    },
    {
      "cell_type": "code",
      "source": [
        "# this section of code contains partial help from Claude and previous class exercises.\n",
        "import cvxpy as cp\n",
        "import pandas as pd\n",
        "\n",
        "# Define decision variables\n",
        "num_hotels = len(data)\n",
        "x = cp.Variable(num_hotels, boolean=True) # binary\n",
        "\n",
        "# Objective function: Maximize total predicted profitability\n",
        "profitability = data['Profitability'].values\n",
        "objective = cp.Maximize(profitability @ x)\n",
        "\n",
        "# Budget constraint\n",
        "prices = data['Price'].values\n",
        "budget = 10000000\n",
        "budget_constraint = cp.sum(prices * x) <= budget\n",
        "\n",
        "# new constraints\n",
        "cons = [\n",
        "    x[0]+x[1]+x[2]+x[3]+x[4] <= 2,\n",
        "    x[5]+x[6]+x[7]+x[8] <= 2,\n",
        "    x[9]+x[10]+x[11]+x[12]+x[13]+x[14]+x[15] <= 2\n",
        "]\n",
        "\n",
        "constraints = [budget_constraint] + cons\n",
        "\n",
        "# Problem formulation\n",
        "problem = cp.Problem(objective, constraints)\n",
        "\n",
        "# Solve the problem\n",
        "problem.solve()\n",
        "\n",
        "# Print the selected hotels and their total predicted profitability\n",
        "selected_hotels = data.iloc[x.value.astype(bool)]\n",
        "total_predicted_profitability = sum(selected_hotels['Profitability'])\n",
        "\n",
        "print(x.value)\n",
        "print(\"Selected hotels:\")\n",
        "print(selected_hotels[['Hotel','Price','Profitability']])\n",
        "print(f\"Total price: ${sum(selected_hotels['Price'])}\")\n",
        "print(f\"Total predicted profitability: {round(total_predicted_profitability,2)}\")"
      ],
      "metadata": {
        "colab": {
          "base_uri": "https://localhost:8080/"
        },
        "id": "nhlX6OmnzR5c",
        "outputId": "9bf9ed05-c3e0-4a83-f05c-d53bfa8ed494"
      },
      "execution_count": null,
      "outputs": [
        {
          "output_type": "stream",
          "name": "stdout",
          "text": [
            "[1. 0. 0. 0. 1. 0. 1. 1. 0. 1. 1. 0. 0. 0. 0. 0.]\n",
            "Selected hotels:\n",
            "    Hotel    Price  Profitability\n",
            "0       1  2925000      44.242369\n",
            "4       5   325000      37.344988\n",
            "6       7  1950000      23.776866\n",
            "7       8  1750000      23.445409\n",
            "9      10  1650000      38.880673\n",
            "10     11  1125000      38.010600\n",
            "Total price: $9725000\n",
            "Total predicted profitability: 205.7\n"
          ]
        }
      ]
    },
    {
      "cell_type": "markdown",
      "source": [
        "The optimal objective function value is 205.7, which is a lot lesser than the previous value."
      ],
      "metadata": {
        "id": "xnl5K_wG3PnW"
      }
    },
    {
      "cell_type": "markdown",
      "source": [
        "#### 6. Describe how you would present your results to L'Escargot. Do you have any recommendations for them to improve the regression model? How about to improve the optimization model?\n",
        "\n",
        "Even though the linear regression model has all variables significant, there could still be potential bias and interaction terms that are not considered. I recommend to go further than simply a linear regression model. Instead, the trend could be non-linear and even time related.\n",
        "\n",
        "In terms of optimization model, it is all built based on the foundation of the linear regression model. In this case, it is better to not limit 2 number of hotels in any city, so that total profitability can be optimized."
      ],
      "metadata": {
        "id": "3k5ROHec3dAh"
      }
    },
    {
      "cell_type": "markdown",
      "source": [
        "### Exercise 3: Matching for a Dating Platform"
      ],
      "metadata": {
        "id": "_kjsIH8C-Kt9"
      }
    },
    {
      "cell_type": "markdown",
      "source": [
        "#### 1. Assume all of the individuals in the data set would like to be matched to people of the opposite gender. What matches would you choose to maximize the aggregate match score?"
      ],
      "metadata": {
        "id": "cmgCFW3t-QBV"
      }
    },
    {
      "cell_type": "code",
      "source": [
        "import pandas as pd\n",
        "import numpy as np\n",
        "from numpy import *\n",
        "import math\n",
        "from math import *\n",
        "import cvxpy as cvx\n",
        "from cvxpy import *\n",
        "\n",
        "data_url='https://raw.githubusercontent.com/ormarketing/OD/master/OD.csv'\n",
        "df = pd.read_csv(data_url) #read the dataset\n",
        "\n",
        "k=1\n",
        "nrow=df.shape[0] #yields the number of rows\n",
        "ncol=df.shape[1] #yields the number of columns\n",
        "\n",
        "female=matrix(df[:int(round(nrow/2))].iloc[:,2:].values) #take the numerical values for women\n",
        "male=matrix(df[int(round(nrow/2)):].iloc[:,2:].values) #take the numerical values for men\n",
        "\n",
        "score=matrix(male.dot(female.transpose()).transpose(),'d')\n",
        "\n",
        "x=cvx.Variable((int(nrow/2),int(nrow/2)),boolean=True)\n",
        "\n",
        "objective = cvx.Maximize(sum(cvx.multiply(score,x)))\n",
        "\n",
        "c0=(sum(x,axis=0))<=k\n",
        "c1=(sum(x,axis=1))<=k\n",
        "con=[c0,c1]\n",
        "\n",
        "prob = cvx.Problem(objective, con)\n",
        "result = prob.solve()\n",
        "print(x.value)"
      ],
      "metadata": {
        "colab": {
          "base_uri": "https://localhost:8080/"
        },
        "id": "HPgDbqDx3PCe",
        "outputId": "908ea222-e1af-4ffb-eb14-2bdd78d74674"
      },
      "execution_count": null,
      "outputs": [
        {
          "output_type": "stream",
          "name": "stdout",
          "text": [
            "[[0. 0. 0. 0. 0. 0. 1. 0.]\n",
            " [0. 0. 0. 0. 0. 1. 0. 0.]\n",
            " [0. 0. 0. 0. 1. 0. 0. 0.]\n",
            " [0. 0. 1. 0. 0. 0. 0. 0.]\n",
            " [0. 0. 0. 1. 0. 0. 0. 0.]\n",
            " [0. 0. 0. 0. 0. 0. 0. 1.]\n",
            " [1. 0. 0. 0. 0. 0. 0. 0.]\n",
            " [0. 1. 0. 0. 0. 0. 0. 0.]]\n"
          ]
        }
      ]
    },
    {
      "cell_type": "code",
      "source": [
        "# this section of code contains partial help from Claude\n",
        "# Create a list of matches\n",
        "matches = []\n",
        "for i in range(int(nrow/2)):\n",
        "    for j in range(int(nrow/2)):\n",
        "        if x.value[i, j] == 1:\n",
        "            female_index = i\n",
        "            male_index = j + int(round(nrow/2))\n",
        "            male_name = name_mapping[male_index]\n",
        "            female_name = name_mapping[female_index]\n",
        "            match_score = score[i, j]\n",
        "            matches.append({'Female': female_name, 'Male': male_name, 'Match Score': match_score})\n",
        "\n",
        "# Convert the matches list to a DataFrame\n",
        "matches_df = pd.DataFrame(matches)\n",
        "\n",
        "# Print the matches in a table format\n",
        "print(\"Optimal matches to maximize aggregate match score:\")\n",
        "print(matches_df)"
      ],
      "metadata": {
        "colab": {
          "base_uri": "https://localhost:8080/"
        },
        "id": "VNo5a6G3H4X4",
        "outputId": "4cbcd816-93d6-4f1d-9178-c809db8cca2e"
      },
      "execution_count": null,
      "outputs": [
        {
          "output_type": "stream",
          "name": "stdout",
          "text": [
            "Optimal matches to maximize aggregate match score:\n",
            "     Female    Male  Match Score\n",
            "0     Laura    Carl          8.0\n",
            "1  Jennifer    Adam          6.0\n",
            "2      Emma  Daniel          8.0\n",
            "3    Olivia   Peter          4.0\n",
            "4    Martha    Eric          4.0\n",
            "5  Isabella   Ralph          8.0\n",
            "6      Mary   James          5.0\n",
            "7    Sophia  Robert          5.0\n"
          ]
        }
      ]
    },
    {
      "cell_type": "markdown",
      "source": [
        "#### 2. How would the results change if each person is presented with two possible matches?"
      ],
      "metadata": {
        "id": "kMRUHvyNFsPn"
      }
    },
    {
      "cell_type": "code",
      "source": [
        "data_url='https://raw.githubusercontent.com/ormarketing/OD/master/OD.csv'\n",
        "df = pd.read_csv(data_url) #read the dataset\n",
        "\n",
        "k=2 # allow 2 matches\n",
        "nrow=df.shape[0] #yields the number of rows\n",
        "ncol=df.shape[1] #yields the number of columns\n",
        "\n",
        "female=matrix(df[:int(round(nrow/2))].iloc[:,2:].values) #take the numerical values for women\n",
        "male=matrix(df[int(round(nrow/2)):].iloc[:,2:].values) #take the numerical values for men\n",
        "\n",
        "score=matrix(male.dot(female.transpose()).transpose(),'d')\n",
        "\n",
        "x=cvx.Variable((int(nrow/2),int(nrow/2)),boolean=True)\n",
        "\n",
        "objective = cvx.Maximize(sum(cvx.multiply(score,x)))\n",
        "\n",
        "c0=(sum(x,axis=0))<=k\n",
        "c1=(sum(x,axis=1))<=k\n",
        "con=[c0,c1]\n",
        "\n",
        "prob = cvx.Problem(objective, con)\n",
        "result = prob.solve()\n",
        "print(x.value)"
      ],
      "metadata": {
        "colab": {
          "base_uri": "https://localhost:8080/"
        },
        "id": "kM63QfltFwZ_",
        "outputId": "6b168f3e-fd90-421e-df5b-1b0e342be171"
      },
      "execution_count": null,
      "outputs": [
        {
          "output_type": "stream",
          "name": "stdout",
          "text": [
            "[[0. 0. 0. 0. 0. 1. 1. 0.]\n",
            " [0. 1. 0. 0. 0. 1. 0. 0.]\n",
            " [1. 0. 0. 0. 1. 0. 0. 0.]\n",
            " [0. 0. 0. 0. 0. 0. 1. 1.]\n",
            " [0. 0. 0. 1. 0. 0. 0. 0.]\n",
            " [0. 0. 1. 0. 0. 0. 0. 1.]\n",
            " [1. 0. 1. 0. 0. 0. 0. 0.]\n",
            " [0. 1. 0. 1. 0. 0. 0. 0.]]\n"
          ]
        }
      ]
    },
    {
      "cell_type": "code",
      "source": [
        "# this section of code contains partial help from Claude\n",
        "# Create a list of matches\n",
        "matches = []\n",
        "for i in range(int(nrow/2)):\n",
        "    for j in range(int(nrow/2)):\n",
        "        if x.value[i, j] == 1:\n",
        "            female_index = i\n",
        "            male_index = j + int(round(nrow/2))\n",
        "            male_name = name_mapping[male_index]\n",
        "            female_name = name_mapping[female_index]\n",
        "            match_score = score[i, j]\n",
        "            matches.append({'Female': female_name, 'Male': male_name, 'Match Score': match_score})\n",
        "\n",
        "# Convert the matches list to a DataFrame\n",
        "matches_df = pd.DataFrame(matches)\n",
        "\n",
        "# Print the matches in a table format\n",
        "print(\"Optimal matches to maximize aggregate match score:\")\n",
        "print(matches_df)"
      ],
      "metadata": {
        "colab": {
          "base_uri": "https://localhost:8080/"
        },
        "id": "HYUfrCELIIuI",
        "outputId": "f16e19df-dc31-4799-9e2e-9e29bbb906ba"
      },
      "execution_count": null,
      "outputs": [
        {
          "output_type": "stream",
          "name": "stdout",
          "text": [
            "Optimal matches to maximize aggregate match score:\n",
            "      Female    Male  Match Score\n",
            "0      Laura    Adam          6.0\n",
            "1      Laura    Carl          8.0\n",
            "2   Jennifer  Robert          2.0\n",
            "3   Jennifer    Adam          6.0\n",
            "4       Emma   James          6.0\n",
            "5       Emma  Daniel          8.0\n",
            "6     Olivia    Carl          7.0\n",
            "7     Olivia   Ralph          5.0\n",
            "8     Martha    Eric          4.0\n",
            "9   Isabella   Peter          5.0\n",
            "10  Isabella   Ralph          8.0\n",
            "11      Mary   James          5.0\n",
            "12      Mary   Peter          4.0\n",
            "13    Sophia  Robert          5.0\n",
            "14    Sophia    Eric          4.0\n"
          ]
        }
      ]
    }
  ]
}
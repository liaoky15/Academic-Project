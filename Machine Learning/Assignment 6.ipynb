{
 "cells": [
  {
   "cell_type": "code",
   "execution_count": 71,
   "metadata": {},
   "outputs": [],
   "source": [
    "import pandas as pd\n",
    "import numpy as np\n",
    "import matplotlib.pyplot as plt\n",
    "import seaborn as sns"
   ]
  },
  {
   "cell_type": "code",
   "execution_count": 72,
   "metadata": {
    "scrolled": true
   },
   "outputs": [
    {
     "name": "stdout",
     "output_type": "stream",
     "text": [
      "<class 'pandas.core.frame.DataFrame'>\n",
      "Int64Index: 1781 entries, 0 to 1780\n",
      "Data columns (total 78 columns):\n",
      "Ticker Symbol                                          1781 non-null object\n",
      "Period Ending                                          1781 non-null object\n",
      "Accounts Payable                                       1781 non-null float64\n",
      "Accounts Receivable                                    1781 non-null float64\n",
      "Add'l income/expense items                             1781 non-null float64\n",
      "After Tax ROE                                          1781 non-null float64\n",
      "Capital Expenditures                                   1781 non-null float64\n",
      "Capital Surplus                                        1781 non-null float64\n",
      "Cash Ratio                                             1482 non-null float64\n",
      "Cash and Cash Equivalents                              1781 non-null float64\n",
      "Changes in Inventories                                 1781 non-null float64\n",
      "Common Stocks                                          1781 non-null float64\n",
      "Cost of Revenue                                        1781 non-null float64\n",
      "Current Ratio                                          1482 non-null float64\n",
      "Deferred Asset Charges                                 1781 non-null float64\n",
      "Deferred Liability Charges                             1781 non-null float64\n",
      "Depreciation                                           1781 non-null float64\n",
      "Earnings Before Interest and Tax                       1781 non-null float64\n",
      "Earnings Before Tax                                    1781 non-null float64\n",
      "Effect of Exchange Rate                                1781 non-null float64\n",
      "Equity Earnings/Loss Unconsolidated Subsidiary         1781 non-null float64\n",
      "Fixed Assets                                           1781 non-null float64\n",
      "Goodwill                                               1781 non-null float64\n",
      "Gross Margin                                           1781 non-null float64\n",
      "Gross Profit                                           1781 non-null float64\n",
      "Income Tax                                             1781 non-null float64\n",
      "Intangible Assets                                      1781 non-null float64\n",
      "Interest Expense                                       1781 non-null float64\n",
      "Inventory                                              1781 non-null float64\n",
      "Investments                                            1781 non-null float64\n",
      "Liabilities                                            1781 non-null float64\n",
      "Long-Term Debt                                         1781 non-null float64\n",
      "Long-Term Investments                                  1781 non-null float64\n",
      "Minority Interest                                      1781 non-null float64\n",
      "Misc. Stocks                                           1781 non-null float64\n",
      "Net Borrowings                                         1781 non-null float64\n",
      "Net Cash Flow                                          1781 non-null float64\n",
      "Net Cash Flow-Operating                                1781 non-null float64\n",
      "Net Cash Flows-Financing                               1781 non-null float64\n",
      "Net Cash Flows-Investing                               1781 non-null float64\n",
      "Net Income                                             1781 non-null float64\n",
      "Net Income Adjustments                                 1781 non-null float64\n",
      "Net Income Applicable to Common Shareholders           1781 non-null float64\n",
      "Net Income-Cont. Operations                            1781 non-null float64\n",
      "Net Receivables                                        1781 non-null float64\n",
      "Non-Recurring Items                                    1781 non-null float64\n",
      "Operating Income                                       1781 non-null float64\n",
      "Operating Margin                                       1781 non-null float64\n",
      "Other Assets                                           1781 non-null float64\n",
      "Other Current Assets                                   1781 non-null float64\n",
      "Other Current Liabilities                              1781 non-null float64\n",
      "Other Equity                                           1781 non-null float64\n",
      "Other Financing Activities                             1781 non-null float64\n",
      "Other Investing Activities                             1781 non-null float64\n",
      "Other Liabilities                                      1781 non-null float64\n",
      "Other Operating Activities                             1781 non-null float64\n",
      "Other Operating Items                                  1781 non-null float64\n",
      "Pre-Tax Margin                                         1781 non-null float64\n",
      "Pre-Tax ROE                                            1781 non-null float64\n",
      "Profit Margin                                          1781 non-null float64\n",
      "Quick Ratio                                            1482 non-null float64\n",
      "Research and Development                               1781 non-null float64\n",
      "Retained Earnings                                      1781 non-null float64\n",
      "Sale and Purchase of Stock                             1781 non-null float64\n",
      "Sales, General and Admin.                              1781 non-null float64\n",
      "Short-Term Debt / Current Portion of Long-Term Debt    1781 non-null float64\n",
      "Short-Term Investments                                 1781 non-null float64\n",
      "Total Assets                                           1781 non-null float64\n",
      "Total Current Assets                                   1781 non-null float64\n",
      "Total Current Liabilities                              1781 non-null float64\n",
      "Total Equity                                           1781 non-null float64\n",
      "Total Liabilities                                      1781 non-null float64\n",
      "Total Liabilities & Equity                             1781 non-null float64\n",
      "Total Revenue                                          1781 non-null float64\n",
      "Treasury Stock                                         1781 non-null float64\n",
      "For Year                                               1608 non-null float64\n",
      "Earnings Per Share                                     1562 non-null float64\n",
      "Estimated Shares Outstanding                           1562 non-null float64\n",
      "dtypes: float64(76), object(2)\n",
      "memory usage: 1.1+ MB\n"
     ]
    }
   ],
   "source": [
    "data = pd.read_csv('fundamentals.csv',index_col=0)\n",
    "\n",
    "# remove any unnamed columns\n",
    "data = data.loc[:, ~data.columns.str.contains('^Unnamed')]\n",
    "\n",
    "data.info()"
   ]
  },
  {
   "cell_type": "code",
   "execution_count": 73,
   "metadata": {},
   "outputs": [],
   "source": [
    "# drop 'Ticker Symbol’, ‘Period Ending’, ‘For Year'\n",
    "columns_to_remove = ['Ticker Symbol', 'Period Ending', 'For Year']\n",
    "data = data.drop(columns=columns_to_remove)"
   ]
  },
  {
   "cell_type": "code",
   "execution_count": 74,
   "metadata": {
    "scrolled": false
   },
   "outputs": [
    {
     "name": "stdout",
     "output_type": "stream",
     "text": [
      "Accounts Payable                0\n",
      "Accounts Receivable             0\n",
      "Add'l income/expense items      0\n",
      "After Tax ROE                   0\n",
      "Capital Expenditures            0\n",
      "                               ..\n",
      "Total Liabilities & Equity      0\n",
      "Total Revenue                   0\n",
      "Treasury Stock                  0\n",
      "Earnings Per Share              0\n",
      "Estimated Shares Outstanding    0\n",
      "Length: 75, dtype: int64\n"
     ]
    }
   ],
   "source": [
    "# remove null values\n",
    "data=data.dropna()\n",
    "\n",
    "nulls = data.isnull().sum()\n",
    "print(nulls)"
   ]
  },
  {
   "cell_type": "code",
   "execution_count": 75,
   "metadata": {
    "scrolled": true
   },
   "outputs": [
    {
     "data": {
      "text/html": [
       "<div>\n",
       "<style scoped>\n",
       "    .dataframe tbody tr th:only-of-type {\n",
       "        vertical-align: middle;\n",
       "    }\n",
       "\n",
       "    .dataframe tbody tr th {\n",
       "        vertical-align: top;\n",
       "    }\n",
       "\n",
       "    .dataframe thead th {\n",
       "        text-align: right;\n",
       "    }\n",
       "</style>\n",
       "<table border=\"1\" class=\"dataframe\">\n",
       "  <thead>\n",
       "    <tr style=\"text-align: right;\">\n",
       "      <th></th>\n",
       "      <th>Accounts Payable</th>\n",
       "      <th>Accounts Receivable</th>\n",
       "      <th>Add'l income/expense items</th>\n",
       "      <th>After Tax ROE</th>\n",
       "      <th>Capital Expenditures</th>\n",
       "      <th>Capital Surplus</th>\n",
       "      <th>Cash Ratio</th>\n",
       "      <th>Cash and Cash Equivalents</th>\n",
       "      <th>Changes in Inventories</th>\n",
       "      <th>Common Stocks</th>\n",
       "      <th>...</th>\n",
       "      <th>Total Assets</th>\n",
       "      <th>Total Current Assets</th>\n",
       "      <th>Total Current Liabilities</th>\n",
       "      <th>Total Equity</th>\n",
       "      <th>Total Liabilities</th>\n",
       "      <th>Total Liabilities &amp; Equity</th>\n",
       "      <th>Total Revenue</th>\n",
       "      <th>Treasury Stock</th>\n",
       "      <th>Earnings Per Share</th>\n",
       "      <th>Estimated Shares Outstanding</th>\n",
       "    </tr>\n",
       "  </thead>\n",
       "  <tbody>\n",
       "    <tr>\n",
       "      <td>0</td>\n",
       "      <td>3.068000e+09</td>\n",
       "      <td>-222000000.0</td>\n",
       "      <td>-1.961000e+09</td>\n",
       "      <td>23.0</td>\n",
       "      <td>-1.888000e+09</td>\n",
       "      <td>4.695000e+09</td>\n",
       "      <td>53.0</td>\n",
       "      <td>1.330000e+09</td>\n",
       "      <td>0.0</td>\n",
       "      <td>127000000.0</td>\n",
       "      <td>...</td>\n",
       "      <td>2.351000e+10</td>\n",
       "      <td>7.072000e+09</td>\n",
       "      <td>9.011000e+09</td>\n",
       "      <td>-7.987000e+09</td>\n",
       "      <td>2.489100e+10</td>\n",
       "      <td>1.690400e+10</td>\n",
       "      <td>2.485500e+10</td>\n",
       "      <td>-367000000.0</td>\n",
       "      <td>-5.60</td>\n",
       "      <td>3.350000e+08</td>\n",
       "    </tr>\n",
       "    <tr>\n",
       "      <td>1</td>\n",
       "      <td>4.975000e+09</td>\n",
       "      <td>-93000000.0</td>\n",
       "      <td>-2.723000e+09</td>\n",
       "      <td>67.0</td>\n",
       "      <td>-3.114000e+09</td>\n",
       "      <td>1.059200e+10</td>\n",
       "      <td>75.0</td>\n",
       "      <td>2.175000e+09</td>\n",
       "      <td>0.0</td>\n",
       "      <td>5000000.0</td>\n",
       "      <td>...</td>\n",
       "      <td>4.227800e+10</td>\n",
       "      <td>1.432300e+10</td>\n",
       "      <td>1.380600e+10</td>\n",
       "      <td>-2.731000e+09</td>\n",
       "      <td>4.500900e+10</td>\n",
       "      <td>4.227800e+10</td>\n",
       "      <td>2.674300e+10</td>\n",
       "      <td>0.0</td>\n",
       "      <td>-11.25</td>\n",
       "      <td>1.630222e+08</td>\n",
       "    </tr>\n",
       "    <tr>\n",
       "      <td>2</td>\n",
       "      <td>4.668000e+09</td>\n",
       "      <td>-160000000.0</td>\n",
       "      <td>-1.500000e+08</td>\n",
       "      <td>143.0</td>\n",
       "      <td>-5.311000e+09</td>\n",
       "      <td>1.513500e+10</td>\n",
       "      <td>60.0</td>\n",
       "      <td>1.768000e+09</td>\n",
       "      <td>0.0</td>\n",
       "      <td>7000000.0</td>\n",
       "      <td>...</td>\n",
       "      <td>4.322500e+10</td>\n",
       "      <td>1.175000e+10</td>\n",
       "      <td>1.340400e+10</td>\n",
       "      <td>2.021000e+09</td>\n",
       "      <td>4.120400e+10</td>\n",
       "      <td>4.322500e+10</td>\n",
       "      <td>4.265000e+10</td>\n",
       "      <td>0.0</td>\n",
       "      <td>4.02</td>\n",
       "      <td>7.169154e+08</td>\n",
       "    </tr>\n",
       "    <tr>\n",
       "      <td>3</td>\n",
       "      <td>5.102000e+09</td>\n",
       "      <td>352000000.0</td>\n",
       "      <td>-7.080000e+08</td>\n",
       "      <td>135.0</td>\n",
       "      <td>-6.151000e+09</td>\n",
       "      <td>1.159100e+10</td>\n",
       "      <td>51.0</td>\n",
       "      <td>1.085000e+09</td>\n",
       "      <td>0.0</td>\n",
       "      <td>6000000.0</td>\n",
       "      <td>...</td>\n",
       "      <td>4.841500e+10</td>\n",
       "      <td>9.985000e+09</td>\n",
       "      <td>1.360500e+10</td>\n",
       "      <td>5.635000e+09</td>\n",
       "      <td>4.278000e+10</td>\n",
       "      <td>4.841500e+10</td>\n",
       "      <td>4.099000e+10</td>\n",
       "      <td>0.0</td>\n",
       "      <td>11.39</td>\n",
       "      <td>6.681299e+08</td>\n",
       "    </tr>\n",
       "    <tr>\n",
       "      <td>4</td>\n",
       "      <td>2.409453e+09</td>\n",
       "      <td>-89482000.0</td>\n",
       "      <td>6.000000e+05</td>\n",
       "      <td>32.0</td>\n",
       "      <td>-2.711820e+08</td>\n",
       "      <td>5.202150e+08</td>\n",
       "      <td>23.0</td>\n",
       "      <td>5.981110e+08</td>\n",
       "      <td>-260298000.0</td>\n",
       "      <td>7000.0</td>\n",
       "      <td>...</td>\n",
       "      <td>4.613814e+09</td>\n",
       "      <td>3.184200e+09</td>\n",
       "      <td>2.559638e+09</td>\n",
       "      <td>1.210694e+09</td>\n",
       "      <td>3.403120e+09</td>\n",
       "      <td>4.613814e+09</td>\n",
       "      <td>6.205003e+09</td>\n",
       "      <td>-27095000.0</td>\n",
       "      <td>5.29</td>\n",
       "      <td>7.328355e+07</td>\n",
       "    </tr>\n",
       "  </tbody>\n",
       "</table>\n",
       "<p>5 rows × 75 columns</p>\n",
       "</div>"
      ],
      "text/plain": [
       "   Accounts Payable  Accounts Receivable  Add'l income/expense items  \\\n",
       "0      3.068000e+09         -222000000.0               -1.961000e+09   \n",
       "1      4.975000e+09          -93000000.0               -2.723000e+09   \n",
       "2      4.668000e+09         -160000000.0               -1.500000e+08   \n",
       "3      5.102000e+09          352000000.0               -7.080000e+08   \n",
       "4      2.409453e+09          -89482000.0                6.000000e+05   \n",
       "\n",
       "   After Tax ROE  Capital Expenditures  Capital Surplus  Cash Ratio  \\\n",
       "0           23.0         -1.888000e+09     4.695000e+09        53.0   \n",
       "1           67.0         -3.114000e+09     1.059200e+10        75.0   \n",
       "2          143.0         -5.311000e+09     1.513500e+10        60.0   \n",
       "3          135.0         -6.151000e+09     1.159100e+10        51.0   \n",
       "4           32.0         -2.711820e+08     5.202150e+08        23.0   \n",
       "\n",
       "   Cash and Cash Equivalents  Changes in Inventories  Common Stocks  ...  \\\n",
       "0               1.330000e+09                     0.0    127000000.0  ...   \n",
       "1               2.175000e+09                     0.0      5000000.0  ...   \n",
       "2               1.768000e+09                     0.0      7000000.0  ...   \n",
       "3               1.085000e+09                     0.0      6000000.0  ...   \n",
       "4               5.981110e+08            -260298000.0         7000.0  ...   \n",
       "\n",
       "   Total Assets  Total Current Assets  Total Current Liabilities  \\\n",
       "0  2.351000e+10          7.072000e+09               9.011000e+09   \n",
       "1  4.227800e+10          1.432300e+10               1.380600e+10   \n",
       "2  4.322500e+10          1.175000e+10               1.340400e+10   \n",
       "3  4.841500e+10          9.985000e+09               1.360500e+10   \n",
       "4  4.613814e+09          3.184200e+09               2.559638e+09   \n",
       "\n",
       "   Total Equity  Total Liabilities  Total Liabilities & Equity  Total Revenue  \\\n",
       "0 -7.987000e+09       2.489100e+10                1.690400e+10   2.485500e+10   \n",
       "1 -2.731000e+09       4.500900e+10                4.227800e+10   2.674300e+10   \n",
       "2  2.021000e+09       4.120400e+10                4.322500e+10   4.265000e+10   \n",
       "3  5.635000e+09       4.278000e+10                4.841500e+10   4.099000e+10   \n",
       "4  1.210694e+09       3.403120e+09                4.613814e+09   6.205003e+09   \n",
       "\n",
       "   Treasury Stock  Earnings Per Share  Estimated Shares Outstanding  \n",
       "0    -367000000.0               -5.60                  3.350000e+08  \n",
       "1             0.0              -11.25                  1.630222e+08  \n",
       "2             0.0                4.02                  7.169154e+08  \n",
       "3             0.0               11.39                  6.681299e+08  \n",
       "4     -27095000.0                5.29                  7.328355e+07  \n",
       "\n",
       "[5 rows x 75 columns]"
      ]
     },
     "execution_count": 75,
     "metadata": {},
     "output_type": "execute_result"
    }
   ],
   "source": [
    "data.head()"
   ]
  },
  {
   "cell_type": "markdown",
   "metadata": {},
   "source": [
    "### 1. Split data set with 70% train and 30% test then build random forest model.  Default every (hyper-)parameter then compute MSE."
   ]
  },
  {
   "cell_type": "code",
   "execution_count": 76,
   "metadata": {},
   "outputs": [],
   "source": [
    "from sklearn.model_selection import train_test_split\n",
    "from sklearn.preprocessing import StandardScaler\n",
    "\n",
    "# perform train test split\n",
    "X = data.drop(['Estimated Shares Outstanding'], axis=1)\n",
    "y = data['Estimated Shares Outstanding']\n",
    "\n",
    "X_train, X_test, y_train, y_test = train_test_split(X, y, test_size=0.3, random_state=1)\n",
    "\n",
    "#Scaling the X values\n",
    "scaler = StandardScaler()\n",
    "X_train_scaled = scaler.fit_transform(X_train)\n",
    "X_test_scaled = scaler.transform(X_test)"
   ]
  },
  {
   "cell_type": "code",
   "execution_count": 77,
   "metadata": {},
   "outputs": [
    {
     "name": "stdout",
     "output_type": "stream",
     "text": [
      "MSE:  1.3113918730495368e+17\n",
      "RMSE:  362131450.3118359\n"
     ]
    }
   ],
   "source": [
    "from sklearn.ensemble import RandomForestRegressor, RandomForestClassifier\n",
    "from sklearn.metrics import mean_squared_error, r2_score\n",
    "from math import sqrt\n",
    "\n",
    "# fit a random forest model and compute MSE\n",
    "rf_model = RandomForestRegressor() #default\n",
    "rf_model.fit(X_train_scaled, y_train)\n",
    "prediction = rf_model.predict(X_test_scaled)\n",
    "\n",
    "rmse = sqrt(mean_squared_error(y_test,prediction))\n",
    "\n",
    "print('MSE: ', mean_squared_error(y_test,prediction))\n",
    "print('RMSE: ', rmse)"
   ]
  },
  {
   "cell_type": "markdown",
   "metadata": {},
   "source": [
    "### 2. Build random forest with min_samples_split set to 3.  Compare with the model above."
   ]
  },
  {
   "cell_type": "code",
   "execution_count": 78,
   "metadata": {},
   "outputs": [
    {
     "name": "stdout",
     "output_type": "stream",
     "text": [
      "MSE:  1.3994582442821554e+17\n",
      "RMSE:  374093336.519398\n"
     ]
    }
   ],
   "source": [
    "# fit a random forest model and set min_samples_split to 3\n",
    "rf_model_3 = RandomForestRegressor(min_samples_split = 3)\n",
    "rf_model_3.fit(X_train_scaled, y_train)\n",
    "prediction = rf_model_3.predict(X_test_scaled)\n",
    "\n",
    "rmse = sqrt(mean_squared_error(y_test,prediction))\n",
    "\n",
    "print('MSE: ', mean_squared_error(y_test,prediction))\n",
    "print('RMSE: ', rmse)"
   ]
  },
  {
   "cell_type": "markdown",
   "metadata": {},
   "source": [
    "#### Intepretation:\n",
    "After setting the minimum number of samples required to split an internal node from 2(default) to 3, both MSE and RMSE become higher, indicating higher prediction error. Thus, by looking simply at MSE and RMSE, we can say the model with default number of splits performs better."
   ]
  },
  {
   "cell_type": "markdown",
   "metadata": {},
   "source": [
    "### 3. Use \"Mean Decrease in Impurity\" and \"Permutation Feature Importance\" to compute the variable importance of the random forest in (c).  Explain how each method computes the variable importance and compare their results."
   ]
  },
  {
   "cell_type": "code",
   "execution_count": 79,
   "metadata": {},
   "outputs": [
    {
     "data": {
      "text/plain": [
       "RandomForestRegressor(min_samples_split=3)"
      ]
     },
     "execution_count": 79,
     "metadata": {},
     "output_type": "execute_result"
    }
   ],
   "source": [
    "# use mean decrease in impurity\n",
    "from sklearn.ensemble import RandomForestClassifier\n",
    "\n",
    "feature_names = [f\"feature {i}\" for i in range(X.shape[1])]\n",
    "forest = RandomForestClassifier(random_state=0)\n",
    "rf_model_3.fit(X_train, y_train)"
   ]
  },
  {
   "cell_type": "code",
   "execution_count": 80,
   "metadata": {},
   "outputs": [
    {
     "data": {
      "image/png": "[encoded data removed]",
      "text/plain": [
       "<Figure size 1008x360 with 1 Axes>"
      ]
     },
     "metadata": {
      "needs_background": "light"
     },
     "output_type": "display_data"
    }
   ],
   "source": [
    "importances = rf_model_3.feature_importances_\n",
    "forest_importances = pd.Series(importances, index=feature_names)\n",
    "\n",
    "fig, ax = plt.subplots(figsize=(14, 5))\n",
    "forest_importances.plot.bar()\n",
    "ax.set_title(\"Feature importances using MDI\")\n",
    "ax.set_ylabel(\"Mean decrease in impurity\")\n",
    "fig.tight_layout()"
   ]
  },
  {
   "cell_type": "markdown",
   "metadata": {},
   "source": [
    "#### Intepretation:\n",
    "Mean Decrease in Impurity is a method based on decision trees and the calculation of impurity. This method finds the importance of a feature by calculating the reduction in impurity.\n",
    "\n",
    "Graphing mean decrease in impurity, we can see there are a few features that have wider range. Higher number indicates the feature is more important in terms of making decisions."
   ]
  },
  {
   "cell_type": "code",
   "execution_count": 81,
   "metadata": {},
   "outputs": [],
   "source": [
    "# use Permutation Feature Importance\n",
    "from sklearn.inspection import permutation_importance\n",
    "\n",
    "result = permutation_importance(\n",
    "    rf_model_3, X_test, y_test, n_repeats=10, random_state=42, n_jobs=2\n",
    ")\n",
    "\n",
    "forest_importances = pd.Series(result.importances_mean, index=feature_names)"
   ]
  },
  {
   "cell_type": "code",
   "execution_count": 82,
   "metadata": {},
   "outputs": [
    {
     "data": {
      "image/png": "[encoded data removed]",
      "text/plain": [
       "<Figure size 1008x360 with 1 Axes>"
      ]
     },
     "metadata": {
      "needs_background": "light"
     },
     "output_type": "display_data"
    }
   ],
   "source": [
    "fig, ax = plt.subplots(figsize=(14, 5))\n",
    "forest_importances.plot.bar()\n",
    "ax.set_title(\"Feature importances using permutation on full model\")\n",
    "ax.set_ylabel(\"Mean accuracy decrease\")\n",
    "fig.tight_layout()\n",
    "plt.show()"
   ]
  },
  {
   "cell_type": "markdown",
   "metadata": {},
   "source": [
    "#### Intepretation:\n",
    "The results from Mean Decrease in Impurity and Permutation Feature Importance do not differ much. Nearly all the same features stood out from the rest. However, we notice a few differences.\n",
    "\n",
    "Permutation Feature Importance is a method measuring the importance of variables by calculating the model performance when a variable is randomly permuted.\n",
    "\n",
    "There are negative values for the permutation feature importance plot, and some features have different level of important according to the two different methods."
   ]
  },
  {
   "cell_type": "markdown",
   "metadata": {},
   "source": [
    "### 4. Use the same split to build lasso regression.  Compare with the last model."
   ]
  },
  {
   "cell_type": "code",
   "execution_count": 83,
   "metadata": {},
   "outputs": [
    {
     "name": "stdout",
     "output_type": "stream",
     "text": [
      "Best alpha: 1.0\n",
      "The R-sqaured is 0.7946781846880651 and the rmse is 441525277.212611\n"
     ]
    }
   ],
   "source": [
    "# Compare the OOS performance with that of a LASSO Logistic Regression Model\n",
    "from sklearn.linear_model import ElasticNet, Lasso, LassoCV, BayesianRidge, LassoLarsIC\n",
    "from sklearn.preprocessing import StandardScaler\n",
    "import warnings\n",
    "warnings.filterwarnings(\"ignore\")\n",
    "\n",
    "\n",
    "X = data.drop(['Estimated Shares Outstanding'], axis=1)\n",
    "y = data['Estimated Shares Outstanding']\n",
    "\n",
    "X_train, X_test, y_train, y_test = train_test_split(X, y, test_size=0.3, random_state=1) # same split\n",
    "\n",
    "\n",
    "#Scaling the X values\n",
    "scaler = StandardScaler()\n",
    "X_train_scaled = scaler.fit_transform(X_train)\n",
    "X_test_scaled = scaler.transform(X_test)\n",
    "\n",
    "#Creating the lambda test values\n",
    "alphas = np.logspace(-6, 0, 100)\n",
    "\n",
    "#Creating 5 folds\n",
    "k = 5\n",
    "n = len(y_train)\n",
    "\n",
    "#Shuffling the data\n",
    "indices = np.arange(n)\n",
    "np.random.shuffle(indices)\n",
    "\n",
    "X_cv = X_train_scaled[indices]\n",
    "y_cv = y_train.iloc[indices]\n",
    "\n",
    "avg_rmse=[]\n",
    "for alpha in alphas:\n",
    "    rmse_list = []\n",
    "    \n",
    "    # Manual k-fold splitting\n",
    "    for fold in range(k):\n",
    "        # Calculating the size of each fold\n",
    "        fold_size = n // k\n",
    "        \n",
    "        # Define the start and end indices of the test set\n",
    "        start, end = fold * fold_size, (fold + 1) * fold_size\n",
    "        \n",
    "        test_indices = indices[start:end]\n",
    "        train_indices = np.concatenate((indices[:start], indices[end:]))\n",
    "        \n",
    "        X_train_cv, X_test_cv = X_cv[train_indices], X_cv[test_indices]\n",
    "        y_train_cv, y_test_cv = y_cv.iloc[train_indices], y_cv.iloc[test_indices]\n",
    "        \n",
    "        lasso = Lasso(alpha=alpha)\n",
    "        \n",
    "        lasso.fit(X_train_cv, y_train_cv)\n",
    "        \n",
    "        y_pred_cv = lasso.predict(X_test_cv)\n",
    "        rmse = np.sqrt(mean_squared_error(y_test_cv, y_pred_cv))\n",
    "        \n",
    "        rmse_list.append(rmse)\n",
    "        \n",
    "    avg_rmse.append(np.mean(rmse_list))\n",
    "\n",
    "#Finding the best alpha\n",
    "best_alpha = alphas[np.argmin(avg_rmse)]\n",
    "print(f\"Best alpha: {best_alpha}\")\n",
    "\n",
    "lasso = Lasso(alpha=best_alpha)\n",
    "lasso.fit(X_train_scaled, y_train)\n",
    "\n",
    "y_pred = lasso.predict(X_test_scaled)\n",
    "\n",
    "rmse = sqrt(mean_squared_error(y_test, y_pred))\n",
    "r2 = r2_score(y_test, y_pred)\n",
    "\n",
    "print(f\"The R-sqaured is {r2} and the rmse is {rmse}\")"
   ]
  },
  {
   "cell_type": "markdown",
   "metadata": {},
   "source": [
    "We can see that the lasso regression model results in a higher RSME, suggesting higher levels of residuals and less accurate prediction. Therefore, we can say the random forest model with 2 splits performs better than lasso regression."
   ]
  },
  {
   "cell_type": "markdown",
   "metadata": {},
   "source": [
    "## Decision Tree Classification  \n",
    "### 5. Use the breast cancer dataset to build decision tree classifier to predict the diagnosis.  Split the data into 70% train and 30% test."
   ]
  },
  {
   "cell_type": "code",
   "execution_count": 84,
   "metadata": {},
   "outputs": [
    {
     "data": {
      "text/html": [
       "<div>\n",
       "<style scoped>\n",
       "    .dataframe tbody tr th:only-of-type {\n",
       "        vertical-align: middle;\n",
       "    }\n",
       "\n",
       "    .dataframe tbody tr th {\n",
       "        vertical-align: top;\n",
       "    }\n",
       "\n",
       "    .dataframe thead th {\n",
       "        text-align: right;\n",
       "    }\n",
       "</style>\n",
       "<table border=\"1\" class=\"dataframe\">\n",
       "  <thead>\n",
       "    <tr style=\"text-align: right;\">\n",
       "      <th></th>\n",
       "      <th>diagnosis</th>\n",
       "      <th>radius_mean</th>\n",
       "      <th>texture_mean</th>\n",
       "      <th>perimeter_mean</th>\n",
       "      <th>area_mean</th>\n",
       "      <th>smoothness_mean</th>\n",
       "      <th>compactness_mean</th>\n",
       "      <th>concavity_mean</th>\n",
       "      <th>concave points_mean</th>\n",
       "      <th>symmetry_mean</th>\n",
       "      <th>...</th>\n",
       "      <th>radius_worst</th>\n",
       "      <th>texture_worst</th>\n",
       "      <th>perimeter_worst</th>\n",
       "      <th>area_worst</th>\n",
       "      <th>smoothness_worst</th>\n",
       "      <th>compactness_worst</th>\n",
       "      <th>concavity_worst</th>\n",
       "      <th>concave points_worst</th>\n",
       "      <th>symmetry_worst</th>\n",
       "      <th>fractal_dimension_worst</th>\n",
       "    </tr>\n",
       "  </thead>\n",
       "  <tbody>\n",
       "    <tr>\n",
       "      <td>0</td>\n",
       "      <td>M</td>\n",
       "      <td>17.99</td>\n",
       "      <td>10.38</td>\n",
       "      <td>122.80</td>\n",
       "      <td>1001.0</td>\n",
       "      <td>0.11840</td>\n",
       "      <td>0.27760</td>\n",
       "      <td>0.3001</td>\n",
       "      <td>0.14710</td>\n",
       "      <td>0.2419</td>\n",
       "      <td>...</td>\n",
       "      <td>25.38</td>\n",
       "      <td>17.33</td>\n",
       "      <td>184.60</td>\n",
       "      <td>2019.0</td>\n",
       "      <td>0.1622</td>\n",
       "      <td>0.6656</td>\n",
       "      <td>0.7119</td>\n",
       "      <td>0.2654</td>\n",
       "      <td>0.4601</td>\n",
       "      <td>0.11890</td>\n",
       "    </tr>\n",
       "    <tr>\n",
       "      <td>1</td>\n",
       "      <td>M</td>\n",
       "      <td>20.57</td>\n",
       "      <td>17.77</td>\n",
       "      <td>132.90</td>\n",
       "      <td>1326.0</td>\n",
       "      <td>0.08474</td>\n",
       "      <td>0.07864</td>\n",
       "      <td>0.0869</td>\n",
       "      <td>0.07017</td>\n",
       "      <td>0.1812</td>\n",
       "      <td>...</td>\n",
       "      <td>24.99</td>\n",
       "      <td>23.41</td>\n",
       "      <td>158.80</td>\n",
       "      <td>1956.0</td>\n",
       "      <td>0.1238</td>\n",
       "      <td>0.1866</td>\n",
       "      <td>0.2416</td>\n",
       "      <td>0.1860</td>\n",
       "      <td>0.2750</td>\n",
       "      <td>0.08902</td>\n",
       "    </tr>\n",
       "    <tr>\n",
       "      <td>2</td>\n",
       "      <td>M</td>\n",
       "      <td>19.69</td>\n",
       "      <td>21.25</td>\n",
       "      <td>130.00</td>\n",
       "      <td>1203.0</td>\n",
       "      <td>0.10960</td>\n",
       "      <td>0.15990</td>\n",
       "      <td>0.1974</td>\n",
       "      <td>0.12790</td>\n",
       "      <td>0.2069</td>\n",
       "      <td>...</td>\n",
       "      <td>23.57</td>\n",
       "      <td>25.53</td>\n",
       "      <td>152.50</td>\n",
       "      <td>1709.0</td>\n",
       "      <td>0.1444</td>\n",
       "      <td>0.4245</td>\n",
       "      <td>0.4504</td>\n",
       "      <td>0.2430</td>\n",
       "      <td>0.3613</td>\n",
       "      <td>0.08758</td>\n",
       "    </tr>\n",
       "    <tr>\n",
       "      <td>3</td>\n",
       "      <td>M</td>\n",
       "      <td>11.42</td>\n",
       "      <td>20.38</td>\n",
       "      <td>77.58</td>\n",
       "      <td>386.1</td>\n",
       "      <td>0.14250</td>\n",
       "      <td>0.28390</td>\n",
       "      <td>0.2414</td>\n",
       "      <td>0.10520</td>\n",
       "      <td>0.2597</td>\n",
       "      <td>...</td>\n",
       "      <td>14.91</td>\n",
       "      <td>26.50</td>\n",
       "      <td>98.87</td>\n",
       "      <td>567.7</td>\n",
       "      <td>0.2098</td>\n",
       "      <td>0.8663</td>\n",
       "      <td>0.6869</td>\n",
       "      <td>0.2575</td>\n",
       "      <td>0.6638</td>\n",
       "      <td>0.17300</td>\n",
       "    </tr>\n",
       "    <tr>\n",
       "      <td>4</td>\n",
       "      <td>M</td>\n",
       "      <td>20.29</td>\n",
       "      <td>14.34</td>\n",
       "      <td>135.10</td>\n",
       "      <td>1297.0</td>\n",
       "      <td>0.10030</td>\n",
       "      <td>0.13280</td>\n",
       "      <td>0.1980</td>\n",
       "      <td>0.10430</td>\n",
       "      <td>0.1809</td>\n",
       "      <td>...</td>\n",
       "      <td>22.54</td>\n",
       "      <td>16.67</td>\n",
       "      <td>152.20</td>\n",
       "      <td>1575.0</td>\n",
       "      <td>0.1374</td>\n",
       "      <td>0.2050</td>\n",
       "      <td>0.4000</td>\n",
       "      <td>0.1625</td>\n",
       "      <td>0.2364</td>\n",
       "      <td>0.07678</td>\n",
       "    </tr>\n",
       "  </tbody>\n",
       "</table>\n",
       "<p>5 rows × 31 columns</p>\n",
       "</div>"
      ],
      "text/plain": [
       "  diagnosis  radius_mean  texture_mean  perimeter_mean  area_mean  \\\n",
       "0         M        17.99         10.38          122.80     1001.0   \n",
       "1         M        20.57         17.77          132.90     1326.0   \n",
       "2         M        19.69         21.25          130.00     1203.0   \n",
       "3         M        11.42         20.38           77.58      386.1   \n",
       "4         M        20.29         14.34          135.10     1297.0   \n",
       "\n",
       "   smoothness_mean  compactness_mean  concavity_mean  concave points_mean  \\\n",
       "0          0.11840           0.27760          0.3001              0.14710   \n",
       "1          0.08474           0.07864          0.0869              0.07017   \n",
       "2          0.10960           0.15990          0.1974              0.12790   \n",
       "3          0.14250           0.28390          0.2414              0.10520   \n",
       "4          0.10030           0.13280          0.1980              0.10430   \n",
       "\n",
       "   symmetry_mean  ...  radius_worst  texture_worst  perimeter_worst  \\\n",
       "0         0.2419  ...         25.38          17.33           184.60   \n",
       "1         0.1812  ...         24.99          23.41           158.80   \n",
       "2         0.2069  ...         23.57          25.53           152.50   \n",
       "3         0.2597  ...         14.91          26.50            98.87   \n",
       "4         0.1809  ...         22.54          16.67           152.20   \n",
       "\n",
       "   area_worst  smoothness_worst  compactness_worst  concavity_worst  \\\n",
       "0      2019.0            0.1622             0.6656           0.7119   \n",
       "1      1956.0            0.1238             0.1866           0.2416   \n",
       "2      1709.0            0.1444             0.4245           0.4504   \n",
       "3       567.7            0.2098             0.8663           0.6869   \n",
       "4      1575.0            0.1374             0.2050           0.4000   \n",
       "\n",
       "   concave points_worst  symmetry_worst  fractal_dimension_worst  \n",
       "0                0.2654          0.4601                  0.11890  \n",
       "1                0.1860          0.2750                  0.08902  \n",
       "2                0.2430          0.3613                  0.08758  \n",
       "3                0.2575          0.6638                  0.17300  \n",
       "4                0.1625          0.2364                  0.07678  \n",
       "\n",
       "[5 rows x 31 columns]"
      ]
     },
     "execution_count": 84,
     "metadata": {},
     "output_type": "execute_result"
    }
   ],
   "source": [
    "# Import cancer data\n",
    "cancer = pd.read_csv(\"Cancer.csv\")\n",
    "cancer = cancer.drop(['Unnamed: 32', 'id'], axis = 1)\n",
    "cancer.head()"
   ]
  },
  {
   "cell_type": "code",
   "execution_count": 85,
   "metadata": {},
   "outputs": [],
   "source": [
    "## Encode M and B in Diagnosis to 1 and 0\n",
    "Diagnosis = {'M': 1,'B': 0}\n",
    "cancer.diagnosis = [Diagnosis[item] for item in cancer.diagnosis]"
   ]
  },
  {
   "cell_type": "code",
   "execution_count": 86,
   "metadata": {},
   "outputs": [],
   "source": [
    "# split data\n",
    "X = cancer.drop(['diagnosis'], axis=1)\n",
    "y = cancer['diagnosis']\n",
    "\n",
    "X_train, X_test, y_train, y_test = train_test_split(X, y, test_size=0.3, random_state=1)\n",
    "\n",
    "\n",
    "#Scaling the X values\n",
    "scaler = StandardScaler()\n",
    "X_train_scaled = scaler.fit_transform(X_train)\n",
    "X_test_scaled = scaler.transform(X_test)"
   ]
  },
  {
   "cell_type": "code",
   "execution_count": 87,
   "metadata": {
    "scrolled": true
   },
   "outputs": [
    {
     "name": "stdout",
     "output_type": "stream",
     "text": [
      "MSE: 0.07772197821200201\n"
     ]
    }
   ],
   "source": [
    "from sklearn.tree import DecisionTreeRegressor, plot_tree\n",
    "from sklearn.ensemble import RandomForestRegressor\n",
    "from sklearn.metrics import mean_squared_error\n",
    "\n",
    "# build decision tree classifier\n",
    "regressor = DecisionTreeRegressor(max_depth=3) \n",
    "regressor.fit(X_train, y_train)\n",
    "predictions = regressor.predict(X_test)\n",
    "\n",
    "mse = mean_squared_error(y_test, predictions)\n",
    "print(\"MSE:\", mse)"
   ]
  },
  {
   "cell_type": "markdown",
   "metadata": {},
   "source": [
    "### 6. Print Confusion matrix and explain."
   ]
  },
  {
   "cell_type": "code",
   "execution_count": 88,
   "metadata": {},
   "outputs": [
    {
     "data": {
      "text/plain": [
       "<sklearn.metrics._plot.confusion_matrix.ConfusionMatrixDisplay at 0x1d6418f2548>"
      ]
     },
     "execution_count": 88,
     "metadata": {},
     "output_type": "execute_result"
    },
    {
     "data": {
      "image/png": "[encoded data removed]",
      "text/plain": [
       "<Figure size 432x288 with 2 Axes>"
      ]
     },
     "metadata": {
      "needs_background": "light"
     },
     "output_type": "display_data"
    }
   ],
   "source": [
    "from sklearn.metrics import confusion_matrix, ConfusionMatrixDisplay\n",
    "\n",
    "predictions_m = (predictions > 0.5).astype(int)\n",
    "matrix = confusion_matrix(y_test, predictions_m)\n",
    "disp = ConfusionMatrixDisplay(confusion_matrix=matrix)\n",
    "disp.plot()"
   ]
  },
  {
   "cell_type": "markdown",
   "metadata": {},
   "source": [
    "By looking at the confusion matrix, we can see that the decision tree model predicts the value correctly at about a 88.89% of the time when the true value is 0, and predicts value correctly 87.3% of the time when the true value is 1."
   ]
  },
  {
   "cell_type": "markdown",
   "metadata": {},
   "source": [
    "### 7. Visualize the tree.  What variables are in the plot?"
   ]
  },
  {
   "cell_type": "code",
   "execution_count": 89,
   "metadata": {
    "scrolled": true
   },
   "outputs": [
    {
     "data": {
      "image/png": "[encoded data removed]",
      "text/plain": [
       "<Figure size 1800x1440 with 1 Axes>"
      ]
     },
     "metadata": {
      "needs_background": "light"
     },
     "output_type": "display_data"
    }
   ],
   "source": [
    "# Plot the decision tree\n",
    "plt.figure(figsize=(25, 20))\n",
    "\n",
    "# Subplot 1: The decision tree\n",
    "plt.subplot(1, 2, 1)\n",
    "plot_tree(regressor, filled=True, rounded=True,fontsize=8)\n",
    "plt.title(\"Decision Tree\")\n",
    "\n",
    "# Display the plots\n",
    "plt.tight_layout()\n",
    "plt.show()"
   ]
  },
  {
   "cell_type": "code",
   "execution_count": 90,
   "metadata": {},
   "outputs": [
    {
     "name": "stdout",
     "output_type": "stream",
     "text": [
      "The following variables are in the plot:\n",
      "X[22]: perimeter_worst\n",
      "X[27]: concave points_worst\n",
      "X[21]: texture_worst\n",
      "X[10]: radius_se\n",
      "X[20]: radius_worst\n",
      "X[7]: concave points_mean\n"
     ]
    }
   ],
   "source": [
    "print(\"The following variables are in the plot:\")\n",
    "print(\"X[22]:\", X.columns[22])\n",
    "print(\"X[27]:\", X.columns[27])\n",
    "print(\"X[21]:\", X.columns[21])\n",
    "print(\"X[10]:\", X.columns[10])\n",
    "print(\"X[20]:\", X.columns[20])\n",
    "print(\"X[7]:\", X.columns[7])"
   ]
  },
  {
   "cell_type": "markdown",
   "metadata": {},
   "source": [
    "### 8. Would you consider pruning this tree?  Why?  Where? "
   ]
  },
  {
   "cell_type": "markdown",
   "metadata": {},
   "source": [
    "The idea of pruning the decision tree is to remove some leaves in order to aviod overfitting the decision tree model to the training data, causing the model fail to accurately fit the testing data. Looking at the decision tree above, we notice that some of the leaves have a relatively small sample size compared to the leaf sharing the same node. Therefore, we think it is better to prune those leaves and make the corresponding nodes leaves.\n",
    "\n",
    "As a result, we prune the leaves decided by \"x[10] <= 0.643\" and \"x[7] <= 0.049\", and keep the other sets of leaves as they are."
   ]
  }
 ],
 "metadata": {
  "kernelspec": {
   "display_name": "Python 3",
   "language": "python",
   "name": "python3"
  },
  "language_info": {
   "codemirror_mode": {
    "name": "ipython",
    "version": 3
   },
   "file_extension": ".py",
   "mimetype": "text/x-python",
   "name": "python",
   "nbconvert_exporter": "python",
   "pygments_lexer": "ipython3",
   "version": "3.7.4"
  }
 },
 "nbformat": 4,
 "nbformat_minor": 2
}

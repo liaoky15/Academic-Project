{
 "cells": [
  {
   "cell_type": "code",
   "execution_count": 2,
   "metadata": {},
   "outputs": [],
   "source": [
    "from selenium import webdriver\n",
    "from selenium.webdriver.chrome.service import Service\n",
    "from selenium.webdriver.common.by import By\n",
    "from selenium.webdriver.common.keys import Keys\n",
    "import time"
   ]
  },
  {
   "cell_type": "markdown",
   "metadata": {},
   "source": [
    "#### Part 1\n",
    "Please get Selenium to work on your system.  I.e., try to code something up in Java or Python that starts a browser of your choice, navigates to google.com, and searches for \"askew\" (we did this in class, please review the code) as well as \"google in 1998\""
   ]
  },
  {
   "cell_type": "code",
   "execution_count": 4,
   "metadata": {},
   "outputs": [],
   "source": [
    "# search 1: askew\n",
    "driver = webdriver.Chrome()\n",
    "driver.get('https://google.com')\n",
    "\n",
    "time.sleep(5) # sleep for 5 seconds\n",
    "\n",
    "input = driver.find_element(By.CSS_SELECTOR, 'textarea[title=\"Search\"]')\n",
    "input.send_keys('askew\\n')\n",
    "\n",
    "time.sleep(10)\n",
    "driver.quit()"
   ]
  },
  {
   "cell_type": "code",
   "execution_count": 5,
   "metadata": {},
   "outputs": [],
   "source": [
    "# search 2: google in 1998\n",
    "driver = webdriver.Chrome()\n",
    "driver.get('https://google.com')\n",
    "\n",
    "time.sleep(5) # sleep for 5 seconds\n",
    "\n",
    "input = driver.find_element(By.CSS_SELECTOR, 'textarea[title=\"Search\"]')\n",
    "input.send_keys('google in 1998\\n')\n",
    "\n",
    "time.sleep(10)\n",
    "driver.quit()"
   ]
  },
  {
   "cell_type": "markdown",
   "metadata": {},
   "source": [
    "#### Part 2: Bestbuy Deal of the day\n",
    "Write a script that goes to bestbuy.com, clicks on Deal of the Day, reads how much time is left for the Deal of the Day and prints the remaining time to screen (console), clicks on the Deal of the Day (the actual product), clicks on its reviews, and saves the resulting HTML to your local hard drive as \"bestbuy_deal_of_the_day.htm\"."
   ]
  },
  {
   "cell_type": "code",
   "execution_count": 3,
   "metadata": {},
   "outputs": [
    {
     "name": "stdout",
     "output_type": "stream",
     "text": [
      "Time left:  09 hours 49 minutes 04 seconds\n"
     ]
    }
   ],
   "source": [
    "# open chrome and go to bestbuy.com\n",
    "driver = webdriver.Chrome()\n",
    "driver.get('https://www.bestbuy.com/')\n",
    "\n",
    "time.sleep(3) # sleep for 3 seconds\n",
    "\n",
    "# find \"deal of the day\" button and click on it\n",
    "dotd = driver.find_element(By.XPATH, '//a[text()=\"Deal of the Day\"]')\n",
    "dotd.click()\n",
    "\n",
    "time.sleep(5) # sleep for 5 seconds\n",
    "\n",
    "# find time left and print\n",
    "hours = driver.find_element(By.CSS_SELECTOR, 'span[class=\"hours cdnumber\"]')\n",
    "minutes = driver.find_element(By.CSS_SELECTOR, 'span[class=\"minutes cdnumber\"]')\n",
    "seconds = driver.find_element(By.CSS_SELECTOR, 'span[class=\"seconds cdnumber\"]')\n",
    "print('Time left: ', hours.text, 'hours', minutes.text, 'minutes', seconds.text, 'seconds')\n",
    "\n",
    "time.sleep(5) # sleep for 5 seconds\n",
    "\n",
    "# find the first deal for the day from the website and click on it\n",
    "deal_1 = driver.find_element(By.CSS_SELECTOR, 'h1[class=\"heading product-title\"] > a')\n",
    "deal_1.click()\n",
    "\n",
    "time.sleep(3) # sleep for 3 seconds\n",
    "\n",
    "# click on reviews\n",
    "reviews = driver.find_element(By.CSS_SELECTOR, 'span[class=\"c-reviews order-2\"]')\n",
    "reviews.click()\n",
    "\n",
    "time.sleep(3) # sleep for 3 seconds\n",
    "\n",
    "# get the result html\n",
    "page = driver.page_source\n",
    "\n",
    "# time.sleep(5) # sleep for 5 seconds\n",
    "\n",
    "# write in the html file\n",
    "f = open('bestbuy_deal_of_the_day.htm', \"w\", encoding='utf-8')\n",
    "f.write(str(page))\n",
    "f.close()\n",
    "\n",
    "\n",
    "# click on all reviews\n",
    "all_reviews = driver.find_element(By.XPATH, '//a[text()=\"See All Customer Reviews\"]')\n",
    "all_reviews.click()\n",
    "\n",
    "time.sleep(5) # sleep for 5 seconds\n",
    "\n",
    "# get the result html\n",
    "page2 = driver.page_source\n",
    "\n",
    "time.sleep(5) # sleep for 5 seconds\n",
    "\n",
    "# write in the html file\n",
    "f = open('bestbuy_deal_of_the_day_all.htm', \"w\", encoding='utf-8')\n",
    "f.write(str(page2))\n",
    "f.close()\n",
    "\n",
    "\n",
    "driver.quit()"
   ]
  },
  {
   "cell_type": "markdown",
   "metadata": {},
   "source": [
    "#### Part 3: Lavazza coffee\n",
    "Write a script that goes to lavazzausa.com, rejects all cookies, then clicks on \"Products\", then on \"Capsule coffee machines\", save the resulting page to the file \"lavazza.htm\", and close the browser.  Subsequently write code that opens the saved \"lavazza.htm\" file and find the original price of the \"Classy Plus Bundle\" and prints it to screen"
   ]
  },
  {
   "cell_type": "code",
   "execution_count": 4,
   "metadata": {},
   "outputs": [],
   "source": [
    "# open chrome and go to lavazzausa.com\n",
    "driver = webdriver.Chrome()\n",
    "driver.get('https://www.lavazzausa.com/')\n",
    "\n",
    "time.sleep(3) # sleep for 3 seconds\n",
    "\n",
    "# find \"reject all\" button for cookie and click on it\n",
    "rejectcookie = driver.find_element(By.CSS_SELECTOR, 'div[id=\"consent_prompt_reject\"]')\n",
    "rejectcookie.click()\n",
    "\n",
    "time.sleep(3) # sleep for 3 seconds\n",
    "\n",
    "# find \"products\" button and click on it\n",
    "products = driver.find_element(By.XPATH, '//a[text()=\"PRODUCTS\"]')\n",
    "products.click()\n",
    "\n",
    "time.sleep(3) # sleep for 3 seconds\n",
    "\n",
    "# find \"capsule coffee machines\" button and click on it\n",
    "capsule = driver.find_element(By.XPATH, '//a[text()=\"Capsule coffee machines\"]')\n",
    "capsule.click()\n",
    "\n",
    "time.sleep(3) # sleep for 3 seconds\n",
    "\n",
    "# get the result html\n",
    "page3 = driver.page_source\n",
    "\n",
    "# write in the html file\n",
    "f = open('lavazza.htm', \"w\", encoding='utf-8')\n",
    "f.write(str(page3))\n",
    "f.close()\n",
    "\n",
    "time.sleep(3) # sleep for 3 seconds\n",
    "driver.quit()"
   ]
  },
  {
   "cell_type": "code",
   "execution_count": 5,
   "metadata": {},
   "outputs": [],
   "source": [
    "from bs4 import BeautifulSoup"
   ]
  },
  {
   "cell_type": "code",
   "execution_count": 6,
   "metadata": {},
   "outputs": [
    {
     "name": "stdout",
     "output_type": "stream",
     "text": [
      "$300.75\n"
     ]
    }
   ],
   "source": [
    "# Read file using beautifulsoup\n",
    "file = open('lavazza.htm', 'r', encoding='utf-8')\n",
    "html = file.read()\n",
    "soup2 = BeautifulSoup(html, 'lxml')\n",
    "\n",
    "\n",
    "# find \"Classy Plus Bundle\" and its price\n",
    "cur_price = soup2.select('p.lvz-product-card__pricing > span.lvz-product-card__pricing--value')\n",
    "ori_price = soup2.select('article#card-1 > div > div.lvz-product-card__content > div.lvz-product-card__desc > p.lvz-product-card__pricing > span.lvz-product-card__pricing--old')\n",
    "\n",
    "\n",
    "#print original price eveytime instead of discounted price\n",
    "if len(ori_price) == 0:\n",
    "    print(cur_price[0].text)\n",
    "else:\n",
    "    print(ori_price[0].text)\n"
   ]
  }
 ],
 "metadata": {
  "kernelspec": {
   "display_name": "Python 3",
   "language": "python",
   "name": "python3"
  },
  "language_info": {
   "codemirror_mode": {
    "name": "ipython",
    "version": 3
   },
   "file_extension": ".py",
   "mimetype": "text/x-python",
   "name": "python",
   "nbconvert_exporter": "python",
   "pygments_lexer": "ipython3",
   "version": "3.7.4"
  }
 },
 "nbformat": 4,
 "nbformat_minor": 2
}

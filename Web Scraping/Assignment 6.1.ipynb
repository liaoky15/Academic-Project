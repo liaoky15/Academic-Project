{
 "cells": [
  {
   "cell_type": "code",
   "execution_count": 2,
   "metadata": {},
   "outputs": [
    {
     "name": "stderr",
     "output_type": "stream",
     "text": [
      "c:\\Users\\user\\Anaconda3\\lib\\site-packages\\requests\\__init__.py:91: RequestsDependencyWarning: urllib3 (2.0.7) or chardet (3.0.4) doesn't match a supported version!\n",
      "  RequestsDependencyWarning)\n"
     ]
    }
   ],
   "source": [
    "from pymongo import MongoClient\n",
    "\n",
    "client = MongoClient('localhost', 27017)\n",
    "db = client.samples_pokemon\n",
    "collection = db.samples_pokemon"
   ]
  },
  {
   "cell_type": "code",
   "execution_count": 3,
   "metadata": {},
   "outputs": [
    {
     "data": {
      "text/plain": [
       "Collection(Database(MongoClient(host=['localhost:27017'], document_class=dict, tz_aware=False, connect=True), 'samples_pokemon'), 'samples_pokemon')"
      ]
     },
     "execution_count": 3,
     "metadata": {},
     "output_type": "execute_result"
    }
   ],
   "source": [
    "collection"
   ]
  },
  {
   "cell_type": "code",
   "execution_count": 4,
   "metadata": {},
   "outputs": [
    {
     "data": {
      "text/plain": [
       "{'_id': ObjectId('58f56171ee9d4bd5e610d6c4'),\n",
       " 'id': 129.0,\n",
       " 'num': '129',\n",
       " 'name': 'Magikarp',\n",
       " 'img': 'http://www.serebii.net/pokemongo/pokemon/129.png',\n",
       " 'type': ['Water'],\n",
       " 'height': '0.89 m',\n",
       " 'weight': '10.0 kg',\n",
       " 'candy': 'Magikarp Candy',\n",
       " 'candy_count': 400.0,\n",
       " 'egg': '2 km',\n",
       " 'spawn_chance': 4.78,\n",
       " 'avg_spawns': 478.0,\n",
       " 'spawn_time': '14:26',\n",
       " 'multipliers': [10.1, 11.8],\n",
       " 'weaknesses': ['Electric', 'Grass'],\n",
       " 'next_evolution': [{'num': '130', 'name': 'Gyarados'}]}"
      ]
     },
     "execution_count": 4,
     "metadata": {},
     "output_type": "execute_result"
    }
   ],
   "source": [
    "collection.find_one({'candy_count':{\"$gt\":100}})"
   ]
  }
 ],
 "metadata": {
  "kernelspec": {
   "display_name": "Python 3",
   "language": "python",
   "name": "python3"
  },
  "language_info": {
   "codemirror_mode": {
    "name": "ipython",
    "version": 3
   },
   "file_extension": ".py",
   "mimetype": "text/x-python",
   "name": "python",
   "nbconvert_exporter": "python",
   "pygments_lexer": "ipython3",
   "version": "3.7.4"
  }
 },
 "nbformat": 4,
 "nbformat_minor": 2
}

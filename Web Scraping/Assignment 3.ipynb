{
 "cells": [
  {
   "cell_type": "code",
   "execution_count": 1,
   "metadata": {},
   "outputs": [
    {
     "name": "stdout",
     "output_type": "stream",
     "text": [
      "Jane Austen :  “The person, be it gentleman or lady, who has not pleasure in a good novel, must be intolerably stupid.”\n",
      "Steve Martin :  “A day without sunshine is like, you know, night.”\n",
      "Garrison Keillor :  “Anyone who thinks sitting in church can make you a Christian must also think that sitting in a garage can make you a car.”\n",
      "Jim Henson :  “Beauty is in the eye of the beholder and it may be necessary from time to time to give a stupid or misinformed beholder a black eye.”\n",
      "Charles M. Schulz :  “All you need is love. But a little chocolate now and then doesn't hurt.”\n",
      "Suzanne Collins :  “Remember, we're madly in love, so it's all right to kiss me anytime you feel like it.”\n",
      "Charles Bukowski :  “Some people never go crazy. What truly horrible lives they must lead.”\n",
      "Terry Pratchett :  “The trouble with having an open mind, of course, is that people will insist on coming along and trying to put things in it.”\n",
      "Dr. Seuss :  “Think left and think right and think low and think high. Oh, the thinks you can think up if only you try!”\n",
      "George Carlin :  “The reason I talk to myself is because I’m the only one whose answers I accept.”\n",
      "W.C. Fields :  “I am free of all prejudice. I hate everyone equally. ”\n",
      "Jane Austen :  “A lady's imagination is very rapid; it jumps from admiration to love, from love to matrimony in a moment.”\n"
     ]
    }
   ],
   "source": [
    "from bs4 import BeautifulSoup\n",
    "import requests\n",
    "import time\n",
    "\n",
    "page = requests.get('https://quotes.toscrape.com/')\n",
    "soup = BeautifulSoup(page.content, 'html.parser')\n",
    "\n",
    "## 2. find the fourth top ten tag using span > a\n",
    "fourth_tag = soup.select('span > a')\n",
    "\n",
    "## 3. extract href link\n",
    "href = fourth_tag[13].get('href')\n",
    "\n",
    "## 5. find full url\n",
    "url = 'https://quotes.toscrape.com'+ href\n",
    "\n",
    "time.sleep(10) # add delay of 10 seconds\n",
    "\n",
    "\n",
    "## parse second page\n",
    "page2 = requests.get(url)\n",
    "soup2 = BeautifulSoup(page2.content, 'html.parser')\n",
    "\n",
    "## 6/7. select all quotes using span.text and small.author\n",
    "allquotes = soup2.select('span.text')\n",
    "allauthors = soup2.select('small.author')\n",
    "\n",
    "## 8. use a for loop to print all quotes and authors\n",
    "for x in range(10):\n",
    "    print(allauthors[x].text,': ', allquotes[x].text)\n",
    "\n",
    "## 9. select the next link\n",
    "nextlink = soup2.select('li > a')\n",
    "href2 = nextlink[0].get('href')\n",
    "\n",
    "time.sleep(10) # add delay of 10 seconds\n",
    "\n",
    "\n",
    "## 10. parse third page\n",
    "page3 = requests.get('https://quotes.toscrape.com'+ href2)\n",
    "soup3 = BeautifulSoup(page3.content, 'html.parser')\n",
    "\n",
    "## 11. select all quotes using span.text and small.author\n",
    "allquotes3 = soup3.select('span.text')\n",
    "allauthors3 = soup3.select('small.author')\n",
    "\n",
    "## use a for loop to print all quotes and authors\n",
    "for y in range(2):\n",
    "    print(allauthors3[y].text,': ', allquotes3[y].text)\n"
   ]
  }
 ],
 "metadata": {
  "kernelspec": {
   "display_name": "Python 3",
   "language": "python",
   "name": "python3"
  },
  "language_info": {
   "codemirror_mode": {
    "name": "ipython",
    "version": 3
   },
   "file_extension": ".py",
   "mimetype": "text/x-python",
   "name": "python",
   "nbconvert_exporter": "python",
   "pygments_lexer": "ipython3",
   "version": "3.7.4"
  }
 },
 "nbformat": 4,
 "nbformat_minor": 2
}

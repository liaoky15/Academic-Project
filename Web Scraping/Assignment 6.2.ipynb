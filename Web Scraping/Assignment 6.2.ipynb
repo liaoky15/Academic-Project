{
 "cells": [
  {
   "cell_type": "code",
   "execution_count": 1,
   "metadata": {},
   "outputs": [
    {
     "name": "stderr",
     "output_type": "stream",
     "text": [
      "C:\\Users\\user\\Anaconda3\\lib\\site-packages\\requests\\__init__.py:91: RequestsDependencyWarning: urllib3 (2.0.7) or chardet (3.0.4) doesn't match a supported version!\n",
      "  RequestsDependencyWarning)\n"
     ]
    }
   ],
   "source": [
    "from pymongo import MongoClient\n",
    "\n",
    "client = MongoClient('localhost', 27017)\n",
    "db = client.samples_pokemon\n",
    "collection = db.samples_pokemon"
   ]
  },
  {
   "cell_type": "markdown",
   "metadata": {},
   "source": [
    "#### Query and print to screen all Pokémon character “name”s (and “_id” but not the entire document) with candy_count >= 2*month + day of your birthday"
   ]
  },
  {
   "cell_type": "code",
   "execution_count": 13,
   "metadata": {
    "scrolled": true
   },
   "outputs": [
    {
     "name": "stdout",
     "output_type": "stream",
     "text": [
      "{'_id': ObjectId('58f56171ee9d4bd5e610d645'), 'name': 'Ivysaur'}\n",
      "{'_id': ObjectId('58f56171ee9d4bd5e610d648'), 'name': 'Charmeleon'}\n",
      "{'_id': ObjectId('58f56171ee9d4bd5e610d64b'), 'name': 'Wartortle'}\n",
      "{'_id': ObjectId('58f56171ee9d4bd5e610d64e'), 'name': 'Metapod'}\n",
      "{'_id': ObjectId('58f56171ee9d4bd5e610d651'), 'name': 'Kakuna'}\n",
      "{'_id': ObjectId('58f56171ee9d4bd5e610d654'), 'name': 'Pidgeotto'}\n",
      "{'_id': ObjectId('58f56171ee9d4bd5e610d658'), 'name': 'Spearow'}\n",
      "{'_id': ObjectId('58f56171ee9d4bd5e610d65a'), 'name': 'Ekans'}\n",
      "{'_id': ObjectId('58f56171ee9d4bd5e610d65c'), 'name': 'Pikachu'}\n",
      "{'_id': ObjectId('58f56171ee9d4bd5e610d65e'), 'name': 'Sandshrew'}\n",
      "{'_id': ObjectId('58f56171ee9d4bd5e610d661'), 'name': 'Nidorina'}\n",
      "{'_id': ObjectId('58f56171ee9d4bd5e610d664'), 'name': 'Nidorino'}\n",
      "{'_id': ObjectId('58f56171ee9d4bd5e610d666'), 'name': 'Clefairy'}\n",
      "{'_id': ObjectId('58f56171ee9d4bd5e610d668'), 'name': 'Vulpix'}\n",
      "{'_id': ObjectId('58f56171ee9d4bd5e610d66a'), 'name': 'Jigglypuff'}\n",
      "{'_id': ObjectId('58f56171ee9d4bd5e610d66c'), 'name': 'Zubat'}\n",
      "{'_id': ObjectId('58f56171ee9d4bd5e610d66f'), 'name': 'Gloom'}\n",
      "{'_id': ObjectId('58f56171ee9d4bd5e610d671'), 'name': 'Paras'}\n",
      "{'_id': ObjectId('58f56171ee9d4bd5e610d673'), 'name': 'Venonat'}\n",
      "{'_id': ObjectId('58f56171ee9d4bd5e610d675'), 'name': 'Diglett'}\n",
      "{'_id': ObjectId('58f56171ee9d4bd5e610d677'), 'name': 'Meowth'}\n",
      "{'_id': ObjectId('58f56171ee9d4bd5e610d679'), 'name': 'Psyduck'}\n",
      "{'_id': ObjectId('58f56171ee9d4bd5e610d67b'), 'name': 'Mankey'}\n",
      "{'_id': ObjectId('58f56171ee9d4bd5e610d67d'), 'name': 'Growlithe'}\n",
      "{'_id': ObjectId('58f56171ee9d4bd5e610d680'), 'name': 'Poliwhirl'}\n",
      "{'_id': ObjectId('58f56171ee9d4bd5e610d683'), 'name': 'Kadabra'}\n",
      "{'_id': ObjectId('58f56171ee9d4bd5e610d686'), 'name': 'Machoke'}\n",
      "{'_id': ObjectId('58f56171ee9d4bd5e610d689'), 'name': 'Weepinbell'}\n",
      "{'_id': ObjectId('58f56171ee9d4bd5e610d68b'), 'name': 'Tentacool'}\n",
      "{'_id': ObjectId('58f56171ee9d4bd5e610d68e'), 'name': 'Graveler'}\n",
      "{'_id': ObjectId('58f56171ee9d4bd5e610d690'), 'name': 'Ponyta'}\n",
      "{'_id': ObjectId('58f56171ee9d4bd5e610d692'), 'name': 'Slowpoke'}\n",
      "{'_id': ObjectId('58f56171ee9d4bd5e610d694'), 'name': 'Magnemite'}\n",
      "{'_id': ObjectId('58f56171ee9d4bd5e610d697'), 'name': 'Doduo'}\n",
      "{'_id': ObjectId('58f56171ee9d4bd5e610d699'), 'name': 'Seel'}\n",
      "{'_id': ObjectId('58f56171ee9d4bd5e610d69b'), 'name': 'Grimer'}\n",
      "{'_id': ObjectId('58f56171ee9d4bd5e610d69d'), 'name': 'Shellder'}\n",
      "{'_id': ObjectId('58f56171ee9d4bd5e610d6a0'), 'name': 'Haunter'}\n",
      "{'_id': ObjectId('58f56171ee9d4bd5e610d6a3'), 'name': 'Drowzee'}\n",
      "{'_id': ObjectId('58f56171ee9d4bd5e610d6a5'), 'name': 'Krabby'}\n",
      "{'_id': ObjectId('58f56171ee9d4bd5e610d6a7'), 'name': 'Voltorb'}\n",
      "{'_id': ObjectId('58f56171ee9d4bd5e610d6a9'), 'name': 'Exeggcute'}\n",
      "{'_id': ObjectId('58f56171ee9d4bd5e610d6ab'), 'name': 'Cubone'}\n",
      "{'_id': ObjectId('58f56171ee9d4bd5e610d6b0'), 'name': 'Koffing'}\n",
      "{'_id': ObjectId('58f56171ee9d4bd5e610d6b2'), 'name': 'Rhyhorn'}\n",
      "{'_id': ObjectId('58f56171ee9d4bd5e610d6b7'), 'name': 'Horsea'}\n",
      "{'_id': ObjectId('58f56171ee9d4bd5e610d6b9'), 'name': 'Goldeen'}\n",
      "{'_id': ObjectId('58f56171ee9d4bd5e610d6bb'), 'name': 'Staryu'}\n",
      "{'_id': ObjectId('58f56171ee9d4bd5e610d6c4'), 'name': 'Magikarp'}\n",
      "{'_id': ObjectId('58f56171ee9d4bd5e610d6cd'), 'name': 'Omanyte'}\n",
      "{'_id': ObjectId('58f56171ee9d4bd5e610d6cf'), 'name': 'Kabuto'}\n",
      "{'_id': ObjectId('58f56171ee9d4bd5e610d6d7'), 'name': 'Dragonair'}\n"
     ]
    }
   ],
   "source": [
    "# 2*8+15 = 31\n",
    "# store the result with candy count >= 31\n",
    "result = collection.find({'candy_count':{\"$gte\":31}}, {'name','_id'})\n",
    "\n",
    "# return the result\n",
    "for x in result:\n",
    "    print(x)"
   ]
  },
  {
   "cell_type": "markdown",
   "metadata": {},
   "source": [
    "#### Query and print to screen all Pokémon character “name”s (and “_id” but not the entire document) with num = 2*month or num = day of your birthday"
   ]
  },
  {
   "cell_type": "code",
   "execution_count": 25,
   "metadata": {},
   "outputs": [
    {
     "name": "stdout",
     "output_type": "stream",
     "text": [
      "{'_id': ObjectId('58f56171ee9d4bd5e610d652'), 'name': 'Beedrill'}\n",
      "{'_id': ObjectId('58f56171ee9d4bd5e610d653'), 'name': 'Pidgey'}\n"
     ]
    }
   ],
   "source": [
    "# store the result with num = 16 or 15\n",
    "result2 = collection.find({'$or':[ {'num':'015'}, {'num':'016'}]}, {'name','_id'})\n",
    "\n",
    "# return the result\n",
    "for x in result2:\n",
    "    print(x)"
   ]
  },
  {
   "cell_type": "markdown",
   "metadata": {},
   "source": [
    "#### Query and print to screen all Crunchbase company “name”s (and “_id” but not the entire document) that have the string “cloud” in their “tag_list”."
   ]
  },
  {
   "cell_type": "code",
   "execution_count": 26,
   "metadata": {},
   "outputs": [],
   "source": [
    "# connect to crunchbase\n",
    "db2 = client.crunchbase\n",
    "collection2 = db2.crunchbase_database"
   ]
  },
  {
   "cell_type": "code",
   "execution_count": 36,
   "metadata": {
    "scrolled": false
   },
   "outputs": [
    {
     "name": "stdout",
     "output_type": "stream",
     "text": [
      "{'_id': ObjectId('52cdef7e4bab8bd67529a6aa'), 'name': 'EVault'}\n",
      "{'_id': ObjectId('52cdef7e4bab8bd67529b289'), 'name': 'Ekartha'}\n",
      "{'_id': ObjectId('52cdef7e4bab8bd67529adeb'), 'name': 'TimeXchange'}\n",
      "{'_id': ObjectId('52cdef7e4bab8bd67529bbd0'), 'name': 'CodeLathe'}\n",
      "{'_id': ObjectId('52cdef7d4bab8bd675298ebf'), 'name': 'Faulkner Technologies'}\n",
      "{'_id': ObjectId('52cdef7d4bab8bd675299555'), 'name': 'Purewire'}\n",
      "{'_id': ObjectId('52cdef7c4bab8bd675298514'), 'name': 'Zuora'}\n",
      "{'_id': ObjectId('52cdef7e4bab8bd67529a7cd'), 'name': 'ViaCube'}\n",
      "{'_id': ObjectId('52cdef7c4bab8bd675297ee1'), 'name': 'Cloudant'}\n",
      "{'_id': ObjectId('52cdef7c4bab8bd675297fd9'), 'name': 'Boomi'}\n",
      "{'_id': ObjectId('52cdef7e4bab8bd67529b3df'), 'name': 'Clustrix'}\n",
      "{'_id': ObjectId('52cdef7e4bab8bd67529afa1'), 'name': 'Mixpo'}\n",
      "{'_id': ObjectId('52cdef7e4bab8bd67529b545'), 'name': 'Dayforce'}\n",
      "{'_id': ObjectId('52cdef7e4bab8bd67529b3d2'), 'name': 'mindsquare'}\n",
      "{'_id': ObjectId('52cdef7e4bab8bd67529b919'), 'name': 'Birst'}\n"
     ]
    }
   ],
   "source": [
    "# find companies with \"cloud\" in their \"tag_list\"\n",
    "result3 = collection2.find({'tag_list': {'$regex' : \"cloud\"}}, {'name','_id'})\n",
    "\n",
    "# return the result\n",
    "for x in result3:\n",
    "    print(x)"
   ]
  },
  {
   "cell_type": "markdown",
   "metadata": {},
   "source": [
    "#### Query and print to screen all Crunchbase company “name”s and “twitter_username” (and “_id” but not the entire document) that were:\n",
    "- founded between 2000 and 2010 (including 2000 and 2010), or\n",
    "- email address is ending in “@gmail.com”."
   ]
  },
  {
   "cell_type": "code",
   "execution_count": 43,
   "metadata": {
    "scrolled": true
   },
   "outputs": [
    {
     "name": "stdout",
     "output_type": "stream",
     "text": [
      "{'_id': ObjectId('52cdef7e4bab8bd67529a3ae'), 'name': 'ZipWeb', 'twitter_username': None}\n",
      "{'_id': ObjectId('52cdef7f4bab8bd67529c007'), 'name': 'Delhitoagra', 'twitter_username': 'delhitoagra'}\n",
      "{'_id': ObjectId('52cdef7d4bab8bd675298ab5'), 'name': 'Dizzot', 'twitter_username': None}\n",
      "{'_id': ObjectId('52cdef7e4bab8bd67529bb91'), 'name': 'Weopia', 'twitter_username': 'weopia'}\n",
      "{'_id': ObjectId('52cdef7f4bab8bd67529c682'), 'name': 'Meeho!', 'twitter_username': 'meehohq'}\n",
      "{'_id': ObjectId('52cdef7e4bab8bd67529a867'), 'name': 'A2zdesignwork', 'twitter_username': 'A2zdesignwork'}\n",
      "{'_id': ObjectId('52cdef7e4bab8bd67529b1d1'), 'name': 'Payday advances', 'twitter_username': None}\n",
      "{'_id': ObjectId('52cdef7f4bab8bd67529c091'), 'name': 'Generous Gems Jewelry', 'twitter_username': ''}\n",
      "{'_id': ObjectId('52cdef7d4bab8bd675299cd4'), 'name': 'newbridgetown', 'twitter_username': None}\n",
      "{'_id': ObjectId('52cdef7e4bab8bd67529a541'), 'name': 'SingleMommyHood', 'twitter_username': 'singlemomseekin'}\n",
      "{'_id': ObjectId('52cdef7e4bab8bd67529b6f3'), 'name': 'watercompare', 'twitter_username': None}\n",
      "{'_id': ObjectId('52cdef7d4bab8bd675298a3e'), 'name': 'SEO Workers', 'twitter_username': 'seoworkers'}\n",
      "{'_id': ObjectId('52cdef7f4bab8bd67529c0df'), 'name': 'THiNKmedia', 'twitter_username': ''}\n",
      "{'_id': ObjectId('52cdef7e4bab8bd67529b2aa'), 'name': 'PricingWire', 'twitter_username': None}\n",
      "{'_id': ObjectId('52cdef7d4bab8bd675298b5d'), 'name': 'ExpertsYard', 'twitter_username': None}\n",
      "{'_id': ObjectId('52cdef7d4bab8bd675298e40'), 'name': 'Flex2go', 'twitter_username': None}\n",
      "{'_id': ObjectId('52cdef7d4bab8bd675298c10'), 'name': 'OhDontForget', 'twitter_username': None}\n",
      "{'_id': ObjectId('52cdef7d4bab8bd675299202'), 'name': 'Rock Entertainment', 'twitter_username': None}\n",
      "{'_id': ObjectId('52cdef7d4bab8bd6752998c3'), 'name': 'GeekTech', 'twitter_username': None}\n",
      "{'_id': ObjectId('52cdef7e4bab8bd67529b52b'), 'name': 'Ashe Media Holdings', 'twitter_username': ''}\n",
      "{'_id': ObjectId('52cdef7e4bab8bd67529aba9'), 'name': 'USFINANCIALFREEDOM', 'twitter_username': None}\n",
      "{'_id': ObjectId('52cdef7d4bab8bd67529a0e8'), 'name': 'Mega Yellow', 'twitter_username': None}\n",
      "{'_id': ObjectId('52cdef7e4bab8bd67529ab77'), 'name': 'SaveTable', 'twitter_username': None}\n"
     ]
    }
   ],
   "source": [
    "# find companies founded between 2000 and 2010 or email address is ending in “@gmail.com”\n",
    "result4 = collection2.find({'$or': [{'founded_year': {'$regex' : \"r'\\b(200[0-9]|2010)\\b'\"}}, {'email_address': {'$regex' : \"@gmail.com\"}}]}, {'name','_id','twitter_username'})\n",
    "\n",
    "# return the result\n",
    "for x in result4:\n",
    "    print(x)"
   ]
  }
 ],
 "metadata": {
  "kernelspec": {
   "display_name": "Python 3",
   "language": "python",
   "name": "python3"
  },
  "language_info": {
   "codemirror_mode": {
    "name": "ipython",
    "version": 3
   },
   "file_extension": ".py",
   "mimetype": "text/x-python",
   "name": "python",
   "nbconvert_exporter": "python",
   "pygments_lexer": "ipython3",
   "version": "3.7.4"
  }
 },
 "nbformat": 4,
 "nbformat_minor": 2
}

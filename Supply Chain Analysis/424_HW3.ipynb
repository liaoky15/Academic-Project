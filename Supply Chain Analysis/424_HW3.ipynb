{
  "nbformat": 4,
  "nbformat_minor": 0,
  "metadata": {
    "colab": {
      "provenance": []
    },
    "kernelspec": {
      "name": "python3",
      "display_name": "Python 3"
    },
    "language_info": {
      "name": "python"
    }
  },
  "cells": [
    {
      "cell_type": "code",
      "execution_count": null,
      "metadata": {
        "id": "R0M2XnqAbgbF",
        "colab": {
          "base_uri": "https://localhost:8080/"
        },
        "outputId": "6b8d6e77-8cca-44c0-a446-c95de83ad21a"
      },
      "outputs": [
        {
          "output_type": "stream",
          "name": "stdout",
          "text": [
            "\u001b[2K     \u001b[90m━━━━━━━━━━━━━━━━━━━━━━━━━━━━━━━━━━━━━━━━\u001b[0m \u001b[32m12.7/12.7 MB\u001b[0m \u001b[31m22.4 MB/s\u001b[0m eta \u001b[36m0:00:00\u001b[0m\n",
            "\u001b[2K     \u001b[90m━━━━━━━━━━━━━━━━━━━━━━━━━━━━━━━━━━━━━━━━\u001b[0m \u001b[32m49.6/49.6 kB\u001b[0m \u001b[31m3.1 MB/s\u001b[0m eta \u001b[36m0:00:00\u001b[0m\n",
            "\u001b[?25hSelecting previously unselected package coinor-libcoinutils3v5:amd64.\n",
            "(Reading database ... 121920 files and directories currently installed.)\n",
            "Preparing to unpack .../0-coinor-libcoinutils3v5_2.11.4+repack1-2_amd64.deb ...\n",
            "Unpacking coinor-libcoinutils3v5:amd64 (2.11.4+repack1-2) ...\n",
            "Selecting previously unselected package coinor-libosi1v5:amd64.\n",
            "Preparing to unpack .../1-coinor-libosi1v5_0.108.6+repack1-2_amd64.deb ...\n",
            "Unpacking coinor-libosi1v5:amd64 (0.108.6+repack1-2) ...\n",
            "Selecting previously unselected package coinor-libclp1.\n",
            "Preparing to unpack .../2-coinor-libclp1_1.17.5+repack1-1_amd64.deb ...\n",
            "Unpacking coinor-libclp1 (1.17.5+repack1-1) ...\n",
            "Selecting previously unselected package coinor-libcgl1:amd64.\n",
            "Preparing to unpack .../3-coinor-libcgl1_0.60.3+repack1-3_amd64.deb ...\n",
            "Unpacking coinor-libcgl1:amd64 (0.60.3+repack1-3) ...\n",
            "Selecting previously unselected package coinor-libcbc3:amd64.\n",
            "Preparing to unpack .../4-coinor-libcbc3_2.10.7+ds1-1_amd64.deb ...\n",
            "Unpacking coinor-libcbc3:amd64 (2.10.7+ds1-1) ...\n",
            "Selecting previously unselected package coinor-cbc.\n",
            "Preparing to unpack .../5-coinor-cbc_2.10.7+ds1-1_amd64.deb ...\n",
            "Unpacking coinor-cbc (2.10.7+ds1-1) ...\n",
            "Setting up coinor-libcoinutils3v5:amd64 (2.11.4+repack1-2) ...\n",
            "Setting up coinor-libosi1v5:amd64 (0.108.6+repack1-2) ...\n",
            "Setting up coinor-libclp1 (1.17.5+repack1-1) ...\n",
            "Setting up coinor-libcgl1:amd64 (0.60.3+repack1-3) ...\n",
            "Setting up coinor-libcbc3:amd64 (2.10.7+ds1-1) ...\n",
            "Setting up coinor-cbc (2.10.7+ds1-1) ...\n",
            "Processing triggers for man-db (2.10.2-1) ...\n",
            "Processing triggers for libc-bin (2.35-0ubuntu3.4) ...\n",
            "/sbin/ldconfig.real: /usr/local/lib/libtbbbind_2_5.so.3 is not a symbolic link\n",
            "\n",
            "/sbin/ldconfig.real: /usr/local/lib/libtbbbind_2_0.so.3 is not a symbolic link\n",
            "\n",
            "/sbin/ldconfig.real: /usr/local/lib/libtbbmalloc.so.2 is not a symbolic link\n",
            "\n",
            "/sbin/ldconfig.real: /usr/local/lib/libtbb.so.12 is not a symbolic link\n",
            "\n",
            "/sbin/ldconfig.real: /usr/local/lib/libtbbmalloc_proxy.so.2 is not a symbolic link\n",
            "\n",
            "/sbin/ldconfig.real: /usr/local/lib/libtbbbind.so.3 is not a symbolic link\n",
            "\n"
          ]
        }
      ],
      "source": [
        "import matplotlib.pyplot as plt\n",
        "import numpy as np\n",
        "\n",
        "import shutil\n",
        "import sys\n",
        "import os.path\n",
        "\n",
        "if not shutil.which(\"pyomo\"):\n",
        "    !pip install -q pyomo\n",
        "    assert(shutil.which(\"pyomo\"))\n",
        "\n",
        "if not (shutil.which(\"cbc\") or os.path.isfile(\"cbc\")):\n",
        "    if \"google.colab\" in sys.modules:\n",
        "        !apt-get install -y -qq coinor-cbc\n",
        "    else:\n",
        "        try:\n",
        "            !conda install -c conda-forge coincbc\n",
        "        except:\n",
        "            pass\n",
        "\n",
        "assert(shutil.which(\"cbc\") or os.path.isfile(\"cbc\"))\n",
        "\n",
        "from pyomo.environ import *"
      ]
    },
    {
      "cell_type": "markdown",
      "source": [
        "# Economic Order Quantity (EOQ) 20 pts"
      ],
      "metadata": {
        "id": "KXC-4bS2boU-"
      }
    },
    {
      "cell_type": "markdown",
      "source": [
        "### 1. What are the EOQs for A and B? What are the annual setup and holding costs for A and B?"
      ],
      "metadata": {
        "id": "POhwOKXjcqFY"
      }
    },
    {
      "cell_type": "markdown",
      "source": [
        "Economic Order Quantity (EOQ) using the formula:\n",
        "$$ Q^* = \\sqrt{\\frac{2DK}{H}} $$\n",
        "\n",
        "Where:\n",
        "- \\( D \\) is the annual demand for the product\n",
        "- \\( K \\) is the setup or ordering fixed cost per order\n",
        "- \\( h \\) is the holding or carrying cost per unit per year\n"
      ],
      "metadata": {
        "id": "z5YYZCFzVZaj"
      }
    },
    {
      "cell_type": "code",
      "source": [
        "import math\n",
        "# Given values for product A and B\n",
        "D_A = 3000  # annual demand for A\n",
        "D_B = 3600  # annual demand for B\n",
        "K = 200     # setup cost per order\n",
        "H_A = 105   # holding cost per unit per year for A\n",
        "H_B = 120   # holding cost per unit per year for B\n",
        "\n",
        "# Calculate EOQ for product A and B\n",
        "Q_A = math.sqrt((2 * D_A * K) / H_A)\n",
        "Q_B = math.sqrt((2 * D_B * K) / H_B)\n",
        "\n",
        "# Print EOQ\n",
        "print(\"Economic Order Quantity for Product A:\", round(Q_A))\n",
        "print(\"Economic Order Quantity for Product B:\", round(Q_B))\n"
      ],
      "metadata": {
        "id": "G0TfS2qycyJZ",
        "colab": {
          "base_uri": "https://localhost:8080/"
        },
        "outputId": "30262945-1c6a-426e-865e-6edc43e7412d"
      },
      "execution_count": null,
      "outputs": [
        {
          "output_type": "stream",
          "name": "stdout",
          "text": [
            "Economic Order Quantity for Product A: 107\n",
            "Economic Order Quantity for Product B: 110\n"
          ]
        }
      ]
    },
    {
      "cell_type": "markdown",
      "source": [
        "Calculating Annual Setup and Holding Costs\n",
        "- $$ \\text{Annual Setup Costs} = \\frac{D}{Q^*} \\times K $$\n",
        "\n",
        "- $$ \\text{Annual Holding Costs} = \\frac{Q^*}{2} \\times h $$"
      ],
      "metadata": {
        "id": "u07oOew-WxMd"
      }
    },
    {
      "cell_type": "code",
      "source": [
        "# Calculate annual setup costs for A and B\n",
        "annual_setup_costs_A = (D_A / Q_A) * K\n",
        "annual_setup_costs_B = (D_B / Q_B) * K\n",
        "\n",
        "# Calculate annual holding costs for both products\n",
        "annual_holding_costs_A = (Q_A / 2) * H_A\n",
        "annual_holding_costs_B = (Q_B / 2) * H_B\n",
        "\n",
        "# Print annual costs for both products\n",
        "print(\"Annual Setup Costs for Product A: ${:.2f}\".format(annual_setup_costs_A))\n",
        "print(\"Annual Holding Costs for Product A: ${:.2f}\".format(annual_holding_costs_A))\n",
        "print(\"Annual Setup Costs for Product B: ${:.2f}\".format(annual_setup_costs_B))\n",
        "print(\"Annual Holding Costs for Product B: ${:.2f}\".format(annual_holding_costs_B))\n"
      ],
      "metadata": {
        "colab": {
          "base_uri": "https://localhost:8080/"
        },
        "id": "mcPIBYe6XD1v",
        "outputId": "d22090c2-2c6c-42d4-95fd-4f6bef71f9d0"
      },
      "execution_count": null,
      "outputs": [
        {
          "output_type": "stream",
          "name": "stdout",
          "text": [
            "Annual Setup Costs for Product A: $5612.49\n",
            "Annual Holding Costs for Product A: $5612.49\n",
            "Annual Setup Costs for Product B: $6572.67\n",
            "Annual Holding Costs for Product B: $6572.67\n"
          ]
        }
      ]
    },
    {
      "cell_type": "markdown",
      "source": [
        "### 2. Currently the store has a storage constraint tha t it can only hold 60 units of A and 75 units of B. What will be the optimal order quanti- ties for A and B? What will be the resulting annual setup and holding costs? (Assume that the space for A cannot be used for B and vice versa.)"
      ],
      "metadata": {
        "id": "b1TlTm0lcyeu"
      }
    },
    {
      "cell_type": "markdown",
      "source": [
        "Adjusted Order Quantities Due to Storage Constraints\n",
        "\n",
        "The storage constraints allow for a maximum of 60 units of A and 75 units of B.\n",
        "\n",
        "\n"
      ],
      "metadata": {
        "id": "yBZE0-inZVPy"
      }
    },
    {
      "cell_type": "code",
      "source": [
        "Q_A_adjusted = 60  # adjusted EOQ for product A due to storage limits\n",
        "Q_B_adjusted = 75  # adjusted EOQ for product B due to storage limits\n",
        "\n",
        "# Calculate new annual setup costs for both products\n",
        "annual_setup_costs_A_adjusted = (D_A / Q_A_adjusted) * K\n",
        "annual_setup_costs_B_adjusted = (D_B / Q_B_adjusted) * K\n",
        "\n",
        "# Calculate new annual holding costs for both products\n",
        "annual_holding_costs_A_adjusted = (Q_A_adjusted / 2) * H_A\n",
        "annual_holding_costs_B_adjusted = (Q_B_adjusted / 2) * H_B\n",
        "\n",
        "# Display the calculated costs\n",
        "print(\"Adjusted Annual Setup and Holding Costs for Product A:\")\n",
        "print(\"Optimal Order Quantity: 60\")\n",
        "print(\"Setup Costs: ${:.2f}\".format(annual_setup_costs_A_adjusted))\n",
        "print(\"Holding Costs: ${:.2f}\".format(annual_holding_costs_A_adjusted))\n",
        "print(\"\\nAdjusted Annual Setup and Holding Costs for Product B:\")\n",
        "print(\"Optimal Order Quantity: 75\")\n",
        "print(\"Setup Costs: ${:.2f}\".format(annual_setup_costs_B_adjusted))\n",
        "print(\"Holding Costs: ${:.2f}\".format(annual_holding_costs_B_adjusted))"
      ],
      "metadata": {
        "colab": {
          "base_uri": "https://localhost:8080/"
        },
        "id": "kuDAQ4F6ZlcE",
        "outputId": "756b75fc-5a22-477b-e5fb-5a82980774c4"
      },
      "execution_count": null,
      "outputs": [
        {
          "output_type": "stream",
          "name": "stdout",
          "text": [
            "Adjusted Annual Setup and Holding Costs for Product A:\n",
            "Optimal Order Quantity: 60\n",
            "Setup Costs: $10000.00\n",
            "Holding Costs: $3150.00\n",
            "\n",
            "Adjusted Annual Setup and Holding Costs for Product B:\n",
            "Optimal Order Quantity: 75\n",
            "Setup Costs: $9600.00\n",
            "Holding Costs: $4500.00\n"
          ]
        }
      ]
    },
    {
      "cell_type": "markdown",
      "source": [
        "### 3. Let T denote time between successive orders. What will be the optimal T if you wants to minimize the total setup and holding cost? What are the corresponding order quantities?"
      ],
      "metadata": {
        "id": "yfkX90dBZ52u"
      }
    },
    {
      "cell_type": "markdown",
      "source": [
        "By jointly ordering both products A and B, the fixed cost for both proudct is $400 for any order size\n",
        "\n",
        "  - Product A: 3000 units per year\n",
        "  - Product B: 3600 units per year\n",
        "  - Product A: $105 per unit per year\n",
        "  - Product B: \\$120 per unit per year\n",
        "\n",
        "  - Based on the time between orders (T), the order quantities are:\n",
        "    - Q_A = D_A * T\n",
        "    - Q_B = D_B * T\n",
        "\n",
        "Total Annual Cost Function\n",
        "Minimize the total setup and holding costs combined, calculated as:\n",
        "$$\n",
        "G(T) = \\frac{400}{T} + \\frac{H_A \\times D_A \\times T}{2} + \\frac{H_B \\times D_B \\times T}{2}\n",
        "$$\n"
      ],
      "metadata": {
        "id": "MFULNwaBczHZ"
      }
    },
    {
      "cell_type": "code",
      "source": [
        "from sympy import symbols, Eq, solve, diff\n",
        "import sympy as sp\n",
        "\n",
        "# Define symbol for T\n",
        "T = symbols('T', positive=True, real=True)\n",
        "\n",
        "# Given values\n",
        "new_K = 400  # combined setup cost\n",
        "\n",
        "# Define the total cost function G(T)\n",
        "G_T = (new_K / T) + (H_A * D_A * T / 2) + (H_B * D_B * T / 2)\n",
        "\n",
        "# Calculate the derivative of G(T) with respect to T\n",
        "dG_dT = sp.diff(G_T, T)\n",
        "\n",
        "# Solve for optimal T\n",
        "optimal_T = sp.solve(sp.Eq(dG_dT, 0), T)\n",
        "\n",
        "# Calculate optimal order quantities for A and B based on T\n",
        "Q_A_optimal = D_A * optimal_T[0]\n",
        "Q_B_optimal = D_B * optimal_T[0]\n",
        "\n",
        "# Display the output\n",
        "print(\"Optimal Time Between Orders (T): {:.4f} years or {:.2f} days\".format(optimal_T[0], optimal_T[0] * 365))\n",
        "print(\"Optimal Order Quantity for Product A:\", round(Q_A_optimal))\n",
        "print(\"Optimal Order Quantity for Product B:\", round(Q_B_optimal))\n"
      ],
      "metadata": {
        "id": "Oqzh23pPc91n",
        "colab": {
          "base_uri": "https://localhost:8080/"
        },
        "outputId": "caf964ec-9954-4c28-f673-c8a6835ab3b5"
      },
      "execution_count": null,
      "outputs": [
        {
          "output_type": "stream",
          "name": "stdout",
          "text": [
            "Optimal Time Between Orders (T): 0.0327 years or 11.94 days\n",
            "Optimal Order Quantity for Product A: 98\n",
            "Optimal Order Quantity for Product B: 118\n"
          ]
        }
      ]
    },
    {
      "cell_type": "markdown",
      "source": [
        "### 4. What is the resulting total setup and holding cost? How does it compare to the cost in part 1 when you order A and B separately? Explain why."
      ],
      "metadata": {
        "id": "YBcpx0ZZpfcI"
      }
    },
    {
      "cell_type": "code",
      "source": [
        "optimal_T_val = 0.033\n",
        "# Calculate number of orders per year\n",
        "number_of_orders_per_year = 1 / optimal_T_val\n",
        "\n",
        "# Calculate total setup cost annually\n",
        "total_setup_cost_joint = new_K * number_of_orders_per_year\n",
        "\n",
        "# Calculate holding costs annually\n",
        "holding_cost_A_annual = (D_A * optimal_T_val / 2) * H_A\n",
        "holding_cost_B_annual = (D_B * optimal_T_val / 2) * H_B\n",
        "total_holding_cost_joint = holding_cost_A_annual + holding_cost_B_annual\n",
        "\n",
        "# Print the results\n",
        "print(\"Total Setup Cost Annually: ${:.2f}\".format(total_setup_cost_joint))\n",
        "print(\"Total Holding Cost Annually for Product A: ${:.2f}\".format(holding_cost_A_annual))\n",
        "print(\"Total Holding Cost Annually for Product B: ${:.2f}\".format(holding_cost_B_annual))\n",
        "print(\"Total Joint Holding Cost: ${:.2f}\".format(total_holding_cost_joint))"
      ],
      "metadata": {
        "colab": {
          "base_uri": "https://localhost:8080/"
        },
        "id": "4h8I6iRshjrs",
        "outputId": "6acdac11-5ad9-4edd-a573-6df57459b762"
      },
      "execution_count": null,
      "outputs": [
        {
          "output_type": "stream",
          "name": "stdout",
          "text": [
            "Total Setup Cost Annually: $12121.21\n",
            "Total Holding Cost Annually for Product A: $5197.50\n",
            "Total Holding Cost Annually for Product B: $7128.00\n",
            "Total Holding Cost Jointly: $12325.50\n"
          ]
        }
      ]
    },
    {
      "cell_type": "markdown",
      "source": [
        "Calculated Costs\n",
        "- **Joint Ordering Total Cost:** \\$12,121.21 annual setup ccost + \\$12,325.50 annual holding cost =  \\$24,446.71\n",
        "- **Separate Ordering Total Cost:** \\$5,612.49 Annual Setup Costs for A  +  \\$5,612.49 Annual Holding Costs for A + \\$6,572.67 Annual Setup Costs for B + \\$6,572.67 Annual Holding Costs for B = \\$24,370.32\n",
        "\n",
        "Cost Difference\n",
        "Joint ordering results in a slightly higher cost \\$24,446.71 compared to separate ordering \\$24,370.32, with a difference of \\$76.39.\n",
        "\n",
        "Cost Differences could due to:\n",
        "1. **Holding Costs**: Joint ordering may increase holding costs due to larger quantities being stored.\n",
        "2. **Setup Costs**: The reduction in the frequency of orders in joint ordering does not fully compensate for the increased holding costs.\n",
        "3. **Inventory Optimization**: Separate ordering allows for more tailored inventory management, potentially optimizing costs more effectively.\n",
        "\n",
        "## Conclusion\n",
        "While joint ordering simplifies operations, it doesn't always guarantee cost savings over separate ordering, especially when products have different demand rates and holding costs!\n"
      ],
      "metadata": {
        "id": "PbW14E3fjOdQ"
      }
    },
    {
      "cell_type": "markdown",
      "source": [
        "# Supply Chain Contract"
      ],
      "metadata": {
        "id": "JjzqvadKpfe4"
      }
    },
    {
      "cell_type": "markdown",
      "source": [
        "### 1. Based on the given discrete distribution, what are the overage and underage costs and how many baklavas should Nergis make at the start of each day?"
      ],
      "metadata": {
        "id": "Z0DpHW81pftF"
      }
    },
    {
      "cell_type": "markdown",
      "source": [
        "cost = 15 cents\n",
        "\n",
        "price = 50 cents\n",
        "\n",
        "salvage price = 0\n",
        "\n",
        "$C_o$ = cost - salvage price = 15 - 0 = 15 cents\n",
        "\n",
        "$C_u$ = price - cost = 50 - 15 = 35 cents\n",
        "\n",
        "\n",
        "F(Q) = 35/50 = 0.7\n",
        "\n",
        "The closest cumulative probability less than or equal to 0.7 is 0.47 at 20 baklavas sold in a day. Therefore, Nergis should make 20 baklavas at the start of each day."
      ],
      "metadata": {
        "id": "j4-x7LUc_nf1"
      }
    },
    {
      "cell_type": "markdown",
      "source": [
        "### 2. Suppose baklavas unsold at the end of the dat are purchased for 5 cents each. What are the overage and underage costs in this case? How many baklavas should Nergis make at the start of each day?"
      ],
      "metadata": {
        "id": "62jDtb47AaVV"
      }
    },
    {
      "cell_type": "markdown",
      "source": [
        "cost = 15 cents\n",
        "\n",
        "price = 50 cents\n",
        "\n",
        "salvage price = 5 cents\n",
        "\n",
        "$C_o$ = cost - salvage price = 15 - 5 = 10 cents\n",
        "\n",
        "$C_u$ = price - cost = 50 - 15 = 35 cents\n",
        "\n",
        "\n",
        "F(Q) = 35/45 = 0.78\n",
        "\n",
        "The closest cumulative probability that is less than or equal to 0.78 is 0.72 at 25 baklavas sold in a day. Therefore, Nergis should make 25 baklavas at the start of each day."
      ],
      "metadata": {
        "id": "unlD6nwLAs_w"
      }
    },
    {
      "cell_type": "markdown",
      "source": [
        "### 3. Nergis buys baklavas from Cemile every morning at 20 cents each and sells them for 50 cents. In addition, to promote the sales of baklavas, Cemile’s store buys back the leftover baklavas at the end of the day from Nergis at 7 cents. What are the overage and underage costs in this case? How many baklavas should Nergis buy at the start of each day?"
      ],
      "metadata": {
        "id": "6xgA7z-gIdt-"
      }
    },
    {
      "cell_type": "markdown",
      "source": [
        "cost = 20 cents\n",
        "\n",
        "price = 50 cents\n",
        "\n",
        "salvage price = 7 cents\n",
        "\n",
        "$C_o$ = cost - salvage price = 20 - 7 = 13 cents\n",
        "\n",
        "$C_u$ = price - cost = 50 - 20 = 30 cents\n",
        "\n",
        "\n",
        "F(Q) = 30/43 = 0.7\n",
        "\n",
        "The closest cumulative probability less than or equal to 0.7 is 0.47 at 20 baklavas sold in a day. Therefore, Nergis should buy 20 baklavas at the start of each day."
      ],
      "metadata": {
        "id": "scAbzWAQIu6m"
      }
    },
    {
      "cell_type": "markdown",
      "source": [
        "### 4. Nergis still buys the baklavas from Cemile every morning at 20 cents each and sells them for 50 cents. But now, instead of buying back the unsold units, Cemile agrees to pay Nergis a rebate of 2 cents for every unit sold to end customers at Nergis’s. What are the overage and underage costs in this case? How many baklavas should Nergis buy at the start of the day?"
      ],
      "metadata": {
        "id": "T1NqN2JcJZD0"
      }
    },
    {
      "cell_type": "markdown",
      "source": [
        "cost = 20 cents\n",
        "\n",
        "price = 50 cents + 2 cents of rebate\n",
        "\n",
        "salvage price = 0 cents\n",
        "\n",
        "$C_o$ = cost - salvage price = 20 - 0 = 20 cents\n",
        "\n",
        "$C_u$ = price - cost = 52 - 20 = 32 cents\n",
        "\n",
        "\n",
        "F(Q) = 32/52 = 0.615\n",
        "\n",
        "The closest cumulative probability less than or equal to 0.615 is 0.47 at 20 baklavas sold in a day. Therefore, Nergis should buy 20 baklavas at the start of each day."
      ],
      "metadata": {
        "id": "RsSEl0LnJYpn"
      }
    },
    {
      "cell_type": "markdown",
      "source": [
        "# Aroma Bakery Case Study"
      ],
      "metadata": {
        "id": "ECi6waSvMGVQ"
      }
    },
    {
      "cell_type": "markdown",
      "source": [
        "### 1. What are some of the factors that must be considered by the store manager while making the decisions of placing orders for the bakery products."
      ],
      "metadata": {
        "id": "Mof4wF4OMLFg"
      }
    },
    {
      "cell_type": "markdown",
      "source": [
        "Some key factors the store managers should consider are:\n",
        "\n",
        "* Historical sales data for each store\n",
        "  * store location can affect trend\n",
        "\n",
        "* Price of each product\n",
        "* Cost of making each product\n",
        "* How unsold products are managed\n",
        "* Inventory for products that can be sold the next day\n",
        "* Upcoming events like festivals or holidays that may impact demand\n",
        "* Weather conditions"
      ],
      "metadata": {
        "id": "CMP2MES6NIb7"
      }
    },
    {
      "cell_type": "markdown",
      "source": [
        "### 2. Given the historical sales data, what are possible methods that can be applied by the store manager to decide the optimum order quantity?"
      ],
      "metadata": {
        "id": "W2yeQM5oM00E"
      }
    },
    {
      "cell_type": "markdown",
      "source": [
        "The store manager can use the costs of overage and underage to find the cumulative distribution function of demand. Then, use the probability given to find the optimal demand, suggesting order quantity, given the trend of historical sales data."
      ],
      "metadata": {
        "id": "-Bcz8kEeNJBv"
      }
    },
    {
      "cell_type": "markdown",
      "source": [
        "### 3. Calculate the expected profit from the historical sales data"
      ],
      "metadata": {
        "id": "o8hXfWeHM-N1"
      }
    },
    {
      "cell_type": "code",
      "source": [
        "import matplotlib.pyplot as plt\n",
        "\n",
        "# Store daily sales data in lists\n",
        "aberdeen_sales = [966, 1047, 927, 952, 1033, 1315, 1219, 1232, 1399, 1216, 1216, 1388, 1230, 1250, 1145, 1213, 1034, 1083, 1222, 1118, 1292, 1128, 1044, 1007, 901, 1107, 1140, 1231, 1272, 1052]\n",
        "\n",
        "jordan_sales = [2542, 3010, 1626, 1677, 2754, 3900, 3480, 3569, 4198, 2283, 2238, 4029, 3406, 3561, 3193, 3489, 1870, 1967, 3390, 3094, 3360, 3109, 2912, 1938, 1571, 3046, 3206, 3554, 3808, 2992]\n",
        "\n",
        "# Plot histogram for Aberdeen store\n",
        "plt.figure(figsize=(4,3))\n",
        "plt.hist(aberdeen_sales, bins=15, edgecolor='black')\n",
        "plt.title('June Daily Sales for Aberdeen Store')\n",
        "plt.xlabel('Sales Volume for Specialty Buns')\n",
        "plt.ylabel('Frequency')\n",
        "plt.show()\n",
        "\n",
        "# Plot histogram for Jordan MTR store\n",
        "plt.figure(figsize=(4,3))\n",
        "plt.hist(jordan_sales, bins=15, edgecolor='black')\n",
        "plt.title('June Daily Sales for Jordan MTR Store')\n",
        "plt.xlabel('Sales Volume for Specialty Buns')\n",
        "plt.ylabel('Frequency')\n",
        "plt.show()"
      ],
      "metadata": {
        "colab": {
          "base_uri": "https://localhost:8080/",
          "height": 649
        },
        "id": "NqxP1rkd7ply",
        "outputId": "da83cd53-4fe4-4711-f862-6c9e78633f46"
      },
      "execution_count": null,
      "outputs": [
        {
          "output_type": "display_data",
          "data": {
            "text/plain": [
              "<Figure size 400x300 with 1 Axes>"
            ],
            "image/png": "[encoded data removed]"
          },
          "metadata": {}
        },
        {
          "output_type": "display_data",
          "data": {
            "text/plain": [
              "<Figure size 400x300 with 1 Axes>"
            ],
            "image/png": "[encoded data removed]"
          },
          "metadata": {}
        }
      ]
    },
    {
      "cell_type": "code",
      "source": [
        "import numpy as np\n",
        "\n",
        "aberdeen_mean = np.mean(aberdeen_sales)\n",
        "aberdeen_median = np.median(aberdeen_sales)\n",
        "aberdeen_min = np.min(aberdeen_sales)\n",
        "aberdeen_max = np.max(aberdeen_sales)\n",
        "aberdeen_std = np.std(aberdeen_sales)\n",
        "\n",
        "print(f\"Aberdeen Store Statistics:\")\n",
        "print(f\"Mean: {aberdeen_mean:.2f}\")\n",
        "print(f\"Median: {aberdeen_median}\")\n",
        "print(f\"Min: {aberdeen_min}\")\n",
        "print(f\"Max: {aberdeen_max}\")\n",
        "print(f\"Standard Deviation: {aberdeen_std:.2f}\")\n",
        "\n",
        "jordan_mean = np.mean(jordan_sales)\n",
        "jordan_median = np.median(jordan_sales)\n",
        "jordan_min = np.min(jordan_sales)\n",
        "jordan_max = np.max(jordan_sales)\n",
        "jordan_std = np.std(jordan_sales)\n",
        "\n",
        "print(f\"\\nJordan MTR Store Statistics:\")\n",
        "print(f\"Mean: {jordan_mean:.2f}\")\n",
        "print(f\"Median: {jordan_median}\")\n",
        "print(f\"Min: {jordan_min}\")\n",
        "print(f\"Max: {jordan_max}\")\n",
        "print(f\"Standard Deviation: {jordan_std:.2f}\")"
      ],
      "metadata": {
        "colab": {
          "base_uri": "https://localhost:8080/"
        },
        "id": "_BEiXLB28yZ8",
        "outputId": "3852c090-a279-488f-de27-0291df8d3184"
      },
      "execution_count": null,
      "outputs": [
        {
          "output_type": "stream",
          "name": "stdout",
          "text": [
            "Aberdeen Store Statistics:\n",
            "Mean: 1145.97\n",
            "Median: 1142.5\n",
            "Min: 901\n",
            "Max: 1399\n",
            "Standard Deviation: 129.68\n",
            "\n",
            "Jordan MTR Store Statistics:\n",
            "Mean: 2959.07\n",
            "Median: 3101.5\n",
            "Min: 1571\n",
            "Max: 4198\n",
            "Standard Deviation: 739.27\n"
          ]
        }
      ]
    },
    {
      "cell_type": "code",
      "source": [
        "def empirical_cdf(data):\n",
        "    sorted_data = np.sort(data)\n",
        "    cdf = np.arange(len(sorted_data)) / float(len(sorted_data))\n",
        "    return sorted_data, cdf\n",
        "\n",
        "aberdeen_cdf = empirical_cdf(aberdeen_sales)\n",
        "jordan_cdf = empirical_cdf(jordan_sales)\n",
        "\n",
        "def optimal_Q(data, c_o, c_u):\n",
        "    data.sort()\n",
        "    cdf_vals = np.arange(len(data)) / float(len(data))\n",
        "    c_ratio = c_u / (c_o + c_u)\n",
        "\n",
        "    idx = np.searchsorted(cdf_vals, c_ratio)\n",
        "    Q_opt = data[idx]\n",
        "\n",
        "    return Q_opt\n",
        "\n",
        "avg_sp = 7.8\n",
        "avg_cost = 3.12\n",
        "\n",
        "c_o = avg_cost - 0  # Overage cost per unit\n",
        "c_u = avg_sp - avg_cost  # Underage cost per unit\n",
        "\n",
        "aberdeen_Q_opt = optimal_Q(aberdeen_sales, c_o, c_u)\n",
        "jordan_Q_opt = optimal_Q(jordan_sales, c_o, c_u)\n",
        "\n",
        "print(f\"Optimal Order Quantity:\")\n",
        "print(f\"Aberdeen Store: {int(aberdeen_Q_opt)}\")\n",
        "print(f\"Jordan MTR Store: {int(jordan_Q_opt)}\")"
      ],
      "metadata": {
        "colab": {
          "base_uri": "https://localhost:8080/"
        },
        "id": "5F-PFkBs83_Y",
        "outputId": "05acc7d7-5cff-4f5e-c743-c3d29e64147a"
      },
      "execution_count": null,
      "outputs": [
        {
          "output_type": "stream",
          "name": "stdout",
          "text": [
            "Optimal Order Quantity:\n",
            "Aberdeen Store: 1216\n",
            "Jordan MTR Store: 3360\n"
          ]
        }
      ]
    },
    {
      "cell_type": "code",
      "source": [
        "# find expected profit\n",
        "# Expected Profit = (Avg Selling Price - Avg Product Cost) x Expected Sales Quantity\n",
        "\n",
        "# for Aberdeen Store\n",
        "aberdeen_e_profit = (avg_sp - avg_cost) * aberdeen_Q_opt\n",
        "\n",
        "# for Jordan MTR Store\n",
        "jordan_e_profit = (avg_sp - avg_cost) * jordan_Q_opt\n",
        "\n",
        "\n",
        "print(f\"Expected Profit for specialty buns:\")\n",
        "print(f\"Aberdeen Store: ${round(aberdeen_e_profit,2)}\")\n",
        "print(f\"Jordan MTR Store: ${round(jordan_e_profit,2)}\")"
      ],
      "metadata": {
        "colab": {
          "base_uri": "https://localhost:8080/"
        },
        "id": "kguvyaHE-O6v",
        "outputId": "11f06ac5-e1ef-4133-994d-2fdc287b455f"
      },
      "execution_count": null,
      "outputs": [
        {
          "output_type": "stream",
          "name": "stdout",
          "text": [
            "Expected Profit for specialty buns:\n",
            "Aberdeen Store: $5690.88\n",
            "Jordan MTR Store: $15724.8\n"
          ]
        }
      ]
    },
    {
      "cell_type": "markdown",
      "source": [
        "### 4. What are some ways (qualitative) to potentially improve the sales performance of the store? can you suggest some ways to improve the transshipment among stores and make it an attractive and systematic proposition for store managers ?"
      ],
      "metadata": {
        "id": "82_S3FcuM-VQ"
      }
    },
    {
      "cell_type": "markdown",
      "source": [
        "Some ways to improve sales performance:\n",
        "\n",
        "* Optimize the mix of products at each store based on demand patterns\n",
        "* Do promotions and discounts occassionally\n",
        "* Improve on demand forecasting by looking at more factors such as weather and holidays\n",
        "* Optimize store layout and product placement to potentially increase purchases\n",
        "\n",
        "For transshipment:\n",
        "\n",
        "* Optimize transshipment routes to minimize transportation costs\n",
        "* Use a centralized system to provide franchise-wide inventory levels\n",
        "* Set up a transshipment protocol among nearby stores\n",
        "* Provide incentives for transferring unsold inventory to meet other store's demand such as discounted cost and salvage cost."
      ],
      "metadata": {
        "id": "F2iD-JBNNKGq"
      }
    },
    {
      "cell_type": "markdown",
      "source": [
        "# QR policy 15 points"
      ],
      "metadata": {
        "id": "8DUGDbcMkKNZ"
      }
    },
    {
      "cell_type": "markdown",
      "source": [
        " ### 1. What is the optimal lot size (order quantity) and reorder level?"
      ],
      "metadata": {
        "id": "7pJYsS6QkN57"
      }
    },
    {
      "cell_type": "markdown",
      "source": [
        "The EOQ is calculated using the formula:\n",
        "$$Q = \\sqrt{\\frac{2DK}{h}}$$\n",
        "\n",
        "\n",
        "\n",
        "The reorder point \\(R\\) is determined to ensure stock availability during the lead time, calculated as:\n",
        "$$R = \\mu_L + z \\sigma_L$$\n",
        "where:\n",
        "- μ_L is the mean demand during the lead time,\n",
        "- σ_L is the standard deviation of the demand during the lead time,\n",
        "- Z is the safety factor (z-score) corresponding to the desired service level.\n",
        "\n",
        "\n",
        "Convert monthly demand to a weekly basis to align with the 14-week lead time:\n",
        "- **Weekly Demand Mean**:\n",
        "  $$\\mu_{\\text{weekly}} = \\frac{\\mu_{\\text{monthly}}}{4.33}$$\n",
        "- **Weekly Demand Standard Deviation**:\n",
        "  $$\\sigma_{\\text{weekly}} = \\frac{\\sigma_{\\text{monthly}}}{4.33}$$\n",
        "- **Lead Time Demand Mean**:\n",
        "  $$\\mu_L = \\mu_{\\text{weekly}} \\times 14$$ (since the lead time is 14 weeks)\n",
        "- **Lead Time Demand Std Dev**:\n",
        "  $$\\sigma_L = \\sigma_{\\text{weekly}} \\times \\sqrt{14}$$\n"
      ],
      "metadata": {
        "id": "2EIxyAvJ28uz"
      }
    },
    {
      "cell_type": "code",
      "source": [
        "import math\n",
        "\n",
        "# Declare variables\n",
        "mean_monthly = 28  # Monthly mean demand\n",
        "sigma_monthly = 8  # Monthly standard deviation\n",
        "lead_time_weeks = 14  # Replenishment lead time in weeks\n",
        "cost_per_can = 6  # Cost per can of paint\n",
        "stockout_cost_per_unit = 10  # Stockout cost per unit\n",
        "fixed_replenishment_cost = 15  # Fixed cost per replenishment order\n",
        "holding_cost_rate = 0.30  # Annual holding cost rate\n",
        "weeks_per_month = 4.33  # Weeks per month\n",
        "\n",
        "# Convert monthly demand statistics to weekly\n",
        "mu_weekly = mean_monthly / weeks_per_month\n",
        "sigma_weekly = sigma_monthly / weeks_per_month\n",
        "\n",
        "# Calculate lead time demand statistics\n",
        "mu_L = mu_weekly * lead_time_weeks\n",
        "sigma_L = sigma_weekly * math.sqrt(lead_time_weeks)\n",
        "\n",
        "# Annual demand\n",
        "annual_demand = mean_monthly * 12\n",
        "\n",
        "# Holding cost per unit per year\n",
        "holding_cost_per_unit_per_year = cost_per_can * holding_cost_rate\n",
        "\n",
        "# Calculate EOQ\n",
        "Q = math.sqrt((2 * annual_demand * fixed_replenishment_cost) / holding_cost_per_unit_per_year)\n",
        "\n",
        "# Determine z-score for a service level; assume 95% service level\n",
        "z_score = 1.645  # Standard z-score for 95% confidence (one-sided)\n",
        "\n",
        "# Calculate Reorder Point R\n",
        "R = mu_L + z_score * sigma_L\n",
        "\n",
        "# Output the results\n",
        "print(f\"Optimal Order Quantity (Q): {Q:.2f} cans\")\n",
        "print(f\"Reorder Point (R): {R:.2f} cans\")"
      ],
      "metadata": {
        "colab": {
          "base_uri": "https://localhost:8080/"
        },
        "id": "OoKNIYG_kqCA",
        "outputId": "1bba539a-d3df-4b46-c540-137d13a907ed"
      },
      "execution_count": null,
      "outputs": [
        {
          "output_type": "stream",
          "name": "stdout",
          "text": [
            "Optimal Order Quantity (Q): 74.83 cans\n",
            "Reorder Point (R): 101.90 cans\n"
          ]
        }
      ]
    },
    {
      "cell_type": "markdown",
      "source": [
        "### 2. What is the expected inventory level (safety stock) just before an order arrives? you can stop after 4 iterations in this case."
      ],
      "metadata": {
        "id": "H7OCfptpkdNe"
      }
    },
    {
      "cell_type": "markdown",
      "source": [
        "- **Expected Inventory Level \\((I)\\)** just before an order arrives:\n",
        "  $$\n",
        "  I = R - \\mu_L + SS\n",
        "  $$\n",
        "\n",
        "\n",
        "- **Safety Stock \\((SS)\\)**:\n",
        "  $$\n",
        "  SS = z \\sigma_L\n",
        "  $$\n",
        "  \n",
        "\n",
        "- **Reorder Point \\((R)\\)**:\n",
        "  $$\n",
        "  R = \\mu_L + SS\n",
        "  $$\n",
        "\n",
        "Variables\n",
        "- **Weekly Demand Mean**:\n",
        "  $$\\mu_{\\text{weekly}} = \\frac{\\mu_{\\text{monthly}}}{4.33}$$\n",
        "\n",
        "- **Weekly Demand Standard Deviation**:\n",
        "  $$\\sigma_{\\text{weekly}} = \\frac{\\sigma_{\\text{monthly}}}{4.33}$$\n",
        "\n",
        "- **Lead Time**: in weeks,\n",
        "\n",
        "- **Lead Time Demand Mean**:\n",
        "  $$\\mu_L = \\mu_{\\text{weekly}} \\times \\text{Lead Time}$$\n",
        "\n",
        "- **Lead Time Demand Standard Deviation**:\n",
        "  $$\\sigma_L = \\sigma_{\\text{weekly}} \\times \\sqrt{\\text{Lead Time}}$$\n",
        "\n"
      ],
      "metadata": {
        "id": "alWCdezR6ZUU"
      }
    },
    {
      "cell_type": "code",
      "source": [
        "import math\n",
        "import scipy.stats as stats\n",
        "\n",
        "# Declare variables\n",
        "mu_monthly = 28  # Monthly mean demand\n",
        "sigma_monthly = 8  # Monthly standard deviation\n",
        "weeks_per_month = 4.33  # Average number of weeks in a month\n",
        "lead_time = 14  # Lead time in weeks\n",
        "\n",
        "# Convert monthly demand to weekly\n",
        "mu_weekly = mu_monthly / weeks_per_month\n",
        "sigma_weekly = sigma_monthly / weeks_per_month\n",
        "\n",
        "# Calculate lead time demand\n",
        "mu_L = mu_weekly * lead_time\n",
        "sigma_L = sigma_weekly * math.sqrt(lead_time)\n",
        "\n",
        "# Assume a service level corresponding to a 95% confidence interval\n",
        "z = stats.norm.ppf(0.95)\n",
        "\n",
        "# Calculate safety stock\n",
        "SS = z * sigma_L\n",
        "\n",
        "# Calculate reorder point\n",
        "R = mu_L + SS\n",
        "\n",
        "# Expected inventory level just before an order arrives\n",
        "I = R - mu_L + SS\n",
        "\n",
        "# Output the results\n",
        "print(f\"Mean lead time demand (mu_L): {mu_L:.2f}\")\n",
        "print(f\"Standard deviation of lead time demand (sigma_L): {sigma_L:.2f}\")\n",
        "print(f\"Safety Stock (SS): {SS:.2f}\")\n",
        "print(f\"Reorder Point (R): {R:.2f}\")\n",
        "print(f\"Expected Inventory Level just before the order arrives (I): {I:.2f}\")\n"
      ],
      "metadata": {
        "colab": {
          "base_uri": "https://localhost:8080/"
        },
        "id": "wPCHylfp6D1k",
        "outputId": "c0cc64a8-f877-4e0f-ba36-80f3c1eccaf6"
      },
      "execution_count": null,
      "outputs": [
        {
          "output_type": "stream",
          "name": "stdout",
          "text": [
            "Mean lead time demand (mu_L): 90.53\n",
            "Standard deviation of lead time demand (sigma_L): 6.91\n",
            "Safety Stock (SS): 11.37\n",
            "Reorder Point (R): 101.90\n",
            "Expected Inventory Level just before the order arrives (I): 22.74\n"
          ]
        }
      ]
    },
    {
      "cell_type": "markdown",
      "source": [
        "# NewsVendor Simulation 15 points"
      ],
      "metadata": {
        "id": "1-kGZbg45BBg"
      }
    },
    {
      "cell_type": "code",
      "source": [
        "import numpy as np\n",
        "import matplotlib.pyplot as plt\n",
        "\n",
        "# Define input parameters\n",
        "mean_demand = 5000\n",
        "std_dev_demand = 2000\n",
        "cu = 40  # Underage cost\n",
        "co = 50  # Overage cost\n",
        "\n",
        "# Define the range of rooms to be simulated (rounded to the nearest hundred)\n",
        "rooms_range = np.arange(4000, 6001, 100)\n",
        "\n",
        "# Number of simulations\n",
        "num_simulations = 10000\n",
        "\n",
        "# Function to simulate demand and calculate costs\n",
        "def simulate_costs(rooms_booked, mean_demand, std_dev_demand, cu, co, num_simulations):\n",
        "    demands = np.random.normal(mean_demand, std_dev_demand, num_simulations)\n",
        "    overage_costs = co * np.maximum(0, rooms_booked - demands)\n",
        "    underage_costs = cu * np.maximum(0, demands - rooms_booked)\n",
        "    total_costs = overage_costs + underage_costs\n",
        "    return np.mean(overage_costs), np.mean(underage_costs), np.mean(total_costs)\n",
        "\n",
        "# Initialize lists to store results\n",
        "overage_costs_list = []\n",
        "underage_costs_list = []\n",
        "total_costs_list = []\n",
        "\n",
        "# Run simulations for each booking scenario\n",
        "for rooms in rooms_range:\n",
        "    avg_overage_cost, avg_underage_cost, avg_total_cost = simulate_costs(\n",
        "        rooms, mean_demand, std_dev_demand, cu, co, num_simulations)\n",
        "    overage_costs_list.append(avg_overage_cost)\n",
        "    underage_costs_list.append(avg_underage_cost)\n",
        "    total_costs_list.append(avg_total_cost)\n",
        "\n",
        "# Find the optimal number of rooms to book\n",
        "optimal_rooms_index = np.argmin(total_costs_list)\n",
        "optimal_rooms = rooms_range[optimal_rooms_index]\n",
        "\n",
        "# Plot the results\n",
        "plt.figure(figsize=(10, 6))\n",
        "plt.plot(rooms_range, overage_costs_list, label='Overage Cost')\n",
        "plt.plot(rooms_range, underage_costs_list, label='Underage Cost')\n",
        "plt.plot(rooms_range, total_costs_list, label='Total Cost', linestyle='--')\n",
        "plt.axvline(optimal_rooms, color='r', linestyle=':', label=f'Optimal Rooms: {optimal_rooms}')\n",
        "plt.xlabel('Number of Rooms Booked')\n",
        "plt.ylabel('Cost')\n",
        "plt.title('Cost Analysis for Hotel Room Booking')\n",
        "plt.legend()\n",
        "plt.grid(True)\n",
        "plt.show()\n",
        "\n",
        "# Output the optimal number of rooms to book\n",
        "print(f\"The optimal number of rooms to book is {optimal_rooms}.\")"
      ],
      "metadata": {
        "id": "igXm6iLx5Dz7",
        "colab": {
          "base_uri": "https://localhost:8080/",
          "height": 582
        },
        "outputId": "32de6f26-5271-4c2a-bc76-fc9b3e659991"
      },
      "execution_count": null,
      "outputs": [
        {
          "output_type": "display_data",
          "data": {
            "text/plain": [
              "<Figure size 1000x600 with 1 Axes>"
            ],
            "image/png": "[encoded data removed]"
          },
          "metadata": {}
        },
        {
          "output_type": "stream",
          "name": "stdout",
          "text": [
            "The optimal number of rooms to book is 4700.\n"
          ]
        }
      ]
    }
  ]
}
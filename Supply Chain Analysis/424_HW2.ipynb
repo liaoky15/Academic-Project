{
  "nbformat": 4,
  "nbformat_minor": 0,
  "metadata": {
    "colab": {
      "provenance": []
    },
    "kernelspec": {
      "name": "python3",
      "display_name": "Python 3"
    },
    "language_info": {
      "name": "python"
    }
  },
  "cells": [
    {
      "cell_type": "code",
      "execution_count": null,
      "metadata": {
        "colab": {
          "base_uri": "https://localhost:8080/"
        },
        "id": "tz0xcIPO10zU",
        "outputId": "0a66b34f-8d2e-42fa-d6e3-b30695e34e14"
      },
      "outputs": [
        {
          "output_type": "stream",
          "name": "stdout",
          "text": [
            "\u001b[2K     \u001b[90m━━━━━━━━━━━━━━━━━━━━━━━━━━━━━━━━━━━━━━━━\u001b[0m \u001b[32m12.7/12.7 MB\u001b[0m \u001b[31m23.2 MB/s\u001b[0m eta \u001b[36m0:00:00\u001b[0m\n",
            "\u001b[2K     \u001b[90m━━━━━━━━━━━━━━━━━━━━━━━━━━━━━━━━━━━━━━━━\u001b[0m \u001b[32m49.6/49.6 kB\u001b[0m \u001b[31m2.4 MB/s\u001b[0m eta \u001b[36m0:00:00\u001b[0m\n",
            "\u001b[?25hSelecting previously unselected package coinor-libcoinutils3v5:amd64.\n",
            "(Reading database ... 121752 files and directories currently installed.)\n",
            "Preparing to unpack .../0-coinor-libcoinutils3v5_2.11.4+repack1-2_amd64.deb ...\n",
            "Unpacking coinor-libcoinutils3v5:amd64 (2.11.4+repack1-2) ...\n",
            "Selecting previously unselected package coinor-libosi1v5:amd64.\n",
            "Preparing to unpack .../1-coinor-libosi1v5_0.108.6+repack1-2_amd64.deb ...\n",
            "Unpacking coinor-libosi1v5:amd64 (0.108.6+repack1-2) ...\n",
            "Selecting previously unselected package coinor-libclp1.\n",
            "Preparing to unpack .../2-coinor-libclp1_1.17.5+repack1-1_amd64.deb ...\n",
            "Unpacking coinor-libclp1 (1.17.5+repack1-1) ...\n",
            "Selecting previously unselected package coinor-libcgl1:amd64.\n",
            "Preparing to unpack .../3-coinor-libcgl1_0.60.3+repack1-3_amd64.deb ...\n",
            "Unpacking coinor-libcgl1:amd64 (0.60.3+repack1-3) ...\n",
            "Selecting previously unselected package coinor-libcbc3:amd64.\n",
            "Preparing to unpack .../4-coinor-libcbc3_2.10.7+ds1-1_amd64.deb ...\n",
            "Unpacking coinor-libcbc3:amd64 (2.10.7+ds1-1) ...\n",
            "Selecting previously unselected package coinor-cbc.\n",
            "Preparing to unpack .../5-coinor-cbc_2.10.7+ds1-1_amd64.deb ...\n",
            "Unpacking coinor-cbc (2.10.7+ds1-1) ...\n",
            "Setting up coinor-libcoinutils3v5:amd64 (2.11.4+repack1-2) ...\n",
            "Setting up coinor-libosi1v5:amd64 (0.108.6+repack1-2) ...\n",
            "Setting up coinor-libclp1 (1.17.5+repack1-1) ...\n",
            "Setting up coinor-libcgl1:amd64 (0.60.3+repack1-3) ...\n",
            "Setting up coinor-libcbc3:amd64 (2.10.7+ds1-1) ...\n",
            "Setting up coinor-cbc (2.10.7+ds1-1) ...\n",
            "Processing triggers for man-db (2.10.2-1) ...\n",
            "Processing triggers for libc-bin (2.35-0ubuntu3.4) ...\n",
            "/sbin/ldconfig.real: /usr/local/lib/libtbbmalloc.so.2 is not a symbolic link\n",
            "\n",
            "/sbin/ldconfig.real: /usr/local/lib/libtbbbind_2_0.so.3 is not a symbolic link\n",
            "\n",
            "/sbin/ldconfig.real: /usr/local/lib/libtbbbind.so.3 is not a symbolic link\n",
            "\n",
            "/sbin/ldconfig.real: /usr/local/lib/libtbb.so.12 is not a symbolic link\n",
            "\n",
            "/sbin/ldconfig.real: /usr/local/lib/libtbbbind_2_5.so.3 is not a symbolic link\n",
            "\n",
            "/sbin/ldconfig.real: /usr/local/lib/libtbbmalloc_proxy.so.2 is not a symbolic link\n",
            "\n"
          ]
        }
      ],
      "source": [
        "import matplotlib.pyplot as plt\n",
        "import numpy as np\n",
        "\n",
        "import shutil\n",
        "import sys\n",
        "import os.path\n",
        "\n",
        "if not shutil.which(\"pyomo\"):\n",
        "    !pip install -q pyomo\n",
        "    assert(shutil.which(\"pyomo\"))\n",
        "\n",
        "if not (shutil.which(\"cbc\") or os.path.isfile(\"cbc\")):\n",
        "    if \"google.colab\" in sys.modules:\n",
        "        !apt-get install -y -qq coinor-cbc\n",
        "    else:\n",
        "        try:\n",
        "            !conda install -c conda-forge coincbc\n",
        "        except:\n",
        "            pass\n",
        "\n",
        "assert(shutil.which(\"cbc\") or os.path.isfile(\"cbc\"))\n",
        "\n",
        "from pyomo.environ import *"
      ]
    },
    {
      "cell_type": "markdown",
      "source": [
        "## 1. Find all the basic feasible solutions of the knapsack LP with three goods with v = (5, 20, 3) and w = (2, 3, 4), and knapsack weight capacity 20."
      ],
      "metadata": {
        "id": "B8HIYQgQge-2"
      }
    },
    {
      "cell_type": "markdown",
      "source": [
        "W: knapsack capacity (in lbs)  \n",
        "N: Num of goods in the warehouse  \n",
        "w<sub>i</sub>: Total weight of the i<sup>th</sup> good  \n",
        "v<sub>i</sub>: The value of the i<sup>th</sup> good  \n",
        "x<sub>i</sub>: The fraction of the i<sup>th</sup> good carried away by the thief  "
      ],
      "metadata": {
        "id": "BZbFMbsW2apC"
      }
    },
    {
      "cell_type": "markdown",
      "source": [
        "### 1. Model the above problem as a LP.\n",
        "Objective function (maximize):\n",
        "$$\n",
        "\\sum_{i} v_i x_i,\n",
        "$$  \n",
        "Restrictions 1: x<sub>i</sub> ≤ 1 for i = 1,2,...,N  \n",
        "Restrictions 2:\n",
        "$$\n",
        "\\sum_{i} w_i x_i ≤ W\n",
        "$$  "
      ],
      "metadata": {
        "id": "Hskbd0ow2d4S"
      }
    },
    {
      "cell_type": "code",
      "source": [
        "from pyomo.environ import ConcreteModel, Var, Objective, Constraint, SolverFactory, NonNegativeReals, maximize\n",
        "\n",
        "# Problem data\n",
        "N = 3  # Number of items\n",
        "W = 20  # Knapsack capacity in lbs\n",
        "v = [5, 20, 3]  # Values of the items\n",
        "w = [2, 3, 4]  # Weights of the items\n",
        "\n",
        "# Model\n",
        "model = ConcreteModel()\n",
        "\n",
        "# Decision Variables\n",
        "model.x = Var(range(N), within=NonNegativeReals, bounds=(0, 1))\n",
        "\n",
        "# Objective Function: Maximize total value of the items taken\n",
        "model.value = Objective(expr=sum(v[i] * model.x[i] for i in range(N)), sense=maximize)\n",
        "\n",
        "# Constraint: Total weight must not exceed knapsack capacity\n",
        "model.weight_constraint = Constraint(expr=sum(w[i] * model.x[i] for i in range(N)) <= W)\n",
        "\n",
        "# Solve the model\n",
        "solver = SolverFactory('cbc')\n",
        "result = solver.solve(model, tee=True)\n",
        "\n",
        "# Display the solution\n",
        "print(\"Solution:\")\n",
        "for i in range(N):\n",
        "    print(f\"x_{i+1} = {model.x[i].value}\")\n",
        "print(f\"Total Value = {model.value.expr()}\")"
      ],
      "metadata": {
        "colab": {
          "base_uri": "https://localhost:8080/"
        },
        "id": "Lq454S78g4ZW",
        "outputId": "ff536255-8f17-4453-839d-8c9684fc7c30"
      },
      "execution_count": null,
      "outputs": [
        {
          "output_type": "stream",
          "name": "stdout",
          "text": [
            "Welcome to the CBC MILP Solver \n",
            "Version: 2.10.7 \n",
            "Build Date: Feb 14 2022 \n",
            "\n",
            "command line - /usr/bin/cbc -printingOptions all -import /tmp/tmpwyb7wkm4.pyomo.lp -stat=1 -solve -solu /tmp/tmpwyb7wkm4.pyomo.soln (default strategy 1)\n",
            "Option for printingOptions changed from normal to all\n",
            " CoinLpIO::readLp(): Maximization problem reformulated as minimization\n",
            "Coin0009I Switching back to maximization to get correct duals etc\n",
            "Presolve 0 (-1) rows, 0 (-3) columns and 0 (-3) elements\n",
            "Statistics for presolved model\n",
            "\n",
            "\n",
            "Problem has 0 rows, 0 columns (0 with objective) and 0 elements\n",
            "There are 21904 singletons with no objective \n",
            "Column breakdown:\n",
            "0 of type 0.0->inf, 0 of type 0.0->up, 0 of type lo->inf, \n",
            "0 of type lo->up, 0 of type free, 0 of type fixed, \n",
            "0 of type -inf->0.0, 0 of type -inf->up, 0 of type 0.0->1.0 \n",
            "Row breakdown:\n",
            "0 of type E 0.0, 0 of type E 1.0, 0 of type E -1.0, \n",
            "0 of type E other, 0 of type G 0.0, 0 of type G 1.0, \n",
            "0 of type G other, 0 of type L 0.0, 0 of type L 1.0, \n",
            "0 of type L other, 0 of type Range 0.0->1.0, 0 of type Range other, \n",
            "0 of type Free \n",
            "Presolve 0 (-1) rows, 0 (-3) columns and 0 (-3) elements\n",
            "Empty problem - 0 rows, 0 columns and 0 elements\n",
            "Optimal - objective value 28\n",
            "After Postsolve, objective 28, infeasibilities - dual 0 (0), primal 0 (0)\n",
            "Optimal objective 28 - 0 iterations time 0.002, Presolve 0.00\n",
            "Total time (CPU seconds):       0.00   (Wallclock seconds):       0.00\n",
            "\n",
            "Solution:\n",
            "x_1 = 1.0\n",
            "x_2 = 1.0\n",
            "x_3 = 1.0\n",
            "Total Value = 28.0\n"
          ]
        }
      ]
    },
    {
      "cell_type": "code",
      "source": [
        "from itertools import product\n",
        "\n",
        "# Weights of the items\n",
        "weights = [2, 3, 4]\n",
        "# Knapsack capacity\n",
        "W = 20\n",
        "# Number of items\n",
        "N = len(weights)\n",
        "\n",
        "# Generate all possible combinations of 0s and 1s for the items\n",
        "vertices = list(product([0, 1], repeat=N))\n",
        "\n",
        "# Now we filter out the combinations where the weight exceeds the knapsack's capacity\n",
        "feasible_vertices = [vertex for vertex in vertices if sum(w*x for w, x in zip(weights, vertex)) <= W]\n",
        "\n",
        "print(\"Feasible vertices:\")\n",
        "for vertex in feasible_vertices:\n",
        "    print(vertex)"
      ],
      "metadata": {
        "colab": {
          "base_uri": "https://localhost:8080/"
        },
        "id": "HdQu2XrHVF5h",
        "outputId": "940e2263-eee7-4b76-a1c5-4aa1c8187cca"
      },
      "execution_count": null,
      "outputs": [
        {
          "output_type": "stream",
          "name": "stdout",
          "text": [
            "Feasible vertices:\n",
            "(0, 0, 0)\n",
            "(0, 0, 1)\n",
            "(0, 1, 0)\n",
            "(0, 1, 1)\n",
            "(1, 0, 0)\n",
            "(1, 0, 1)\n",
            "(1, 1, 0)\n",
            "(1, 1, 1)\n"
          ]
        }
      ]
    },
    {
      "cell_type": "markdown",
      "source": [
        "## 2. Knapsack Thief strikes again"
      ],
      "metadata": {
        "id": "2rN5xt25gZOz"
      }
    },
    {
      "cell_type": "markdown",
      "source": [
        "U: knapsack volume capacity  \n",
        "W: knapsack weight capacity  \n",
        "N: Num of goods in the warehouse  \n",
        "u<sub>i</sub>: Total volume of the i<sup>th</sup> good  \n",
        "w<sub>i</sub>: Total weight of the i<sup>th</sup> good  \n",
        "v<sub>i</sub>: The value of the i<sup>th</sup> good  \n",
        "\n",
        "**Decision variable**:  \n",
        "x<sub>i</sub>: The fraction of the i<sup>th</sup> good carried away by the thief  "
      ],
      "metadata": {
        "id": "2DWaVKECigbm"
      }
    },
    {
      "cell_type": "markdown",
      "source": [
        "### (a). Set up an LP that will solve this problem. As always, be sure to clearly identify your decision variables.  \n",
        "\n",
        "Objective function (maximize):\n",
        "$$\n",
        "\\sum_{i} v_i x_i,\n",
        "$$  \n",
        "Restrictions 1: x<sub>i</sub> ≤ 1 for i = 1,2,...,N  \n",
        "Restrictions 2:\n",
        "$$\n",
        "\\sum_{i} w_i x_i ≤ W\n",
        "$$  \n",
        "Restrictions 3:\n",
        "$$\n",
        "\\sum_{i} u_i x_i ≤ U\n",
        "$$"
      ],
      "metadata": {
        "id": "GKEJBDvUjSmd"
      }
    },
    {
      "cell_type": "markdown",
      "source": [
        "### (b) Solve the following instance of the LP with 4 items in Pyomo. The maximum volume is 100 and the maximum weight is 30. The following table shows the volume, weight and value of the items."
      ],
      "metadata": {
        "id": "Px0Ppp5fj_3_"
      }
    },
    {
      "cell_type": "code",
      "source": [
        "from pyomo.environ import ConcreteModel, Var, Objective, Constraint, SolverFactory, NonNegativeReals, maximize\n",
        "\n",
        "# Problem data\n",
        "N = 4  # Number of items\n",
        "U = 100  # Knapsack volume capacity\n",
        "W = 30  # Knapsack weight capacity\n",
        "v = [3, 5, 1, 8]  # Values of the items\n",
        "u = [60, 40, 20, 20]  # Volumes of the items\n",
        "w = [40, 10, 20, 50]  # Weights of the items\n",
        "\n",
        "# Model\n",
        "model = ConcreteModel()\n",
        "\n",
        "# Decision Variables\n",
        "model.x = Var(range(N), within=NonNegativeReals, bounds=(0, 1))\n",
        "\n",
        "# Objective Function: Maximize total value of the items taken\n",
        "model.value = Objective(expr=sum(v[i] * model.x[i] for i in range(N)), sense=maximize)\n",
        "\n",
        "# Constraint: Total weight must not exceed knapsack capacity\n",
        "model.volume_constraint = Constraint(expr=sum(u[i] * model.x[i] for i in range(N)) <= U)\n",
        "model.weight_constraint = Constraint(expr=sum(w[i] * model.x[i] for i in range(N)) <= W)\n",
        "\n",
        "# Solve the model\n",
        "solver = SolverFactory('cbc')\n",
        "result = solver.solve(model, tee=True)\n",
        "\n",
        "# Display the solution\n",
        "print(\"Solution:\")\n",
        "for i in range(N):\n",
        "    print(f\"x_{i+1} = {model.x[i].value}\")\n",
        "print(f\"Total Value = {model.value.expr()}\")"
      ],
      "metadata": {
        "colab": {
          "base_uri": "https://localhost:8080/"
        },
        "id": "efQSL27rgYeo",
        "outputId": "bc29392f-de51-4d1e-a67d-907bd352c92e"
      },
      "execution_count": null,
      "outputs": [
        {
          "output_type": "stream",
          "name": "stdout",
          "text": [
            "Welcome to the CBC MILP Solver \n",
            "Version: 2.10.7 \n",
            "Build Date: Feb 14 2022 \n",
            "\n",
            "command line - /usr/bin/cbc -printingOptions all -import /tmp/tmp7ntrfipj.pyomo.lp -stat=1 -solve -solu /tmp/tmp7ntrfipj.pyomo.soln (default strategy 1)\n",
            "Option for printingOptions changed from normal to all\n",
            " CoinLpIO::readLp(): Maximization problem reformulated as minimization\n",
            "Coin0009I Switching back to maximization to get correct duals etc\n",
            "Presolve 2 (0) rows, 4 (0) columns and 8 (0) elements\n",
            "Statistics for presolved model\n",
            "\n",
            "\n",
            "Problem has 2 rows, 4 columns (4 with objective) and 8 elements\n",
            "Column breakdown:\n",
            "0 of type 0.0->inf, 0 of type 0.0->up, 0 of type lo->inf, \n",
            "0 of type lo->up, 0 of type free, 0 of type fixed, \n",
            "0 of type -inf->0.0, 0 of type -inf->up, 4 of type 0.0->1.0 \n",
            "Row breakdown:\n",
            "0 of type E 0.0, 0 of type E 1.0, 0 of type E -1.0, \n",
            "0 of type E other, 0 of type G 0.0, 0 of type G 1.0, \n",
            "0 of type G other, 0 of type L 0.0, 0 of type L 1.0, \n",
            "2 of type L other, 0 of type Range 0.0->1.0, 0 of type Range other, \n",
            "0 of type Free \n",
            "Presolve 2 (0) rows, 4 (0) columns and 8 (0) elements\n",
            "0  Obj 0 Dual inf 21 (4)\n",
            "1  Obj 8.2\n",
            "Optimal - objective value 8.2\n",
            "Optimal objective 8.2 - 1 iterations time 0.002\n",
            "Total time (CPU seconds):       0.00   (Wallclock seconds):       0.00\n",
            "\n",
            "Solution:\n",
            "x_1 = 0.0\n",
            "x_2 = 1.0\n",
            "x_3 = 0.0\n",
            "x_4 = 0.4\n",
            "Total Value = 8.2\n"
          ]
        }
      ]
    },
    {
      "cell_type": "markdown",
      "source": [
        "### (c). Consider only the first two items for this part. Draw a graph of the feasible region. Vary the value of each item to explore how the solution changes."
      ],
      "metadata": {
        "id": "5JXd6FWbngnt"
      }
    },
    {
      "cell_type": "code",
      "source": [
        "from pyomo.environ import ConcreteModel, Var, Objective, Constraint, SolverFactory, NonNegativeReals, maximize\n",
        "\n",
        "# Problem data\n",
        "N = 2  # Number of items\n",
        "U = 100  # Knapsack volume capacity\n",
        "W = 30  # Knapsack weight capacity\n",
        "v = [3, 5]  # Values of the items\n",
        "u = [60, 40]  # Volumes of the items\n",
        "w = [40, 10]  # Weights of the items\n",
        "\n",
        "# Model\n",
        "model = ConcreteModel()\n",
        "\n",
        "# Decision Variables\n",
        "model.x = Var(range(N), within=NonNegativeReals, bounds=(0, 1))\n",
        "\n",
        "# Objective Function: Maximize total value of the items taken\n",
        "model.value = Objective(expr=sum(v[i] * model.x[i] for i in range(N)), sense=maximize)\n",
        "\n",
        "# Constraint: Total weight must not exceed knapsack capacity\n",
        "model.volume_constraint = Constraint(expr=sum(u[i] * model.x[i] for i in range(N)) <= U)\n",
        "model.weight_constraint = Constraint(expr=sum(w[i] * model.x[i] for i in range(N)) <= W)\n",
        "\n",
        "# Solve the model\n",
        "solver = SolverFactory('cbc')\n",
        "result = solver.solve(model, tee=True)\n",
        "\n",
        "# Display the solution\n",
        "print(\"Solution:\")\n",
        "for i in range(N):\n",
        "    print(f\"x_{i+1} = {model.x[i].value}\")\n",
        "print(f\"Total Value = {model.value.expr()}\")"
      ],
      "metadata": {
        "colab": {
          "base_uri": "https://localhost:8080/"
        },
        "id": "1kkzyvIbz7aD",
        "outputId": "8f55113c-9ea8-4ff6-84ae-ec82d4dbb634"
      },
      "execution_count": null,
      "outputs": [
        {
          "output_type": "stream",
          "name": "stdout",
          "text": [
            "Welcome to the CBC MILP Solver \n",
            "Version: 2.10.7 \n",
            "Build Date: Feb 14 2022 \n",
            "\n",
            "command line - /usr/bin/cbc -printingOptions all -import /tmp/tmpb_yo7c06.pyomo.lp -stat=1 -solve -solu /tmp/tmpb_yo7c06.pyomo.soln (default strategy 1)\n",
            "Option for printingOptions changed from normal to all\n",
            " CoinLpIO::readLp(): Maximization problem reformulated as minimization\n",
            "Coin0009I Switching back to maximization to get correct duals etc\n",
            "Presolve 0 (-2) rows, 0 (-2) columns and 0 (-4) elements\n",
            "Statistics for presolved model\n",
            "\n",
            "\n",
            "Problem has 0 rows, 0 columns (0 with objective) and 0 elements\n",
            "There are 22712 singletons with no objective \n",
            "Column breakdown:\n",
            "0 of type 0.0->inf, 0 of type 0.0->up, 0 of type lo->inf, \n",
            "0 of type lo->up, 0 of type free, 0 of type fixed, \n",
            "0 of type -inf->0.0, 0 of type -inf->up, 0 of type 0.0->1.0 \n",
            "Row breakdown:\n",
            "0 of type E 0.0, 0 of type E 1.0, 0 of type E -1.0, \n",
            "0 of type E other, 0 of type G 0.0, 0 of type G 1.0, \n",
            "0 of type G other, 0 of type L 0.0, 0 of type L 1.0, \n",
            "0 of type L other, 0 of type Range 0.0->1.0, 0 of type Range other, \n",
            "0 of type Free \n",
            "Presolve 0 (-2) rows, 0 (-2) columns and 0 (-4) elements\n",
            "Empty problem - 0 rows, 0 columns and 0 elements\n",
            "Optimal - objective value 6.5\n",
            "After Postsolve, objective 6.5, infeasibilities - dual 0 (0), primal 0 (0)\n",
            "Optimal objective 6.5 - 0 iterations time 0.002, Presolve 0.00\n",
            "Total time (CPU seconds):       0.00   (Wallclock seconds):       0.00\n",
            "\n",
            "Solution:\n",
            "x_1 = 0.5\n",
            "x_2 = 1.0\n",
            "Total Value = 6.5\n"
          ]
        }
      ]
    },
    {
      "cell_type": "code",
      "source": [
        "fig, ax = plt.subplots(1, 1, figsize=(6, 6))\n",
        "ax.set_aspect('equal')\n",
        "ax.axis([0, 1.7, 0, 3])\n",
        "ax.set_xlabel('Item 1')\n",
        "ax.set_ylabel('Item 2')\n",
        "\n",
        "# Item 1 constraint\n",
        "x = np.array([0, 2])\n",
        "ax.plot([1, 1], [0, 1], 'g', lw=2)\n",
        "\n",
        "# Item 2 constraint\n",
        "x = np.array([0, 2])\n",
        "ax.plot([0, 1], [1, 1], 'g', lw=2)\n",
        "\n",
        "# Volume capacity constraint 60x + 40y = 100\n",
        "ax.plot(x, 2.5 - 1.5*x, 'r', lw=2)\n",
        "\n",
        "# Weight capacity constraint 40x + 10y = 30\n",
        "ax.plot(x, 3 - 4*x, 'b', lw=2)\n",
        "\n",
        "optimum = (0.5, 1)\n",
        "\n",
        "# The constant p for the line equation 3x + 5y = p is derived from the red point's coordinates\n",
        "p = 3 * optimum[0] + 5 * optimum[1]\n",
        "\n",
        "# Plot the line that passes through the red point\n",
        "x_vals = np.array(ax.get_xlim())\n",
        "y_vals = (p - 3 * x_vals) / 5\n",
        "ax.plot(x_vals, y_vals, 'y--')\n",
        "\n",
        "ax.legend(['Item 1 constraint', 'Item 2 constraint', 'Volume capacity constraint', 'Weight capacity constraint'])\n",
        "ax.fill_between([0, 1, 3], [1, 1, 1], [3, 3, 3], color='g', alpha=0.15)\n",
        "ax.fill_between([1, 1.7], [0, 0], [1, 1], color='g', alpha=0.15)\n",
        "ax.fill_between([0, 0.75, 1.7], [3, 0, 0], [3, 3, 3], color='b', alpha=0.15)\n",
        "ax.fill_between([0, 5/3, 1.7], [2.5, 0, 0], [3, 3, 3], color='r', alpha=0.15)\n",
        "\n",
        "arrowprops = dict(shrink=.1, width=1, headwidth=5)\n",
        "\n",
        "# Optimum\n",
        "ax.plot(0.5, 1, 'r.', ms=20)\n",
        "ax.annotate('Mixed Product Strategy', xy=(0.5, 1), xytext=(1, 1.5), arrowprops=arrowprops)\n",
        "\n",
        "ax.plot(0, 1, 'b.', ms=20)\n",
        "ax.annotate('Item 2 Only', xy=(0, 1), xytext=(0.25, 1.25), arrowprops=arrowprops)\n",
        "\n",
        "ax.plot(1, 0, 'b.', ms=20)\n",
        "ax.annotate('Item 1 Only', xy=(1, 0), xytext=(1.25, 0.25), arrowprops=arrowprops)\n",
        "\n",
        "\n",
        "plt.show()"
      ],
      "metadata": {
        "colab": {
          "base_uri": "https://localhost:8080/",
          "height": 547
        },
        "id": "XLIS76_tnfLo",
        "outputId": "fcc49c12-3981-4a91-f72f-a1911a25ea59"
      },
      "execution_count": null,
      "outputs": [
        {
          "output_type": "display_data",
          "data": {
            "text/plain": [
              "<Figure size 600x600 with 1 Axes>"
            ],
            "image/png": "[encoded data removed]"
          },
          "metadata": {}
        }
      ]
    },
    {
      "cell_type": "markdown",
      "source": [
        "Currently, the solution is (0.5,1). As we increase the ratio of the value for item 1 and the value for item 2 until 4 (currently it's 3/5 = 0.6), the solution will change to (0.75, 0)"
      ],
      "metadata": {
        "id": "ANTuHOYc3ZrB"
      }
    },
    {
      "cell_type": "markdown",
      "source": [
        "### d. Assuming there is exactly one optimal solution, what is the maximum number of goods that the thief would take fractionally? Concisely explain why you know this to be true."
      ],
      "metadata": {
        "id": "2KAmNvbYBPLr"
      }
    },
    {
      "cell_type": "markdown",
      "source": [
        "Assuming there is a exactly one optimal solution, the maximum number of goods that the thief would take fractionally is 2. This is because, in order to satisfy all the constraints and get a unique optimal solution in a LP problem, at least the equal number of constraints need to match the variables. In the knapsack problem, in addition to capacity limitations, the amount of each item taken is also limited by its availability, that's x ∈ [0,1].  \n",
        "\n",
        "At least N inequalities must be satisfied (turned into equations). After adding the volume constraint, it's possible that the volume and weight capacity constraints are both tight simultaneously. Other N-2 constraints should be about the x ∈ [0,1]. Since the constraints xi ≤ 1 and xi ≥0 for each item cannot be strictly met at the same time (i.e., cannot be equalized at the same time), at most 2 items can be selected fractionally. Such a layout guarantees uniqueness of understanding and satisfies the needs of all constraints. Therefore, in the unique optimal solution, the thief can only take at most 2 item in fractional quantities."
      ],
      "metadata": {
        "id": "UyiErJaUFPP6"
      }
    },
    {
      "cell_type": "markdown",
      "source": [
        "### (e). Assume now that the thief has decided to enlist some friends, so that there are now k thieves with identical knapsacks, each limited to taking volume up to U, and weight up to W. The thieves wish to maximize the aggregate value gathered by the entire set of thieves. Again assuming there is exactly one optimal solution, what is the maximum number of goods that will be taken fractionally by our set of thieves in aggregate (i.e. after you add up the totals taken by all thieves)?"
      ],
      "metadata": {
        "id": "bHLPnMAfMWfX"
      }
    },
    {
      "cell_type": "markdown",
      "source": [
        "U: knapsack volume capacity  \n",
        "W: knapsack weight capacity  \n",
        "N: Num of goods in the warehouse  \n",
        "k: Num of thieves  \n",
        "u<sub>i</sub>: Total volume of the i<sup>th</sup> good  \n",
        "w<sub>i</sub>: Total weight of the i<sup>th</sup> good  \n",
        "v<sub>i</sub>: The value of the i<sup>th</sup> good  \n",
        "\n",
        "**Decision variable**:  \n",
        "y<sub>i</sub>: The fraction of the i<sup>th</sup> good taken by all thieves  "
      ],
      "metadata": {
        "id": "hLzl1gb5M5et"
      }
    },
    {
      "cell_type": "markdown",
      "source": [
        "\n",
        "Objective function (maximize):\n",
        "$$\n",
        "\\sum_{i} v_i y_i,\n",
        "$$  \n",
        "Restrictions 1: y<sub>i</sub> ≤ 1 for i = 1,2,...,N  \n",
        "Restrictions 2:\n",
        "$$\n",
        "\\sum_{i} w_i x_i ≤ kW\n",
        "$$  \n",
        "Restrictions 3:\n",
        "$$\n",
        "\\sum_{i} u_i x_i ≤ kU\n",
        "$$"
      ],
      "metadata": {
        "id": "qpAQab6QMkrp"
      }
    },
    {
      "cell_type": "markdown",
      "source": [
        "Since every thief has the same restriction, and we assume an unique optimal solution, the number of items taken by the fraction in the overall optimal solution can only be two at most. This is because each thief will follow the same optimal strategy when solving their own backpack problem independently, that is, they will each independently get the same result. If, for the problem of a single backpack, at most two items are taken in fractional form (in order to achieve the boundary condition), then even if we have multiple thieves, each thief's solution will be a copy of the same optimal solution.  \n",
        "From another perspective, we can view the k thieves as a whole. We just have to think about what is the maximum value we can get for the whole under the constraints. Their own internal distribution, who takes a little more or a little less, does not affect the overall outcome.  "
      ],
      "metadata": {
        "id": "YJHUoR61hh6q"
      }
    },
    {
      "cell_type": "markdown",
      "source": [
        "## 3. Solving Inventory Optimization as a Network Flow"
      ],
      "metadata": {
        "id": "IwGXgtaEebY2"
      }
    },
    {
      "cell_type": "markdown",
      "source": [
        "### 1. Model the problem as a min-cost flow to find the most profitable inventory planning up to time T."
      ],
      "metadata": {
        "id": "33ThklcRgrft"
      }
    },
    {
      "cell_type": "markdown",
      "source": [
        "#### Define variables:\n",
        "*   $x_i$: Number of items manufactured on day i\n",
        "*   $y_i$: Number of items sold on day i\n",
        "*   $z_i$: Number of items held in inventory on day i\n",
        "*   $w_i$: Number of items backordered from day i+1 to day i\n",
        "\n",
        "#### Objective Function:\n",
        "\n",
        "$ \\text{Minimize} \\sum\\limits_{i=1}^T (c_i x_i) + \\sum\\limits_{i=1}^T(h z_i) + \\sum\\limits_{i=1}^T(b w_i) $\n",
        "\n",
        "\n",
        "#### Subjected to:\n",
        "\n",
        "$ y_i + w_i = d_i $\n",
        "\n",
        "$ (x_i + z_{i-1}) - (y_i + w_i) = z_i $\n",
        "\n",
        "$ x_i,  y_i,  z_i, w_i \\ge 0 $\n",
        "\n"
      ],
      "metadata": {
        "id": "qK8f_LChg0lP"
      }
    },
    {
      "cell_type": "markdown",
      "source": [
        "### 2. Using Pyomo, find the optimal planning when p=8, h=1, and b=2"
      ],
      "metadata": {
        "id": "wXpMrcfOg-xK"
      }
    },
    {
      "cell_type": "code",
      "source": [
        "# Define the model\n",
        "model = ConcreteModel()\n",
        "\n",
        "# Parameters\n",
        "model.T = 10  # Number of days\n",
        "model.p = 8   # Selling price\n",
        "model.h = 1   # Holding cost\n",
        "model.b = 2   # Backlog cost\n",
        "model.d = {1: 4, 2: 5, 3: 3, 4: 6, 5: 8, 6: 2, 7: 0, 8: 6, 9: 4, 10: 3}  # Demands\n",
        "model.c = {1: 1, 2: 2, 3: 3, 4: 6, 5: 8, 6: 2, 7: 1, 8: 2, 9: 5, 10: 3}  # Manufacturing costs\n",
        "\n",
        "# Decision variables\n",
        "model.x = Var(range(1, model.T+1), domain=NonNegativeReals)  # Production\n",
        "model.y = Var(range(1, model.T+1), domain=NonNegativeReals)  # Sales\n",
        "model.z = Var(range(1, model.T+1), domain=NonNegativeReals)  # Inventory\n",
        "model.w = Var(range(1, model.T+1), domain=NonNegativeReals)  # Backlogs\n",
        "\n",
        "# Objective function\n",
        "model.cost = Objective(expr=sum(model.c[t] * model.x[t] for t in range(1, model.T+1)) +\n",
        "                       sum(model.h * model.z[t] for t in range(1, model.T+1)) +\n",
        "                       sum(model.b * model.w[t] for t in range(1, model.T+1)),\n",
        "                       sense=minimize)\n",
        "\n",
        "# Constraints\n",
        "def demand_satisfaction(model, t):\n",
        "    return model.y[t] + sum(model.w[t] for t in range(1,model.T+1)) == model.d[t]\n",
        "model.demand_satisfaction = Constraint(range(1, model.T+1), rule=demand_satisfaction)\n",
        "\n",
        "\n",
        "def inventory_balance(model, t):\n",
        "    if t == 1:\n",
        "        return model.z[t] == (model.x[t]) - (model.y[t] + model.w[t])\n",
        "    else:\n",
        "        return model.z[t] == (model.x[t] + model.z[t-1]) - (model.y[t] + model.w[t])\n",
        "model.inventory_balance = Constraint(range(1, model.T+1), rule=inventory_balance)\n",
        "\n",
        "\n",
        "# Solve the model\n",
        "solver = SolverFactory('cbc')\n",
        "solver.solve(model)\n",
        "\n",
        "# Print the solution\n",
        "print(f\"Total Cost: {model.cost()}\")\n",
        "for t in range(1, model.T+1):\n",
        "    print(f\"Day {t}: Production = {model.x[t]()}, Sales = {model.y[t]()}, Inventory = {model.z[t]()}, Backlogs = {model.w[t]()}\")"
      ],
      "metadata": {
        "id": "8L3j0BVXebJb",
        "colab": {
          "base_uri": "https://localhost:8080/"
        },
        "outputId": "cb22cc4b-1091-4765-dd4d-663c235443ed"
      },
      "execution_count": null,
      "outputs": [
        {
          "output_type": "stream",
          "name": "stdout",
          "text": [
            "Total Cost: 124.0\n",
            "Day 1: Production = 9.0, Sales = 4.0, Inventory = 5.0, Backlogs = 0.0\n",
            "Day 2: Production = 0.0, Sales = 5.0, Inventory = 0.0, Backlogs = 0.0\n",
            "Day 3: Production = 17.0, Sales = 3.0, Inventory = 14.0, Backlogs = 0.0\n",
            "Day 4: Production = 0.0, Sales = 6.0, Inventory = 8.0, Backlogs = 0.0\n",
            "Day 5: Production = 0.0, Sales = 8.0, Inventory = 0.0, Backlogs = 0.0\n",
            "Day 6: Production = 2.0, Sales = 2.0, Inventory = 0.0, Backlogs = 0.0\n",
            "Day 7: Production = 10.0, Sales = 0.0, Inventory = 10.0, Backlogs = 0.0\n",
            "Day 8: Production = 0.0, Sales = 6.0, Inventory = 4.0, Backlogs = 0.0\n",
            "Day 9: Production = 0.0, Sales = 4.0, Inventory = 0.0, Backlogs = 0.0\n",
            "Day 10: Production = 3.0, Sales = 3.0, Inventory = 0.0, Backlogs = 0.0\n"
          ]
        }
      ]
    },
    {
      "cell_type": "markdown",
      "source": [
        "When p=8, h=1, and b=2, the minimum total cost is $124"
      ],
      "metadata": {
        "id": "7kx4RBCqZv_3"
      }
    },
    {
      "cell_type": "markdown",
      "source": [
        "## 4. Task Allocation"
      ],
      "metadata": {
        "id": "7qukdqVrdByJ"
      }
    },
    {
      "cell_type": "markdown",
      "source": [
        "### 1. Given the context information, $A$, $B$, $c$, and $d$, reduce this problem to a minimum cut problem in order to find a reassignment of tasks into groups $A$ and $B$ such that the cost $qd + pc$ is minimized."
      ],
      "metadata": {
        "id": "-OEWWTUYdD9t"
      }
    },
    {
      "cell_type": "markdown",
      "source": [
        "#### Define Variables:\n",
        "*   $q_{ij}$: binary variable indicating whether the edge ($v_i$, $v_j$) is part of the cut or not.\n",
        "*   $y_i$: binary variable indicating whether the group assignment of task $v_i$ has been changed or not.\n",
        "\n",
        "#### Objective Function:\n",
        "$\\text{Minimize} \\sum_{i,j} d_{ij} q_{ij} + \\sum_{i} c_i y_i$\n",
        "\n",
        "#### Subjected to:\n",
        "$ q_{ij} = max(p_i - p_j, 0)$, ∀(i, j) ∈ E\n",
        "\n",
        "$ y_i ≥ p_i - p_i^0$, ∀i ∈ V\n",
        "\n",
        "$ y_i ≥ p_i^0 - p_i$, ∀i ∈ V\n",
        "\n",
        "$ p_d = p_s = 1$\n",
        "\n",
        "$ p_i ∈ {0, 1}$, ∀i ∈ V\n",
        "\n",
        "$ y_i ∈ {0, 1}$, ∀i ∈ V"
      ],
      "metadata": {
        "id": "U3a-N5Rldba5"
      }
    },
    {
      "cell_type": "markdown",
      "source": [
        "### 2. Using Pyomo solve the following real instance.\n",
        "In your solution make sure to include the new assignments of tasks into groups A and B.\n",
        "\n",
        "There are 11 taks in a factory who are labeled with numbers 1, 2, . . ., 11. The following table shows the relations. Let c = 15, d = 10, A = {1, 2, 3, 4, 5}, and B = {6, 7, 8, 9, 10, 11}.\n",
        "\n",
        "Tasks with similar context information:\n",
        "[(1,5), (1,10), (2,7), (2,8), (2,9), (2,10), (3,10), (4,10) , (5,6), (5,11), (7,9)]"
      ],
      "metadata": {
        "id": "u0GcAFtbd3o_"
      }
    },
    {
      "cell_type": "code",
      "source": [
        "# Create a concrete model\n",
        "model = ConcreteModel()\n",
        "\n",
        "# Define sets\n",
        "N = [1, 2, 3, 4, 5, 6, 7, 8, 9, 10, 11]  # Set of tasks\n",
        "A = [1, 2, 3, 4, 5]  # Initially assigned to group A\n",
        "B = [6, 7, 8, 9, 10, 11]  # Initially assigned to group B\n",
        "Relations = [(1, 5), (1, 10), (2, 7), (2, 8), (2, 9), (2, 10), (3, 10), (4, 10), (5, 6), (5, 11), (7, 9)]  # Pairs of tasks that share context\n",
        "\n",
        "# Define parameters\n",
        "c = 15  # Cost of changing group assignment\n",
        "d = 10  # Information transfer cost\n",
        "\n",
        "# Define binary variables\n",
        "model.p = Var(N, domain=Binary)  # p[i] = 1 if task i is assigned to B, 0 if assigned to A\n",
        "model.q = Var(Relations, domain=Binary)  # q[i,j] = 1 if tasks i and j are assigned to different machines\n",
        "model.y = Var(N, domain=Binary)  # y[i] = 1 if task i is reassigned from its initial assignment\n",
        "\n",
        "# Define the objective function\n",
        "model.obj = Objective(expr=sum(d * model.q[i, j] for i, j in Relations) + sum(c * model.y[i] for i in N), sense=minimize)\n",
        "\n",
        "# Define constraints\n",
        "def q_constraint(model, i, j):\n",
        "    return model.q[i, j] >= model.p[i] - model.p[j]\n",
        "model.q_con = Constraint(Relations, rule=q_constraint)\n",
        "\n",
        "def q_constraint2(model, i, j):\n",
        "    return model.q[i, j] >= model.p[j] - model.p[i]\n",
        "model.q_con2 = Constraint(Relations, rule=q_constraint2)\n",
        "\n",
        "def change_constraint_A(model, i):\n",
        "    if i in A:\n",
        "        return model.y[i] >= model.p[i]\n",
        "    else:\n",
        "        return Constraint.Skip\n",
        "model.change_con_A = Constraint(N, rule=change_constraint_A)\n",
        "\n",
        "def change_constraint_B(model, i):\n",
        "    if i in B:\n",
        "        return model.y[i] >= 1 - model.p[i]\n",
        "    else:\n",
        "        return Constraint.Skip\n",
        "model.change_con_B = Constraint(N, rule=change_constraint_B)\n",
        "\n",
        "# Solve the problem\n",
        "solver = SolverFactory('cbc')\n",
        "solver.solve(model)\n",
        "\n",
        "# Print the solution\n",
        "print(\"Objective value:\", model.obj())\n",
        "\n",
        "# Get the new assignments\n",
        "new_A = [i for i in N if model.p[i].value == 0]\n",
        "new_B = [i for i in N if model.p[i].value == 1]\n",
        "print(\"New group A:\", new_A)\n",
        "print(\"New group B:\", new_B)"
      ],
      "metadata": {
        "id": "0nbdCeHYg0F1",
        "colab": {
          "base_uri": "https://localhost:8080/"
        },
        "outputId": "6b48414c-b047-4e9d-b62c-5a0e8148ab18"
      },
      "execution_count": null,
      "outputs": [
        {
          "output_type": "stream",
          "name": "stdout",
          "text": [
            "Objective value: 60.0\n",
            "New group A: [1, 3, 4, 5, 10]\n",
            "New group B: [2, 6, 7, 8, 9, 11]\n"
          ]
        }
      ]
    },
    {
      "cell_type": "markdown",
      "source": [
        "This solution reassigns tasks 2 and 10, which makes the change cost 30. The transfer cost happened 3 times within the 11 task, which also costs 30. So the total cost of this solution is 60."
      ],
      "metadata": {
        "id": "6g6WLGaRIx_g"
      }
    },
    {
      "cell_type": "markdown",
      "source": [
        "## 5. Multi-commodity flow Network 10"
      ],
      "metadata": {
        "id": "Z1JWxB_KaB2R"
      }
    },
    {
      "cell_type": "markdown",
      "source": [
        "Define variables\n",
        "* $G = (V, E)$ as the graph where $V$ is the set of nodes and $E$ the set of edges\n",
        "* $K$ as the set of commodities\n",
        "* $u_{ij}$ as the capacity of edge $(i,j) \\in E$\n",
        "* $c_{ij}$ as the cost per unit flow of edge $(i,j) \\in E$\n",
        "* $d_{ik}$ as the demand of commodity $k$ at node $i$\n",
        "* $s_{ik}$ as the supply of commodity $k$ at node $i$\n",
        "* $x_{ijk}$ as the flow of commodity $k$ along edge $(i,j)$\n",
        "\n",
        "\n",
        "\n",
        "\n"
      ],
      "metadata": {
        "id": "YLm9v5BQftcB"
      }
    },
    {
      "cell_type": "markdown",
      "source": [
        "#### Objective function\n",
        "Min transportation cost\n",
        "$$\n",
        "\\text{Minimize} \\quad \\sum_{(i,j) \\in E} \\sum_{k \\in K} c_{ij} x_{ijk}\n",
        "$$\n",
        "\n",
        "#### Constraints\n",
        "$$\n",
        " \\text{sources, sinks} : \\quad \\sum_{j: (i, j) \\in E} x_{ijk} - \\sum_{j: (j, i) \\in E} x_{jik} = s_{ik} - d_{ik}\n",
        "$$\n",
        "\n",
        "$$\n",
        "\\quad \\sum_{k \\in K} x_{ijk} \\leq u_{ij}, \\forall (i,j) \\in E\n",
        "$$\n",
        "\n",
        "$$\n",
        " \\quad x_{ijk} \\geq 0, \\forall (i,j) \\in E, \\forall k \\in K :\n",
        "$$\n",
        "\n",
        "\n"
      ],
      "metadata": {
        "id": "c-2ES1xmkBZL"
      }
    },
    {
      "cell_type": "markdown",
      "source": [
        "* Nodes: ${1, 2, 3}$\n",
        "* Edges: $(1, 2), (2, 3), (1, 3)$\n",
        "* Commodities: ${A, B, C}$\n",
        "* Capacities: $u_{12} = u_{23} = u_{13} = 1$\n",
        "* Costs: Assume $c_{ij} = 1$ for simplicity\n",
        "*Demands and Supplies:\n",
        "$s_{1A} = s_{1B} = s_{1C} = 1$, $d_{3A} = d_{3B} = d_{3C} = 1$\n",
        "* All other $d_{ik} = s_{ik} = 0$"
      ],
      "metadata": {
        "id": "JEkHcrHFklhh"
      }
    },
    {
      "cell_type": "code",
      "source": [
        "!apt-get install -y -qq glpk-utils"
      ],
      "metadata": {
        "colab": {
          "base_uri": "https://localhost:8080/"
        },
        "id": "0ydVPYZy9a_n",
        "outputId": "eb0d1fac-5a0b-4721-ce41-87bf49ef4ebd"
      },
      "execution_count": null,
      "outputs": [
        {
          "output_type": "stream",
          "name": "stdout",
          "text": [
            "Selecting previously unselected package libsuitesparseconfig5:amd64.\n",
            "(Reading database ... \r(Reading database ... 5%\r(Reading database ... 10%\r(Reading database ... 15%\r(Reading database ... 20%\r(Reading database ... 25%\r(Reading database ... 30%\r(Reading database ... 35%\r(Reading database ... 40%\r(Reading database ... 45%\r(Reading database ... 50%\r(Reading database ... 55%\r(Reading database ... 60%\r(Reading database ... 65%\r(Reading database ... 70%\r(Reading database ... 75%\r(Reading database ... 80%\r(Reading database ... 85%\r(Reading database ... 90%\r(Reading database ... 95%\r(Reading database ... 100%\r(Reading database ... 121797 files and directories currently installed.)\n",
            "Preparing to unpack .../libsuitesparseconfig5_1%3a5.10.1+dfsg-4build1_amd64.deb ...\n",
            "Unpacking libsuitesparseconfig5:amd64 (1:5.10.1+dfsg-4build1) ...\n",
            "Selecting previously unselected package libamd2:amd64.\n",
            "Preparing to unpack .../libamd2_1%3a5.10.1+dfsg-4build1_amd64.deb ...\n",
            "Unpacking libamd2:amd64 (1:5.10.1+dfsg-4build1) ...\n",
            "Selecting previously unselected package libcolamd2:amd64.\n",
            "Preparing to unpack .../libcolamd2_1%3a5.10.1+dfsg-4build1_amd64.deb ...\n",
            "Unpacking libcolamd2:amd64 (1:5.10.1+dfsg-4build1) ...\n",
            "Selecting previously unselected package libglpk40:amd64.\n",
            "Preparing to unpack .../libglpk40_5.0-1_amd64.deb ...\n",
            "Unpacking libglpk40:amd64 (5.0-1) ...\n",
            "Selecting previously unselected package glpk-utils.\n",
            "Preparing to unpack .../glpk-utils_5.0-1_amd64.deb ...\n",
            "Unpacking glpk-utils (5.0-1) ...\n",
            "Setting up libsuitesparseconfig5:amd64 (1:5.10.1+dfsg-4build1) ...\n",
            "Setting up libamd2:amd64 (1:5.10.1+dfsg-4build1) ...\n",
            "Setting up libcolamd2:amd64 (1:5.10.1+dfsg-4build1) ...\n",
            "Setting up libglpk40:amd64 (5.0-1) ...\n",
            "Setting up glpk-utils (5.0-1) ...\n",
            "Processing triggers for man-db (2.10.2-1) ...\n",
            "Processing triggers for libc-bin (2.35-0ubuntu3.4) ...\n",
            "/sbin/ldconfig.real: /usr/local/lib/libtbbmalloc.so.2 is not a symbolic link\n",
            "\n",
            "/sbin/ldconfig.real: /usr/local/lib/libtbbbind_2_0.so.3 is not a symbolic link\n",
            "\n",
            "/sbin/ldconfig.real: /usr/local/lib/libtbbbind.so.3 is not a symbolic link\n",
            "\n",
            "/sbin/ldconfig.real: /usr/local/lib/libtbb.so.12 is not a symbolic link\n",
            "\n",
            "/sbin/ldconfig.real: /usr/local/lib/libtbbbind_2_5.so.3 is not a symbolic link\n",
            "\n",
            "/sbin/ldconfig.real: /usr/local/lib/libtbbmalloc_proxy.so.2 is not a symbolic link\n",
            "\n"
          ]
        }
      ]
    },
    {
      "cell_type": "code",
      "source": [
        "from pyomo.environ import *\n",
        "\n",
        "# Initialize the model\n",
        "model = ConcreteModel()\n",
        "\n",
        "# Define sets for nodes, edges, and commodities\n",
        "nodes = ['A', 'B', 'C']\n",
        "edges = [('A', 'B'), ('B', 'C'), ('A', 'C')]\n",
        "commodities = ['1', '2', '3']\n",
        "\n",
        "# Define parameters: capacity and demand for each node and commodity\n",
        "capacity = {('A', 'B'): 1, ('B', 'C'): 1, ('A', 'C'): 1}\n",
        "demand = {('C', '1'): 1, ('C', '2'): 1, ('C', '3'): 1}\n",
        "\n",
        "# Variables: flow of each commodity on each edge\n",
        "model.flow = Var(edges, commodities, within=NonNegativeReals)\n",
        "\n",
        "# Objective: Minimize cost (assuming a cost of 1 for simplicity)\n",
        "model.cost = Objective(\n",
        "    expr=sum(model.flow[e, k] for e in edges for k in commodities),\n",
        "    sense=minimize\n",
        ")\n",
        "\n",
        "# Constraints\n",
        "\n",
        "# Capacity constraints for each edge\n",
        "def capacity_rule(model, i, j):\n",
        "    return sum(model.flow[i, j, k] for k in commodities) <= capacity[i, j]\n",
        "\n",
        "model.capacity_constraints = Constraint(edges, rule=capacity_rule)\n",
        "\n",
        "# Flow conservation for each commodity and node\n",
        "def flow_conservation_rule(model, n, k):\n",
        "    if n == 'C':\n",
        "        # Demand nodes\n",
        "        return sum(model.flow[i, n, k] for i, j in edges if (i, n) in edges) == demand[n, k]\n",
        "    elif n != 'A':\n",
        "        # Intermediate nodes\n",
        "        return (sum(model.flow[i, n, k] for i, j in edges if (i, n) in edges) -\n",
        "                sum(model.flow[n, j, k] for i, j in edges if (n, j) in edges)) == 0\n",
        "    else:\n",
        "        # Supply nodes (not explicitly modeled in this example)\n",
        "        return Constraint.Skip\n",
        "\n",
        "model.flow_conservation = Constraint(nodes, commodities, rule=flow_conservation_rule)\n",
        "\n",
        "# Solve the model\n",
        "from pyomo.environ import SolverFactory\n",
        "\n",
        "solver = SolverFactory('cbc')\n",
        "result = solver.solve(model, tee=True)\n",
        "\n",
        "# Output results\n",
        "print(f\"Status: {result.solver.status}\")\n",
        "for e in edges:\n",
        "    for k in commodities:\n",
        "        print(f\"Flow of commodity {k} on edge {e}: {model.flow[e, k].value}\")\n"
      ],
      "metadata": {
        "colab": {
          "base_uri": "https://localhost:8080/"
        },
        "id": "RAAgCqUwhXBk",
        "outputId": "eb81a5b8-faec-4888-c9bd-c9d0cd84a570"
      },
      "execution_count": null,
      "outputs": [
        {
          "output_type": "stream",
          "name": "stdout",
          "text": [
            "Welcome to the CBC MILP Solver \n",
            "Version: 2.10.7 \n",
            "Build Date: Feb 14 2022 \n",
            "\n",
            "command line - /usr/bin/cbc -printingOptions all -import /tmp/tmpoox_zkf0.pyomo.lp -stat=1 -solve -solu /tmp/tmpoox_zkf0.pyomo.soln (default strategy 1)\n",
            "Option for printingOptions changed from normal to all\n",
            "Presolve 0 (-9) rows, 0 (-9) columns and 0 (-21) elements\n",
            "Statistics for presolved model\n",
            "\n",
            "\n",
            "Problem has 0 rows, 0 columns (0 with objective) and 0 elements\n",
            "There are 22010 singletons with no objective \n",
            "Column breakdown:\n",
            "0 of type 0.0->inf, 0 of type 0.0->up, 0 of type lo->inf, \n",
            "0 of type lo->up, 0 of type free, 0 of type fixed, \n",
            "0 of type -inf->0.0, 0 of type -inf->up, 0 of type 0.0->1.0 \n",
            "Row breakdown:\n",
            "0 of type E 0.0, 0 of type E 1.0, 0 of type E -1.0, \n",
            "0 of type E other, 0 of type G 0.0, 0 of type G 1.0, \n",
            "0 of type G other, 0 of type L 0.0, 0 of type L 1.0, \n",
            "0 of type L other, 0 of type Range 0.0->1.0, 0 of type Range other, \n",
            "0 of type Free \n",
            "Presolve 0 (-9) rows, 0 (-9) columns and 0 (-21) elements\n",
            "Empty problem - 0 rows, 0 columns and 0 elements\n",
            "Optimal - objective value 3\n",
            "After Postsolve, objective 3, infeasibilities - dual 0 (0), primal 0 (0)\n",
            "Optimal objective 3 - 0 iterations time 0.002, Presolve 0.00\n",
            "Total time (CPU seconds):       0.00   (Wallclock seconds):       0.00\n",
            "\n",
            "Status: ok\n",
            "Flow of commodity 1 on edge ('A', 'B'): 0.0\n",
            "Flow of commodity 2 on edge ('A', 'B'): 0.0\n",
            "Flow of commodity 3 on edge ('A', 'B'): 1.0\n",
            "Flow of commodity 1 on edge ('B', 'C'): 0.0\n",
            "Flow of commodity 2 on edge ('B', 'C'): 0.0\n",
            "Flow of commodity 3 on edge ('B', 'C'): 1.0\n",
            "Flow of commodity 1 on edge ('A', 'C'): 0.5\n",
            "Flow of commodity 2 on edge ('A', 'C'): 0.5\n",
            "Flow of commodity 3 on edge ('A', 'C'): 0.0\n"
          ]
        }
      ]
    },
    {
      "cell_type": "markdown",
      "source": [
        "## 6. Shortest path problem"
      ],
      "metadata": {
        "id": "en6Q_Vu2fmz7"
      }
    },
    {
      "cell_type": "markdown",
      "source": [
        "### 1. the shortest path from A to B."
      ],
      "metadata": {
        "id": "qGUaLJIdg7lg"
      }
    },
    {
      "cell_type": "markdown",
      "source": [
        "### Variables\n",
        "* $x_{ij}$ in \\{0, 1\\} for each edge (i,j), which takes the value 1 if the edge is used in the path from A to B and 0 otherwise\n",
        "\n",
        "### Obective Function\n",
        "Min total cost path from A to B\n",
        "$$\n",
        " \\text{Minimize} \\quad \\sum_{(i,j) \\in E} c_{ij} x_{ij}\n",
        "$$\n",
        "\n",
        "### Constraints\n",
        "* $ \\sum_{(A,j) \\in E} x_{Aj} = 1 $\n",
        "* $\\sum_{(i,B) \\in E} x_{iB} = 1 $\n",
        "* $ \\forall i \\in V \\setminus \\{A, B\\} : \\sum_{(i,j) \\in E} x_{ij} - \\sum_{(j,i) \\in E} x_{ji} = 0 $\n",
        "* $ x_{ij} \\in \\{0, 1\\} \\quad \\forall (i,j) \\in E$\n",
        "\n",
        "\n",
        "\n"
      ],
      "metadata": {
        "id": "WONxVOiCOzwH"
      }
    },
    {
      "cell_type": "code",
      "source": [
        "from pyomo.environ import *\n",
        "\n",
        "# Define the model\n",
        "model = ConcreteModel()\n",
        "\n",
        "# Nodes in the graph\n",
        "nodes = ['A', 'C', 'D', 'S', 'F', 'G', 'T', 'B']\n",
        "\n",
        "# Edges and their corresponding costs\n",
        "edges = {('A', 'C'): 7000, ('A', 'D'): 4000, ('A', 'S'): 1000,\n",
        "         ('C', 'D'): 2000, ('C', 'T'): 4000, ('D', 'T'): 2000,\n",
        "         ('D', 'F'): 2000, ('S', 'D'): 1000, ('S', 'F'): 3000,\n",
        "         ('S', 'G'): 5000, ('F', 'B'): 2000, ('F', 'T'): 6000,\n",
        "         ('G', 'T'): 0, ('T', 'B'): 1000, ('G', 'B'): 2000}\n",
        "\n",
        "# Define the variables\n",
        "model.x = Var(edges.keys(), within=Binary)\n",
        "\n",
        "# Objective: Minimize the cost of the path\n",
        "model.cost = Objective(expr=sum(edges[e]*model.x[e] for e in edges), sense=minimize)\n",
        "\n",
        "# Constraints\n",
        "def source_rule(model, i):\n",
        "    if i == 'A':\n",
        "        return sum(model.x[('A', j)] for j in nodes if ('A', j) in edges) == 1\n",
        "    else:\n",
        "        return Constraint.Skip\n",
        "model.source = Constraint(nodes, rule=source_rule)\n",
        "\n",
        "def sink_rule(model, i):\n",
        "    if i == 'B':\n",
        "        return sum(model.x[(j, 'B')] for j in nodes if (j, 'B') in edges) == 1\n",
        "    else:\n",
        "        return Constraint.Skip\n",
        "model.sink = Constraint(nodes, rule=sink_rule)\n",
        "\n",
        "def conservation_rule(model, i):\n",
        "    if i not in ['A', 'B']:\n",
        "        return (sum(model.x[(i, j)] for j in nodes if (i, j) in edges) -\n",
        "                sum(model.x[(j, i)] for j in nodes if (j, i) in edges)) == 0\n",
        "    else:\n",
        "        return Constraint.Skip\n",
        "model.conservation = Constraint(nodes, rule=conservation_rule)\n",
        "\n",
        "# Solve the model\n",
        "solver = SolverFactory('cbc')\n",
        "result = solver.solve(model, tee=True)\n",
        "\n",
        "# Output results\n",
        "print(f\"Status: {result.solver.status}\")\n",
        "for e in model.x:\n",
        "    if model.x[e].value == 1:\n",
        "        print(f\"Use edge {e} with cost {edges[e]}\")\n"
      ],
      "metadata": {
        "colab": {
          "base_uri": "https://localhost:8080/"
        },
        "id": "NyFep2N_hBmh",
        "outputId": "ac6bddf5-d716-48e2-d46d-2f63b2ef7ebd"
      },
      "execution_count": null,
      "outputs": [
        {
          "output_type": "stream",
          "name": "stdout",
          "text": [
            "Welcome to the CBC MILP Solver \n",
            "Version: 2.10.7 \n",
            "Build Date: Feb 14 2022 \n",
            "\n",
            "command line - /usr/bin/cbc -printingOptions all -import /tmp/tmpk172y575.pyomo.lp -stat=1 -solve -solu /tmp/tmpk172y575.pyomo.soln (default strategy 1)\n",
            "Option for printingOptions changed from normal to all\n",
            "Presolve 4 (-4) rows, 11 (-4) columns and 22 (-8) elements\n",
            "Statistics for presolved model\n",
            "Original problem has 15 integers (15 of which binary)\n",
            "Presolved problem has 11 integers (11 of which binary)\n",
            "==== 0 zero objective 7 different\n",
            "2 variables have objective of 1000\n",
            "2 variables have objective of 2000\n",
            "2 variables have objective of 3000\n",
            "1 variables have objective of 5000\n",
            "2 variables have objective of 6000\n",
            "1 variables have objective of 8000\n",
            "1 variables have objective of 10000\n",
            "==== absolute objective values 7 different\n",
            "2 variables have objective of 1000\n",
            "2 variables have objective of 2000\n",
            "2 variables have objective of 3000\n",
            "1 variables have objective of 5000\n",
            "2 variables have objective of 6000\n",
            "1 variables have objective of 8000\n",
            "1 variables have objective of 10000\n",
            "==== for integers 0 zero objective 7 different\n",
            "2 variables have objective of 1000\n",
            "2 variables have objective of 2000\n",
            "2 variables have objective of 3000\n",
            "1 variables have objective of 5000\n",
            "2 variables have objective of 6000\n",
            "1 variables have objective of 8000\n",
            "1 variables have objective of 10000\n",
            "==== for integers absolute objective values 7 different\n",
            "2 variables have objective of 1000\n",
            "2 variables have objective of 2000\n",
            "2 variables have objective of 3000\n",
            "1 variables have objective of 5000\n",
            "2 variables have objective of 6000\n",
            "1 variables have objective of 8000\n",
            "1 variables have objective of 10000\n",
            "===== end objective counts\n",
            "\n",
            "\n",
            "Problem has 4 rows, 11 columns (11 with objective) and 22 elements\n",
            "Column breakdown:\n",
            "0 of type 0.0->inf, 0 of type 0.0->up, 0 of type lo->inf, \n",
            "0 of type lo->up, 0 of type free, 0 of type fixed, \n",
            "0 of type -inf->0.0, 0 of type -inf->up, 11 of type 0.0->1.0 \n",
            "Row breakdown:\n",
            "2 of type E 0.0, 1 of type E 1.0, 1 of type E -1.0, \n",
            "0 of type E other, 0 of type G 0.0, 0 of type G 1.0, \n",
            "0 of type G other, 0 of type L 0.0, 0 of type L 1.0, \n",
            "0 of type L other, 0 of type Range 0.0->1.0, 0 of type Range other, \n",
            "0 of type Free \n",
            "Continuous objective value is 5000 - 0.00 seconds\n",
            "Cgl0004I processed model has 0 rows, 0 columns (0 integer (0 of which binary)) and 0 elements\n",
            "Cbc3007W No integer variables - nothing to do\n",
            "Cuts at root node changed objective from 5000 to -1.79769e+308\n",
            "Probing was tried 0 times and created 0 cuts of which 0 were active after adding rounds of cuts (0.000 seconds)\n",
            "Gomory was tried 0 times and created 0 cuts of which 0 were active after adding rounds of cuts (0.000 seconds)\n",
            "Knapsack was tried 0 times and created 0 cuts of which 0 were active after adding rounds of cuts (0.000 seconds)\n",
            "Clique was tried 0 times and created 0 cuts of which 0 were active after adding rounds of cuts (0.000 seconds)\n",
            "MixedIntegerRounding2 was tried 0 times and created 0 cuts of which 0 were active after adding rounds of cuts (0.000 seconds)\n",
            "FlowCover was tried 0 times and created 0 cuts of which 0 were active after adding rounds of cuts (0.000 seconds)\n",
            "TwoMirCuts was tried 0 times and created 0 cuts of which 0 were active after adding rounds of cuts (0.000 seconds)\n",
            "ZeroHalf was tried 0 times and created 0 cuts of which 0 were active after adding rounds of cuts (0.000 seconds)\n",
            "\n",
            "Result - Optimal solution found\n",
            "\n",
            "Objective value:                5000.00000000\n",
            "Enumerated nodes:               0\n",
            "Total iterations:               0\n",
            "Time (CPU seconds):             0.00\n",
            "Time (Wallclock seconds):       0.00\n",
            "\n",
            "Total time (CPU seconds):       0.00   (Wallclock seconds):       0.00\n",
            "\n",
            "Status: ok\n",
            "Use edge ('S', 'D') with cost 1000\n",
            "Use edge ('A', 'S') with cost 1000\n",
            "Use edge ('D', 'T') with cost 2000\n",
            "Use edge ('T', 'B') with cost 1000\n"
          ]
        }
      ]
    },
    {
      "cell_type": "markdown",
      "source": [
        "### 2. the most reliable path from A to B. Assume that different pipelines fail independently of each other.\n",
        "\n"
      ],
      "metadata": {
        "id": "1bpPoCB5g88_"
      }
    },
    {
      "cell_type": "markdown",
      "source": [
        "### Define variables\n",
        "* $x_{ij} \\in \\{0, 1\\}$ for each (i, j) which takes the value 1 if the edge is used in the most reliable path from A to B and 0 otherwise.\n",
        "\n",
        "### Objective function\n",
        "$$ \\text{Maximize overall reliability} \\quad \\sum_{(i,j) \\in E} x_{ij} \\log(R_{ij}) $$\n",
        "\n",
        "### Constraints\n",
        "* $\\sum_{(A,j) \\in E} x_{Aj} = 1 $\n",
        "* $ \\forall i \\in V \\setminus \\{A, B\\} : \\sum_{(i,j) \\in E} x_{ij} - \\sum_{(j,i) \\in E} x_{ji} = 0 $\n",
        "* $ x_{ij} \\in \\{0, 1\\} \\quad \\forall (i,j) \\in E $\n",
        "\n",
        "\n"
      ],
      "metadata": {
        "id": "_pUtJHIq6s2v"
      }
    },
    {
      "cell_type": "code",
      "source": [
        "from pyomo.environ import *\n",
        "import math\n",
        "\n",
        "# Initialize the model\n",
        "model = ConcreteModel()\n",
        "\n",
        "# Define sets for nodes and edges\n",
        "nodes = {'A', 'B', 'C', 'D', 'S', 'F', 'G', 'T'}\n",
        "edges = {('A', 'C'), ('A', 'D'), ('A', 'S'), ('C', 'D'), ('C', 'T'),\n",
        "         ('D', 'T'), ('D', 'F'), ('S', 'D'), ('S', 'F'), ('S', 'G'),\n",
        "         ('F', 'B'), ('F', 'T'), ('G', 'T'), ('T', 'B'), ('G', 'B')}\n",
        "\n",
        "# Define parameters for failure probability of each edge\n",
        "failure_prob = {('A', 'C'): 0.4, ('A', 'D'): 0.9, ('A', 'S'): 0.1,\n",
        "                ('C', 'D'): 0.2, ('C', 'T'): 0.0, ('D', 'T'): 0.5,\n",
        "                ('D', 'F'): 0.1, ('S', 'D'): 0.3, ('S', 'F'): 0.4,\n",
        "                ('S', 'G'): 0.2, ('F', 'B'): 0.2, ('F', 'T'): 0.2,\n",
        "                ('G', 'T'): 1.0, ('T', 'B'): 0.6, ('G', 'B'): 0.8}\n",
        "\n",
        "# Calculate reliability as 1 - failure probability and handle zero reliability\n",
        "reliability = {e: max(1 - failure_prob[e], 1e-10) for e in edges}  # Use a small positive number instead of 0\n",
        "\n",
        "# Decision variable: x_ij = 1 if edge (i, j) is used in the path\n",
        "model.x = Var(edges, within=Binary)\n",
        "\n",
        "# Objective: Maximize the sum of logarithms of edge reliabilities, excluding edges with zero reliability\n",
        "def objective_rule(m):\n",
        "    return sum(model.x[e] * math.log(reliability[e]) for e in edges if reliability[e] > 0)\n",
        "model.objective = Objective(rule=objective_rule, sense=maximize)\n",
        "\n",
        "# Constraint: Ensure that exactly one edge leaves node A\n",
        "def source_rule(m):\n",
        "    return sum(model.x[('A', j)] for j in nodes if ('A', j) in edges) == 1\n",
        "model.source = Constraint(rule=source_rule)\n",
        "\n",
        "# Constraint: Ensure that exactly one edge enters node B\n",
        "def sink_rule(m):\n",
        "    return sum(model.x[(i, 'B')] for i in nodes if (i, 'B') in edges) == 1\n",
        "model.sink = Constraint(rule=sink_rule)\n",
        "\n",
        "# Flow conservation constraints:\n",
        "# The sum of inflows should be equal to the sum of outflows for all nodes except A and B\n",
        "def conservation_rule(m, n):\n",
        "    if n not in ['A', 'B']:\n",
        "        return (sum(model.x[(i, n)] for i in nodes if (i, n) in edges) -\n",
        "                sum(model.x[(n, j)] for j in nodes if (n, j) in edges)) == 0\n",
        "    else:\n",
        "        return Constraint.Skip\n",
        "model.conservation = Constraint(nodes, rule=conservation_rule)\n",
        "\n",
        "# Solve the model using CBC solver\n",
        "solver = SolverFactory('cbc')\n",
        "result = solver.solve(model, tee=True)\n",
        "\n",
        "# Output the results\n",
        "print(f\"Status: {result.solver.status}\")\n",
        "for e in edges:\n",
        "    if model.x[e].value == 1:\n",
        "        print(f\"Use edge {e} with reliability {reliability[e]}\")\n",
        "\n",
        "print(\"Objective (Maximized Log-Reliability):\", model.objective.expr())\n"
      ],
      "metadata": {
        "colab": {
          "base_uri": "https://localhost:8080/"
        },
        "id": "_OCtVb_AhCVZ",
        "outputId": "db041d83-b26a-413a-d101-03f95474487c"
      },
      "execution_count": null,
      "outputs": [
        {
          "output_type": "stream",
          "name": "stdout",
          "text": [
            "Welcome to the CBC MILP Solver \n",
            "Version: 2.10.7 \n",
            "Build Date: Feb 14 2022 \n",
            "\n",
            "command line - /usr/bin/cbc -printingOptions all -import /tmp/tmpb10vgj6o.pyomo.lp -stat=1 -solve -solu /tmp/tmpb10vgj6o.pyomo.soln (default strategy 1)\n",
            "Option for printingOptions changed from normal to all\n",
            " CoinLpIO::readLp(): Maximization problem reformulated as minimization\n",
            "Coin0009I Switching back to maximization to get correct duals etc\n",
            "Presolve 4 (-4) rows, 11 (-4) columns and 22 (-8) elements\n",
            "Statistics for presolved model\n",
            "Original problem has 15 integers (15 of which binary)\n",
            "Presolved problem has 11 integers (11 of which binary)\n",
            "==== 0 zero objective 11 different\n",
            "1 variables have objective of -23.249\n",
            "1 variables have objective of -2.19722\n",
            "1 variables have objective of -0.916291\n",
            "1 variables have objective of -0.693147\n",
            "1 variables have objective of -0.628609\n",
            "1 variables have objective of -0.510826\n",
            "1 variables have objective of -0.405465\n",
            "1 variables have objective of -0.356675\n",
            "1 variables have objective of -0.223144\n",
            "1 variables have objective of -0.105361\n",
            "1 variables have objective of 0.693147\n",
            "==== absolute objective values 10 different\n",
            "1 variables have objective of 0.105361\n",
            "1 variables have objective of 0.223144\n",
            "1 variables have objective of 0.356675\n",
            "1 variables have objective of 0.405465\n",
            "1 variables have objective of 0.510826\n",
            "1 variables have objective of 0.628609\n",
            "2 variables have objective of 0.693147\n",
            "1 variables have objective of 0.916291\n",
            "1 variables have objective of 2.19722\n",
            "1 variables have objective of 23.249\n",
            "==== for integers 0 zero objective 11 different\n",
            "1 variables have objective of -23.249\n",
            "1 variables have objective of -2.19722\n",
            "1 variables have objective of -0.916291\n",
            "1 variables have objective of -0.693147\n",
            "1 variables have objective of -0.628609\n",
            "1 variables have objective of -0.510826\n",
            "1 variables have objective of -0.405465\n",
            "1 variables have objective of -0.356675\n",
            "1 variables have objective of -0.223144\n",
            "1 variables have objective of -0.105361\n",
            "1 variables have objective of 0.693147\n",
            "==== for integers absolute objective values 10 different\n",
            "1 variables have objective of 0.105361\n",
            "1 variables have objective of 0.223144\n",
            "1 variables have objective of 0.356675\n",
            "1 variables have objective of 0.405465\n",
            "1 variables have objective of 0.510826\n",
            "1 variables have objective of 0.628609\n",
            "2 variables have objective of 0.693147\n",
            "1 variables have objective of 0.916291\n",
            "1 variables have objective of 2.19722\n",
            "1 variables have objective of 23.249\n",
            "===== end objective counts\n",
            "\n",
            "\n",
            "Problem has 4 rows, 11 columns (11 with objective) and 22 elements\n",
            "Column breakdown:\n",
            "0 of type 0.0->inf, 0 of type 0.0->up, 0 of type lo->inf, \n",
            "0 of type lo->up, 0 of type free, 0 of type fixed, \n",
            "0 of type -inf->0.0, 0 of type -inf->up, 11 of type 0.0->1.0 \n",
            "Row breakdown:\n",
            "2 of type E 0.0, 1 of type E 1.0, 1 of type E -1.0, \n",
            "0 of type E other, 0 of type G 0.0, 0 of type G 1.0, \n",
            "0 of type G other, 0 of type L 0.0, 0 of type L 1.0, \n",
            "0 of type L other, 0 of type Range 0.0->1.0, 0 of type Range other, \n",
            "0 of type Free \n",
            "Continuous objective value is -0.79054 - 0.00 seconds\n",
            "Cgl0004I processed model has 0 rows, 0 columns (0 integer (0 of which binary)) and 0 elements\n",
            "Cbc3007W No integer variables - nothing to do\n",
            "Cuts at root node changed objective from 0.79054 to -1.79769e+308\n",
            "Probing was tried 0 times and created 0 cuts of which 0 were active after adding rounds of cuts (0.000 seconds)\n",
            "Gomory was tried 0 times and created 0 cuts of which 0 were active after adding rounds of cuts (0.000 seconds)\n",
            "Knapsack was tried 0 times and created 0 cuts of which 0 were active after adding rounds of cuts (0.000 seconds)\n",
            "Clique was tried 0 times and created 0 cuts of which 0 were active after adding rounds of cuts (0.000 seconds)\n",
            "MixedIntegerRounding2 was tried 0 times and created 0 cuts of which 0 were active after adding rounds of cuts (0.000 seconds)\n",
            "FlowCover was tried 0 times and created 0 cuts of which 0 were active after adding rounds of cuts (0.000 seconds)\n",
            "TwoMirCuts was tried 0 times and created 0 cuts of which 0 were active after adding rounds of cuts (0.000 seconds)\n",
            "ZeroHalf was tried 0 times and created 0 cuts of which 0 were active after adding rounds of cuts (0.000 seconds)\n",
            "\n",
            "Result - Optimal solution found\n",
            "\n",
            "Objective value:                -0.79053953\n",
            "Enumerated nodes:               0\n",
            "Total iterations:               0\n",
            "Time (CPU seconds):             0.00\n",
            "Time (Wallclock seconds):       0.01\n",
            "\n",
            "Total time (CPU seconds):       0.00   (Wallclock seconds):       0.02\n",
            "\n",
            "Status: ok\n",
            "Use edge ('F', 'B') with reliability 0.8\n",
            "Use edge ('S', 'D') with reliability 0.7\n",
            "Use edge ('D', 'F') with reliability 0.9\n",
            "Use edge ('A', 'S') with reliability 0.9\n",
            "Objective (Maximized Log-Reliability): -0.7905395265685948\n"
          ]
        }
      ]
    }
  ]
}